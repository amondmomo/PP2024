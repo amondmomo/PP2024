{
  "cells": [
    {
      "cell_type": "markdown",
      "metadata": {},
      "source": [
        "# numpy + 행렬\n",
        "\n",
        "이정민  \n",
        "2025-09-02"
      ],
      "id": "e8d4f67b-2ed2-45db-bc62-939c01fbcfd9"
    },
    {
      "cell_type": "code",
      "execution_count": 1,
      "metadata": {},
      "outputs": [],
      "source": [
        "import numpy as np"
      ],
      "id": "cell-1"
    },
    {
      "cell_type": "markdown",
      "metadata": {},
      "source": [
        "# 1. 행렬\n",
        "\n",
        "## 1) 행렬 만들기\n",
        "\n",
        "-   행렬 만들 때 기본적으로 **np.array** 를 사용 해서 만들고, **리스트\n",
        "    or 튜플** 형태를 받아서 사용함."
      ],
      "id": "8553178d-1498-4b0c-b3de-a9c8e1dc8f78"
    },
    {
      "cell_type": "code",
      "execution_count": null,
      "metadata": {
        "outputId": "c4f8464f-3b42-4960-b980-6568282d5c08"
      },
      "outputs": [],
      "source": [
        "_list = [1,2,3]\n",
        "np.array(_list)"
      ],
      "id": "cell-5"
    },
    {
      "cell_type": "code",
      "execution_count": null,
      "metadata": {
        "outputId": "d41d83d1-77a3-4f31-cfc3-8fb067332bdb"
      },
      "outputs": [],
      "source": [
        "_list1 = [1,2,3]\n",
        "_list2 = [4,5,6]\n",
        "np.array([_list1,_list2]) # 리스트를 따로 받을 때는 대괄호 한번씩 더해줘야함"
      ],
      "id": "cell-6"
    },
    {
      "cell_type": "markdown",
      "metadata": {},
      "source": [
        "### 넘파이 행렬 함수 (1)\n",
        "\n",
        "-   **reshape**"
      ],
      "id": "31837886-e89a-4e59-907c-af3361592656"
    },
    {
      "cell_type": "code",
      "execution_count": null,
      "metadata": {
        "outputId": "4d6142f9-26d4-4b4a-f075-3ab08ab92f92"
      },
      "outputs": [],
      "source": [
        "a=np.array([11,22,33,44,55,66])\n",
        "a.reshape(2,3)"
      ],
      "id": "cell-9"
    },
    {
      "cell_type": "markdown",
      "metadata": {},
      "source": [
        "-   **arange**"
      ],
      "id": "9bfba9a6-5c02-4ed5-90b7-75251fd304df"
    },
    {
      "cell_type": "code",
      "execution_count": null,
      "metadata": {
        "outputId": "55a8482a-71ae-4adb-ee73-845152018fb7"
      },
      "outputs": [],
      "source": [
        "a = np.arange(5)\n",
        "b = np.arange(1,5)\n",
        "a,b"
      ],
      "id": "cell-11"
    },
    {
      "cell_type": "markdown",
      "metadata": {},
      "source": [
        "-   **linspace**"
      ],
      "id": "495aa394-404b-40f0-8003-387dc9cefdef"
    },
    {
      "cell_type": "code",
      "execution_count": null,
      "metadata": {
        "outputId": "9dfe6479-2ccc-477b-f850-ae1ac7f3ca54"
      },
      "outputs": [],
      "source": [
        "np.linspace(0,1,12) #0부터1까지 12개로 나눠서 배열선언"
      ],
      "id": "cell-13"
    },
    {
      "cell_type": "markdown",
      "metadata": {},
      "source": [
        "-   **역행렬 + 전치행렬 + 행렬곱**"
      ],
      "id": "a78591b5-d763-4fd1-a421-aee4bdf2307f"
    },
    {
      "cell_type": "code",
      "execution_count": null,
      "metadata": {
        "outputId": "e15fdc04-65e7-4ab6-e149-adb694d3f7c4"
      },
      "outputs": [],
      "source": [
        "A=np.arange(4).reshape(2,2)\n",
        "A.T #T는 전치행렬을 구해줌"
      ],
      "id": "cell-15"
    },
    {
      "cell_type": "code",
      "execution_count": null,
      "metadata": {
        "outputId": "a59df732-690f-4c63-aefd-1350befde244"
      },
      "outputs": [],
      "source": [
        "A=np.arange(4).reshape(2,2)\n",
        "np.linalg.inv(A) #np.linalg.inv는 역행렬을 구해줌"
      ],
      "id": "cell-16"
    },
    {
      "cell_type": "code",
      "execution_count": null,
      "metadata": {
        "outputId": "39344c3b-5dab-4742-c574-ea4cf7eb15ce"
      },
      "outputs": [],
      "source": [
        "A=np.arange(4).reshape(2,2)\n",
        "np.linalg.inv(A)\n",
        "A@np.linalg.inv(A) #@는 행렬곱을 구해줌"
      ],
      "id": "cell-17"
    },
    {
      "cell_type": "markdown",
      "metadata": {},
      "source": [
        "### 넘파이 행렬함수 (2)\n",
        "\n",
        "-   **zeros**"
      ],
      "id": "3014eacd-697c-4e13-99b2-b12b1d54646a"
    },
    {
      "cell_type": "code",
      "execution_count": null,
      "metadata": {
        "outputId": "df3c7cc6-329e-41de-f8e8-d19f85e6d689"
      },
      "outputs": [],
      "source": [
        "np.zeros(3)"
      ],
      "id": "cell-20"
    },
    {
      "cell_type": "markdown",
      "metadata": {},
      "source": [
        "-   **ones**"
      ],
      "id": "1f3f8999-977f-44ff-b8ff-d1dbca0a135d"
    },
    {
      "cell_type": "code",
      "execution_count": null,
      "metadata": {
        "outputId": "58e5066b-0253-4403-ab8a-7fd3995cdb36"
      },
      "outputs": [],
      "source": [
        "a = np.ones(3)\n",
        "b = np.ones((3,3))\n",
        "a,b"
      ],
      "id": "cell-22"
    },
    {
      "cell_type": "markdown",
      "metadata": {},
      "source": [
        "-   **eye**"
      ],
      "id": "5d3b4ecb-5115-49c9-990e-066336939254"
    },
    {
      "cell_type": "code",
      "execution_count": null,
      "metadata": {
        "outputId": "89399b01-e5b3-4edb-e856-139427f6afca"
      },
      "outputs": [],
      "source": [
        "np.eye(3)"
      ],
      "id": "cell-24"
    },
    {
      "cell_type": "markdown",
      "metadata": {},
      "source": [
        "-   **diag**"
      ],
      "id": "43021c09-fce3-46ad-bd84-dc71248f0a28"
    },
    {
      "cell_type": "code",
      "execution_count": null,
      "metadata": {
        "outputId": "9f52a754-62c0-41b8-acf1-18153ffc9961"
      },
      "outputs": [],
      "source": [
        "np.diag([2,3,4,-2])"
      ],
      "id": "cell-26"
    },
    {
      "cell_type": "markdown",
      "metadata": {},
      "source": [
        "## 행렬 인덱싱"
      ],
      "id": "fa02230e-4cd2-4669-8ba3-8be1b50cf8c0"
    },
    {
      "cell_type": "code",
      "execution_count": null,
      "metadata": {
        "outputId": "550915fd-1e4c-4782-b0e0-c9b90101ccf7"
      },
      "outputs": [],
      "source": [
        "A = [[1,2,3,4],[-1,-2,-3,-4],[5,6,7,8],[-5,-6,-7,-8]]\n",
        "A2 = np.array(A)\n",
        "A2"
      ],
      "id": "cell-28"
    },
    {
      "cell_type": "code",
      "execution_count": null,
      "metadata": {
        "outputId": "8bf4952e-4ee2-4868-9005-a71314958093"
      },
      "outputs": [],
      "source": [
        "A2[[0,2],:] #1행,3행 추출"
      ],
      "id": "cell-29"
    },
    {
      "cell_type": "code",
      "execution_count": null,
      "metadata": {
        "outputId": "d925a63b-b280-45bf-d898-f1fe91495c83"
      },
      "outputs": [],
      "source": [
        "A2[:,[0]]"
      ],
      "id": "cell-30"
    },
    {
      "cell_type": "code",
      "execution_count": null,
      "metadata": {
        "outputId": "f1389369-3ccf-41d6-e539-d5cf72634e00"
      },
      "outputs": [],
      "source": [
        "A2[:,0]"
      ],
      "id": "cell-31"
    }
  ],
  "nbformat": 4,
  "nbformat_minor": 5,
  "metadata": {
    "colab": {
      "authorship_tag": "ABX9TyOJXBQ+XdfcpKekJ03lAeRb",
      "include_colab_link": true,
      "provenance": []
    },
    "kernelspec": {
      "name": "python3",
      "display_name": "Python 3 (ipykernel)",
      "language": "python"
    },
    "language_info": {
      "name": "python",
      "codemirror_mode": {
        "name": "ipython",
        "version": "3"
      },
      "file_extension": ".py",
      "mimetype": "text/x-python",
      "nbconvert_exporter": "python",
      "pygments_lexer": "ipython3",
      "version": "3.10.13"
    }
  }
}