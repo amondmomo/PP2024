{
 "cells": [
  {
   "cell_type": "markdown",
   "id": "7c2d14f1-892f-47a5-b6b5-2ca3553d1b15",
   "metadata": {
    "jp-MarkdownHeadingCollapsed": true,
    "tags": []
   },
   "source": [
    "---\n",
    "title: \"터미널,디렉터리,패키지 및 코딩환경 관리\"\n",
    "author: \"이정민\"\n",
    "date: \"2024/07/11\"\n",
    "categories:\n",
    "  - server\n",
    "---"
   ]
  },
  {
   "cell_type": "markdown",
   "id": "943bd657-45e7-4a0d-838e-7ab2d0a5dbe4",
   "metadata": {},
   "source": [
    "# 서버접속"
   ]
  },
  {
   "cell_type": "markdown",
   "id": "fe7e1906-4255-4835-9347-8cbafb21304f",
   "metadata": {},
   "source": [
    "`ssh root@210.117.173.186 -p <port번호;학번뒷자리>` 서버 접속\n",
    "\n",
    "`jupyter lab --ip=\"0.0.0.0\" --port={MY-PORT} --no-browser --allow-root` 기본 주피터랩 접속 "
   ]
  },
  {
   "cell_type": "markdown",
   "id": "98e87260-2638-4579-927a-35cb7a8c4228",
   "metadata": {},
   "source": [
    "# 디렉토리 관리 리눅스 명령어"
   ]
  },
  {
   "cell_type": "markdown",
   "id": "037d3eb3-e03d-41f1-85d9-59dbec89805d",
   "metadata": {},
   "source": [
    "` dir ` -> 디렉토리 확인\n",
    "\n",
    "` mkdir ` -> 디렉토리 만들기\n",
    "\n",
    "` cd <dir> `  change dir 디렉토리(폴더) 안으로 들어가기\n",
    "\n",
    "`!<명령어>` 주피터 내에서 터미널 명령어 치는 방법\n",
    "\n",
    "`cd ..` 상위 디렉토리로 이동\n",
    "\n",
    "`rm -rf <dir>` 디렉토리 강제삭제\n",
    "\n",
    "`du -sh` 용량 확인\n",
    "\n",
    "`find / -size +100M` 대용량 파일 확인 ( 100MB 이상의 파일을 찾기 )\n",
    "\n",
    "`/(슬래시)찾는단어` 원하는 단어 찾기\n",
    "\n",
    "`esc` 누르고 `:wq` 저장 후 종료\n",
    "\n",
    " `i` 편집모드"
   ]
  },
  {
   "cell_type": "markdown",
   "id": "1a64b9a9-856f-401d-892f-824717032c96",
   "metadata": {},
   "source": [
    "# tmux (터미널 관리 프로그램)\n"
   ]
  },
  {
   "cell_type": "markdown",
   "id": "902d2a4b-87ac-41fa-9cb2-70ed857d6b88",
   "metadata": {
    "tags": []
   },
   "source": [
    "\n",
    "`apt-get install tmux` tmux 다운로드\n",
    "\n",
    "`tmux ls` 터미널 리스트 확인\n",
    "\n",
    "`tmux kill-session -t <session>` 터미널 session 삭제\n",
    "\n",
    "`tmux new -s <session_name>` session 만들기\n",
    "\n",
    "`tmux attach -t <session_name>` session에 접속\n",
    "\n",
    "`ctrl+b` + `손떼고` + `d` base에 접속"
   ]
  },
  {
   "cell_type": "markdown",
   "id": "bed492d7-0b71-4807-b8cb-3b860d8367a8",
   "metadata": {},
   "source": [
    "# 아나콘다를 이용 한 실습환경 만들기"
   ]
  },
  {
   "cell_type": "markdown",
   "id": "b333feb5-236d-4673-a4e1-fb3773231f05",
   "metadata": {},
   "source": [
    "`conda create <env>` conda 환경 생성\n",
    "\n",
    "`conda activate <env>` conda 환경 실행\n",
    "\n",
    "`conda env remove -n <env>` conda 환경 제거\n",
    "\n",
    "`conda install -c conda-forge r-essentials` r 다운로드\n",
    "\n",
    "`conda install -c conda-forge notebook` 주피터노트북 다운로드"
   ]
  },
  {
   "cell_type": "markdown",
   "id": "74204c6e-8703-44bb-9fe4-58c530a4bd9d",
   "metadata": {},
   "source": [
    "# 패키지(어플리케이션) 관리"
   ]
  },
  {
   "cell_type": "markdown",
   "id": "8dba6b82-b3ad-418c-aa2e-d026cc3657d0",
   "metadata": {},
   "source": [
    "\n",
    "`pip install <module>=<version>` 모듈 다운로드하기\n",
    "\n",
    "`pip list` 패키지 리스트와 버전 확인\n",
    "\n",
    "`!<module> --version` 모듈 버전 확인\n"
   ]
  },
  {
   "cell_type": "markdown",
   "id": "d211e7e0-f3a8-41bd-b5dc-5c903786751a",
   "metadata": {},
   "source": [
    "# 깃헙 블로그 관리"
   ]
  },
  {
   "cell_type": "markdown",
   "id": "2ba039d3-19c7-46eb-9c07-0e67193d0e19",
   "metadata": {},
   "source": [
    "`git clone {레포 주소}` : 깃헙 레포 복사\n",
    "\n",
    "`quarto create-project --type website --template blog` : 블로그 생성\n",
    "\n",
    "`quarto publish gh-pages` : Quarto 문서를 GitHub Pages에 배포\n",
    "\n",
    "`git add .` ->  `git commit -m .` -> `git push` : 깃헙 연동\n",
    "\n",
    "`quarto publish --no-browser --no-prompt` : 블로그 게시물 포스팅\n"
   ]
  },
  {
   "cell_type": "markdown",
   "id": "ada2efe2-3dc1-4e8f-9f40-2b6aa76efc71",
   "metadata": {},
   "source": [
    "# 기타 "
   ]
  },
  {
   "cell_type": "markdown",
   "id": "36893694-d691-43fa-ac64-aa09d6ec0407",
   "metadata": {},
   "source": [
    "\n",
    "`ctr shift p`  >create\n",
    "### 코드스페이스에서 새로운 환경 노트북 생성\n",
    "\n",
    "\n",
    "`./code tunnel` base에서 code 스페이스 실행 -> `https://vscode.dev/tunnel/<name>/`\n",
    "\n",
    "\n",
    "`> installspec()` 주피터 노트북에서 R사용하도록 함\n",
    "\n",
    "`torch.cuda.is_available` gpu 연결 확인 \n",
    "\n",
    "\n",
    "\n"
   ]
  },
  {
   "cell_type": "markdown",
   "id": "c45bf3d2-f25f-4e8c-a1c7-696c565d901a",
   "metadata": {},
   "source": [
    "# 주피터 커널 변경방법(파이썬 버전관리) "
   ]
  },
  {
   "cell_type": "markdown",
   "id": "e37cb94f-d5b1-4b54-8a3e-a5c8fbf64868",
   "metadata": {},
   "source": [
    "## 1. bash에서 가상환경 생성 및 활성화"
   ]
  },
  {
   "cell_type": "markdown",
   "id": "5352a1d6-afcf-47d6-b4af-444f15d8a0c4",
   "metadata": {},
   "source": [
    "`conda create -n py310 python=3.10.12` Python 3.10.12 가상환경 생성\n",
    "\n",
    "`conda activate py310`  가상환경 활성화"
   ]
  },
  {
   "cell_type": "markdown",
   "id": "b8f8585a-664d-4239-8172-8ef39b64c261",
   "metadata": {},
   "source": [
    "## 2. Jupyter에 커널 추가"
   ]
  },
  {
   "cell_type": "markdown",
   "id": "51e9f48f-0691-418d-b66a-a6489b5c002e",
   "metadata": {},
   "source": [
    "\n",
    "`pip install ipykernel` ipykernel 설치\n",
    " \n",
    "`python -m ipykernel install --user --name py310 --display-name \"Python 3.10.12\"`Jupyter에 Python 3.10.12 커널 추가"
   ]
  },
  {
   "cell_type": "markdown",
   "id": "17a45882-ef05-44ae-bc77-72f4e1aa1e86",
   "metadata": {},
   "source": [
    "# R언어 커널 만들기"
   ]
  },
  {
   "cell_type": "markdown",
   "id": "b0996dfd-f071-4bc9-8022-f93cd1d8ab7d",
   "metadata": {},
   "source": [
    "1. conda create --name my_r_env\n",
    "\n",
    "2. conda activate my_r_env\n",
    "\n",
    "3. conda install -c conda-forge r-base=4.4.1\n",
    "\n",
    "4. conda install -c {my_r_env} r-irkernel\n",
    "\n",
    "5. 주피터 설치 (conda install -c conda-forge notebook)\n",
    "\n",
    "6. 명령프럼프트에서 -> IRkernel::installspec(name = 'my_r_env', displayname = 'Custom R Kernel')\n"
   ]
  },
  {
   "cell_type": "code",
   "execution_count": null,
   "id": "c92cbab0-cc20-4e3d-879d-2db15653b9a2",
   "metadata": {},
   "outputs": [],
   "source": []
  }
 ],
 "metadata": {
  "kernelspec": {
   "display_name": "Python 3 (ipykernel)",
   "language": "python",
   "name": "python3"
  },
  "language_info": {
   "codemirror_mode": {
    "name": "ipython",
    "version": 3
   },
   "file_extension": ".py",
   "mimetype": "text/x-python",
   "name": "python",
   "nbconvert_exporter": "python",
   "pygments_lexer": "ipython3",
   "version": "3.13.0"
  }
 },
 "nbformat": 4,
 "nbformat_minor": 5
}
