{
 "cells": [
  {
   "cell_type": "markdown",
   "id": "7c2d14f1-892f-47a5-b6b5-2ca3553d1b15",
   "metadata": {},
   "source": [
    "`서버 접속` ssh root@210.117.173.186 -p 15820 \n",
    "\n",
    "` dir ` -> 디렉토리 확인\n",
    "\n",
    "` mkdir ` -> 디렉토리 만들기\n",
    "\n",
    "` cd <dir> `  change dir 디렉토리(폴더) 안으로 들어가기\n",
    "\n",
    "`!<명령어>` 주피터 내에서 터미널 명령어 치는 방법\n",
    "\n",
    "`cd ..` 상위 디렉토리로 이동\n",
    "\n",
    "`rm -rf <dir>` 디렉토리 강제삭제\n",
    "\n",
    "`du -sh` 용량 확인\n",
    "\n",
    "`ctr shift p`  >create\n",
    "\n",
    "`./code tunnel` code스페이스 실행 -> `https://vscode.dev/tunnel/amond/`\n",
    "\n",
    "`conda create <env>` conda 환경 생성\n",
    "\n",
    "`conda activate <env>` conda 환경 실행\n",
    "\n",
    "`conda env remove -n <env>` conda 환경 제거\n",
    "\n",
    "`pip install <module>=<version>` 모듈 다운로드하기\n",
    "\n",
    "`pip list` 패키지 리스트와 버전 확인\n",
    "\n",
    "`!<module> --version` 모듈 버전 확인\n",
    "\n",
    "`conda install -c conda-forge r-essentials` r 다운로드\n",
    "\n",
    "`conda install -c conda-forge notebook` 주피터노트북 다운로드\n",
    "\n",
    "`> library(IRkernel)`\n",
    "`> installspec()` 주피터 노트북에서 R사용하도록 함\n",
    "\n",
    "`torch.cuda."
   ]
  },
  {
   "cell_type": "code",
   "execution_count": 3,
   "id": "5716519e-92af-46bb-84d7-6fb599e6e754",
   "metadata": {},
   "outputs": [
    {
     "name": "stdout",
     "output_type": "stream",
     "text": [
      "24K\t.\n"
     ]
    }
   ],
   "source": [
    "!du -sh"
   ]
  },
  {
   "cell_type": "code",
   "execution_count": null,
   "id": "3f78cdf2-e7e1-404c-bb1d-542f4000a0da",
   "metadata": {},
   "outputs": [],
   "source": [
    "1.26.3"
   ]
  },
  {
   "cell_type": "code",
   "execution_count": null,
   "id": "f966ee80-94fa-47ff-8b95-308afd5831bc",
   "metadata": {},
   "outputs": [],
   "source": []
  },
  {
   "cell_type": "code",
   "execution_count": null,
   "id": "c4a9a976-d5cb-4443-984d-7591db082632",
   "metadata": {},
   "outputs": [],
   "source": []
  }
 ],
 "metadata": {
  "kernelspec": {
   "display_name": "Python 3 (ipykernel)",
   "language": "python",
   "name": "python3"
  },
  "language_info": {
   "codemirror_mode": {
    "name": "ipython",
    "version": 3
   },
   "file_extension": ".py",
   "mimetype": "text/x-python",
   "name": "python",
   "nbconvert_exporter": "python",
   "pygments_lexer": "ipython3",
   "version": "3.11.5"
  }
 },
 "nbformat": 4,
 "nbformat_minor": 5
}
