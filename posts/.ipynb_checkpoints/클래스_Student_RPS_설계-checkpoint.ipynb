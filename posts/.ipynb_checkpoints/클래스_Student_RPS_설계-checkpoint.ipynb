{
 "cells": [
  {
   "cell_type": "raw",
   "metadata": {},
   "source": [
    "---\n",
    "title: \"클래스_Student/RPS_설계\"\n",
    "author: \"이정민\"\n",
    "date: \"25/02/2024\"\n",
    "categories:\n",
    "  - class \n",
    "---"
   ]
  },
  {
   "cell_type": "code",
   "execution_count": 1,
   "metadata": {
    "id": "kCEtjGZMA6yj"
   },
   "outputs": [],
   "source": [
    "from IPython.core.display import HTML\n",
    "import numpy as np\n",
    "import pandas as pd"
   ]
  },
  {
   "cell_type": "markdown",
   "metadata": {
    "id": "vfFGmDH_JeCs"
   },
   "source": [
    "`*` **중요** `*`\n",
    "\n",
    "사실 파이썬의 list도 클래스 종류임\n",
    "\n",
    "리스트 입력 값은 `__init__` 메소드의 입력값"
   ]
  },
  {
   "cell_type": "code",
   "execution_count": 33,
   "metadata": {
    "colab": {
     "base_uri": "https://localhost:8080/"
    },
    "id": "zxKUP3f-ZG8G",
    "outputId": "37b5ca20-1b4a-432f-cd7f-41c0c1e2d6af"
   },
   "outputs": [
    {
     "data": {
      "text/plain": [
       "['1', '2', '3']"
      ]
     },
     "execution_count": 33,
     "metadata": {},
     "output_type": "execute_result"
    }
   ],
   "source": [
    "a = '123'\n",
    "list(a)"
   ]
  },
  {
   "cell_type": "code",
   "execution_count": 39,
   "metadata": {
    "colab": {
     "base_uri": "https://localhost:8080/"
    },
    "id": "mvgnWy25beut",
    "outputId": "18418627-f9df-4f59-8383-3e4b3c207540"
   },
   "outputs": [
    {
     "data": {
      "text/plain": [
       "['1', '2', '3']"
      ]
     },
     "execution_count": 39,
     "metadata": {},
     "output_type": "execute_result"
    }
   ],
   "source": [
    "a = list()\n",
    "a.__init__('123')\n",
    "a"
   ]
  },
  {
   "cell_type": "code",
   "execution_count": null,
   "metadata": {
    "id": "WFUUpsgjbt7V"
   },
   "outputs": [],
   "source": [
    "a = list()\n",
    "a"
   ]
  },
  {
   "cell_type": "code",
   "execution_count": 55,
   "metadata": {
    "colab": {
     "base_uri": "https://localhost:8080/"
    },
    "id": "3a0fxK9vgcsx",
    "outputId": "c73fd795-eefb-4ccf-ca98-7467a32d5f37"
   },
   "outputs": [
    {
     "data": {
      "text/plain": [
       "array([[0, 1],\n",
       "       [2, 3]])"
      ]
     },
     "execution_count": 55,
     "metadata": {},
     "output_type": "execute_result"
    }
   ],
   "source": [
    "a= np.arange(4).reshape(2,2)\n",
    "a"
   ]
  },
  {
   "cell_type": "code",
   "execution_count": 42,
   "metadata": {
    "colab": {
     "base_uri": "https://localhost:8080/",
     "height": 35
    },
    "id": "-DsQD3LygdgG",
    "outputId": "289319de-a19b-4e1b-c325-b318a4698e88"
   },
   "outputs": [
    {
     "data": {
      "application/vnd.google.colaboratory.intrinsic+json": {
       "type": "string"
      },
      "text/plain": [
       "'[[0 1]\\n [2 3]]'"
      ]
     },
     "execution_count": 42,
     "metadata": {},
     "output_type": "execute_result"
    }
   ],
   "source": [
    "a.__str__()"
   ]
  },
  {
   "cell_type": "code",
   "execution_count": 43,
   "metadata": {
    "colab": {
     "base_uri": "https://localhost:8080/",
     "height": 35
    },
    "id": "FRNPQOmxggg5",
    "outputId": "4ae7a1a7-b24c-4948-da69-4c42972449b2"
   },
   "outputs": [
    {
     "data": {
      "application/vnd.google.colaboratory.intrinsic+json": {
       "type": "string"
      },
      "text/plain": [
       "'array([[0, 1],\\n       [2, 3]])'"
      ]
     },
     "execution_count": 43,
     "metadata": {},
     "output_type": "execute_result"
    }
   ],
   "source": [
    "a.__repr__()"
   ]
  },
  {
   "cell_type": "code",
   "execution_count": 59,
   "metadata": {
    "colab": {
     "base_uri": "https://localhost:8080/"
    },
    "id": "8is1M3dPgmKg",
    "outputId": "c2446dbc-ad0b-494b-88ce-e78f4eca2ebb"
   },
   "outputs": [
    {
     "name": "stdout",
     "output_type": "stream",
     "text": [
      "[[0 1]\n",
      " [2 3]]\n"
     ]
    }
   ],
   "source": [
    "print(a.__str__())"
   ]
  },
  {
   "cell_type": "markdown",
   "metadata": {
    "id": "usgIMypKhaTO"
   },
   "source": [
    "## `__str__` 과 `__repr__`의 차이"
   ]
  },
  {
   "cell_type": "markdown",
   "metadata": {
    "id": "V4H3qYKogxNR"
   },
   "source": [
    "print(ins) == print(ins.`__str__`)"
   ]
  },
  {
   "cell_type": "code",
   "execution_count": 63,
   "metadata": {
    "colab": {
     "base_uri": "https://localhost:8080/"
    },
    "id": "2fWINjKRhjFx",
    "outputId": "a9698e7f-c2e1-4c77-8266-3e2a3713e2d2"
   },
   "outputs": [
    {
     "name": "stdout",
     "output_type": "stream",
     "text": [
      "[[0 1]\n",
      " [2 3]]\n",
      "[[0 1]\n",
      " [2 3]]\n"
     ]
    },
    {
     "data": {
      "text/plain": [
       "(None, None)"
      ]
     },
     "execution_count": 63,
     "metadata": {},
     "output_type": "execute_result"
    }
   ],
   "source": [
    "a= np.arange(4).reshape(2,2)\n",
    "(print(a),print(a.__str__()))"
   ]
  },
  {
   "cell_type": "markdown",
   "metadata": {
    "id": "6MOQUvRIhWS5"
   },
   "source": [
    "ins = print(ins.`__repr__`)"
   ]
  },
  {
   "cell_type": "code",
   "execution_count": 70,
   "metadata": {
    "colab": {
     "base_uri": "https://localhost:8080/"
    },
    "id": "FZTqTjGDhqOK",
    "outputId": "aa0a3fd9-39fd-4c6f-b3fd-684957c5c897"
   },
   "outputs": [
    {
     "name": "stdout",
     "output_type": "stream",
     "text": [
      "array([[0, 1],\n",
      "       [2, 3]])\n"
     ]
    },
    {
     "data": {
      "text/plain": [
       "(array([[0, 1],\n",
       "        [2, 3]]),\n",
       " None)"
      ]
     },
     "execution_count": 70,
     "metadata": {},
     "output_type": "execute_result"
    }
   ],
   "source": [
    "a= np.arange(4).reshape(2,2)\n",
    "a,print(a.__repr__())"
   ]
  },
  {
   "cell_type": "markdown",
   "metadata": {
    "id": "Oh-pc5RptOSF"
   },
   "source": [
    "## 13wk-2 과제"
   ]
  },
  {
   "cell_type": "markdown",
   "metadata": {
    "id": "gz86QShftXJs"
   },
   "source": [
    "`1.` Student 클래스 설계"
   ]
  },
  {
   "cell_type": "code",
   "execution_count": 92,
   "metadata": {
    "id": "zh0NEhxXtYJG"
   },
   "outputs": [],
   "source": [
    "class Student:\n",
    "  def __init__(self,name,age,semester):\n",
    "    self.name = name\n",
    "    self.age = age\n",
    "    self.semester = semester\n",
    "  def __str__(self):\n",
    "    print_str = '''이름: {}\\n나이: {}\\n학기: {}'''.format(self.name,self.age,self.semester)\n",
    "    return print_str"
   ]
  },
  {
   "cell_type": "code",
   "execution_count": 93,
   "metadata": {
    "colab": {
     "base_uri": "https://localhost:8080/"
    },
    "id": "RE0rVtUBue3s",
    "outputId": "836f8333-0d82-4113-909d-6fc41e9784bb"
   },
   "outputs": [
    {
     "name": "stdout",
     "output_type": "stream",
     "text": [
      "이름: 김보람\n",
      "나이: 20\n",
      "학기: 1\n"
     ]
    }
   ],
   "source": [
    "# 사용 예시\n",
    "boram = Student(name='김보람', age=20, semester=1)\n",
    "print(boram)"
   ]
  },
  {
   "cell_type": "code",
   "execution_count": 95,
   "metadata": {
    "colab": {
     "base_uri": "https://localhost:8080/"
    },
    "id": "lHsGt7SDvr7L",
    "outputId": "48b3ca1e-bc0d-4a4a-ccab-1eaef966b1ca"
   },
   "outputs": [
    {
     "name": "stdout",
     "output_type": "stream",
     "text": [
      "이름: 김 폴\n",
      "나이: 22\n",
      "학기: 2\n"
     ]
    }
   ],
   "source": [
    "# 사용 예시\n",
    "Paul = Student(name='김 폴', age=22, semester=2)\n",
    "print(Paul)"
   ]
  },
  {
   "cell_type": "markdown",
   "metadata": {
    "id": "Ra-In5vDxEFS"
   },
   "source": [
    "`2.` RPS 클래스 설계 (1)"
   ]
  },
  {
   "cell_type": "code",
   "execution_count": 132,
   "metadata": {
    "id": "tWyYjEgexKpK"
   },
   "outputs": [],
   "source": [
    "class RPS:\n",
    "  def __init__(self,candidate):\n",
    "    self.candidate = candidate\n",
    "    self.actions = []\n",
    "  def pick(self):\n",
    "    self.actions.append(np.random.choice(self.candidate))\n",
    "  def _repr_html_(self):\n",
    "    html_str = '''\n",
    "      낼 수 있는 패: {}<br>\n",
    "      기록: {}\n",
    "      '''\n",
    "    return html_str.format(self.candidate,self.actions)"
   ]
  },
  {
   "cell_type": "code",
   "execution_count": 134,
   "metadata": {
    "colab": {
     "base_uri": "https://localhost:8080/",
     "height": 52
    },
    "id": "cCyWBXZlzEJ-",
    "outputId": "ad5679f4-6aeb-46ad-965d-6feb4e719fa7"
   },
   "outputs": [
    {
     "data": {
      "text/html": [
       "\n",
       "      낼 수 있는 패: ['가위', '바위', '보']<br>\n",
       "      기록: ['바위']\n",
       "      "
      ],
      "text/plain": [
       "<__main__.RPS at 0x79ac1ce15ea0>"
      ]
     },
     "execution_count": 134,
     "metadata": {},
     "output_type": "execute_result"
    }
   ],
   "source": [
    "a = RPS(['가위','바위','보'])\n",
    "a.pick()\n",
    "a"
   ]
  },
  {
   "cell_type": "code",
   "execution_count": 128,
   "metadata": {
    "id": "fLybv6X8zBBk"
   },
   "outputs": [],
   "source": [
    "a = RPS(['가위','바위','보'])"
   ]
  },
  {
   "cell_type": "code",
   "execution_count": 129,
   "metadata": {
    "colab": {
     "base_uri": "https://localhost:8080/"
    },
    "id": "dlhIrrLtxHgP",
    "outputId": "764440c4-5931-42cf-a526-02d679e91071"
   },
   "outputs": [
    {
     "data": {
      "text/plain": [
       "(['가위', '바위', '보'], [])"
      ]
     },
     "execution_count": 129,
     "metadata": {},
     "output_type": "execute_result"
    }
   ],
   "source": [
    "a.candidate, a.actions"
   ]
  },
  {
   "cell_type": "code",
   "execution_count": 130,
   "metadata": {
    "colab": {
     "base_uri": "https://localhost:8080/",
     "height": 52
    },
    "id": "vqv0X4010gqG",
    "outputId": "f4159af3-c5c6-4f21-d67b-9c0e9c85987e"
   },
   "outputs": [
    {
     "data": {
      "text/html": [
       "\n",
       "      낼 수 있는 패: ['가위', '바위', '보']<br>\n",
       "      기록: []\n",
       "      "
      ],
      "text/plain": [
       "<__main__.RPS at 0x79ac5840bca0>"
      ]
     },
     "execution_count": 130,
     "metadata": {},
     "output_type": "execute_result"
    }
   ],
   "source": [
    "a"
   ]
  },
  {
   "cell_type": "code",
   "execution_count": 137,
   "metadata": {
    "colab": {
     "base_uri": "https://localhost:8080/",
     "height": 52
    },
    "id": "M8UjGX8N0htN",
    "outputId": "6db26be0-b93a-42cf-b363-5117b5c56c8d"
   },
   "outputs": [
    {
     "data": {
      "text/html": [
       "\n",
       "      낼 수 있는 패: ['가위', '바위', '보']<br>\n",
       "      기록: ['바위', '보', '보', '가위', '가위', '바위', '보', '보', '바위', '보', '바위', '보', '바위', '바위', '바위', '가위']\n",
       "      "
      ],
      "text/plain": [
       "<__main__.RPS at 0x79ac1ce15ea0>"
      ]
     },
     "execution_count": 137,
     "metadata": {},
     "output_type": "execute_result"
    }
   ],
   "source": [
    "for i in range(5):\n",
    "    a.pick()"
   ]
  },
  {
   "cell_type": "markdown",
   "metadata": {
    "id": "vopPveTn1rjL"
   },
   "source": [
    "`3.` RPS 설계 (2)"
   ]
  },
  {
   "cell_type": "code",
   "execution_count": 202,
   "metadata": {
    "id": "W3IaimEL2lqT"
   },
   "outputs": [],
   "source": [
    "a = RPS(['가위','보'])\n",
    "b = RPS(['가위'])\n",
    "rslt = []\n",
    "for i in range(100):\n",
    "  a.pick()\n",
    "  b.pick()\n",
    "  if a.actions[-1] =='가위' and b.actions[-1] =='가위':\n",
    "    rslt.append('-')\n",
    "  elif a.actions[-1] =='보' and b.actions[-1] =='가위':\n",
    "    rslt.append('b')\n",
    "  else:\n",
    "    rslt.append('a')"
   ]
  },
  {
   "cell_type": "code",
   "execution_count": 203,
   "metadata": {
    "colab": {
     "base_uri": "https://localhost:8080/"
    },
    "id": "lOsTP8Pi5G2j",
    "outputId": "e5c28d67-89df-4711-b212-65fb403bafc9"
   },
   "outputs": [
    {
     "data": {
      "text/plain": [
       "{'a의승리': 0, '무승부': 53, 'b의승리': 47}"
      ]
     },
     "execution_count": 203,
     "metadata": {},
     "output_type": "execute_result"
    }
   ],
   "source": [
    "{'a의승리':rslt.count('a'),'무승부':rslt.count('-'),'b의승리':rslt.count('b')}"
   ]
  },
  {
   "cell_type": "markdown",
   "metadata": {
    "id": "etBRzSB_H5sA"
   },
   "source": [
    "`4.`RPS설계 (3)"
   ]
  },
  {
   "cell_type": "code",
   "execution_count": 222,
   "metadata": {
    "id": "jMdNc-d-H6Ch"
   },
   "outputs": [],
   "source": [
    "a = RPS(['가위','보'])\n",
    "b = RPS(['가위','바위'])\n",
    "rslt = []\n",
    "for i in range(100):\n",
    "  a.pick()\n",
    "  b.pick()\n",
    "  if a.actions[-1] =='가위' and b.actions[-1] =='가위':\n",
    "    rslt.append('-')\n",
    "  elif a.actions[-1] =='보' and b.actions[-1] =='가위':\n",
    "    rslt.append('b')\n",
    "  elif a.actions[-1] =='가위' and b.actions[-1] =='바위':\n",
    "    rslt.append('b')\n",
    "  else:\n",
    "    rslt.append('a')"
   ]
  },
  {
   "cell_type": "code",
   "execution_count": 223,
   "metadata": {
    "colab": {
     "base_uri": "https://localhost:8080/"
    },
    "id": "1pWpkVotII25",
    "outputId": "7b3f74f0-7074-48b4-dcbf-c6d5f7abbfcc"
   },
   "outputs": [
    {
     "data": {
      "text/plain": [
       "{'a의승리': 21, '무승부': 29, 'b의승리': 50}"
      ]
     },
     "execution_count": 223,
     "metadata": {},
     "output_type": "execute_result"
    }
   ],
   "source": [
    "{'a의승리':rslt.count('a'),'무승부':rslt.count('-'),'b의승리':rslt.count('b')}"
   ]
  }
 ],
 "metadata": {
  "colab": {
   "provenance": []
  },
  "kernelspec": {
   "display_name": "Python 3 (ipykernel)",
   "language": "python",
   "name": "python3"
  },
  "language_info": {
   "codemirror_mode": {
    "name": "ipython",
    "version": 3
   },
   "file_extension": ".py",
   "mimetype": "text/x-python",
   "name": "python",
   "nbconvert_exporter": "python",
   "pygments_lexer": "ipython3",
   "version": "3.10.13"
  }
 },
 "nbformat": 4,
 "nbformat_minor": 4
}
