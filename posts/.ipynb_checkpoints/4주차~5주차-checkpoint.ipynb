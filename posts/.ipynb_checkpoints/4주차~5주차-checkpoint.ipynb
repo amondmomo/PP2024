{
 "cells": [
  {
   "cell_type": "raw",
   "metadata": {},
   "source": [
    "---\n",
    "title: \"4주차~5주차\"\n",
    "author: \"이정민\"\n",
    "date: \"2024/04/07\"\n",
    "categories:\n",
    "  - numpy\n",
    "---"
   ]
  },
  {
   "cell_type": "code",
   "execution_count": null,
   "metadata": {
    "id": "yspxiGmZmCPm"
   },
   "outputs": [],
   "source": [
    "import numpy as np"
   ]
  },
  {
   "cell_type": "markdown",
   "metadata": {
    "id": "z_2ijJjbmh3u"
   },
   "source": [
    "# 1. 형태변환"
   ]
  },
  {
   "cell_type": "markdown",
   "metadata": {
    "id": "vL_iKgX7nMTa"
   },
   "source": [
    "## 사용자 형태변환"
   ]
  },
  {
   "cell_type": "code",
   "execution_count": null,
   "metadata": {
    "colab": {
     "base_uri": "https://localhost:8080/"
    },
    "id": "Vg3dmkylmk8M",
    "outputId": "24c3eb22-572d-4bc2-ed63-80e139233aa2"
   },
   "outputs": [
    {
     "data": {
      "text/plain": [
       "float"
      ]
     },
     "execution_count": 2,
     "metadata": {},
     "output_type": "execute_result"
    }
   ],
   "source": [
    "a=3.0\n",
    "type(a)"
   ]
  },
  {
   "cell_type": "code",
   "execution_count": null,
   "metadata": {
    "colab": {
     "base_uri": "https://localhost:8080/"
    },
    "id": "n_PEHUp4mjUf",
    "outputId": "f10f9c64-5d2b-44ce-cf20-398f29f01e05"
   },
   "outputs": [
    {
     "data": {
      "text/plain": [
       "3"
      ]
     },
     "execution_count": 4,
     "metadata": {},
     "output_type": "execute_result"
    }
   ],
   "source": [
    "int(a)"
   ]
  },
  {
   "cell_type": "code",
   "execution_count": null,
   "metadata": {
    "colab": {
     "base_uri": "https://localhost:8080/"
    },
    "id": "b4nUIT0Zmczr",
    "outputId": "8fdf9c34-6e90-4d9b-91c1-3019d8e2db42"
   },
   "outputs": [
    {
     "data": {
      "text/plain": [
       "True"
      ]
     },
     "execution_count": 6,
     "metadata": {},
     "output_type": "execute_result"
    }
   ],
   "source": [
    "bool(a)"
   ]
  },
  {
   "cell_type": "code",
   "execution_count": null,
   "metadata": {
    "id": "IsMN3IPrm7Im"
   },
   "outputs": [],
   "source": [
    "float(3+0j) # 사실상 3+0j=3 이므로 float으로 형변환하면 3.0이 되어야 할 것 같은데 변환불가능\n",
    "# complex(복소수형) 는 float으로 형태변환 불가능"
   ]
  },
  {
   "cell_type": "markdown",
   "metadata": {
    "id": "6-eIjHtnnO8W"
   },
   "source": [
    "## 암묵적 형태변환"
   ]
  },
  {
   "cell_type": "code",
   "execution_count": null,
   "metadata": {
    "colab": {
     "base_uri": "https://localhost:8080/"
    },
    "id": "QUqA1_4knRyl",
    "outputId": "cd816ab9-0060-441d-f16e-706845ab8d83"
   },
   "outputs": [
    {
     "data": {
      "text/plain": [
       "1"
      ]
     },
     "execution_count": 8,
     "metadata": {},
     "output_type": "execute_result"
    }
   ],
   "source": [
    "True * 1"
   ]
  },
  {
   "cell_type": "code",
   "execution_count": null,
   "metadata": {
    "colab": {
     "base_uri": "https://localhost:8080/"
    },
    "id": "x6J4TQ72nHJx",
    "outputId": "64855dbe-120a-4171-9cb0-557b171a4b42"
   },
   "outputs": [
    {
     "data": {
      "text/plain": [
       "2"
      ]
     },
     "execution_count": 9,
     "metadata": {},
     "output_type": "execute_result"
    }
   ],
   "source": [
    "True+True #"
   ]
  },
  {
   "cell_type": "code",
   "execution_count": null,
   "metadata": {
    "colab": {
     "base_uri": "https://localhost:8080/"
    },
    "id": "yVXm_sYTnGWI",
    "outputId": "8c07582f-0675-456a-ce42-c7a7a1a7b7c5"
   },
   "outputs": [
    {
     "data": {
      "text/plain": [
       "1.0"
      ]
     },
     "execution_count": 10,
     "metadata": {},
     "output_type": "execute_result"
    }
   ],
   "source": [
    "1 * 1.0"
   ]
  },
  {
   "cell_type": "markdown",
   "metadata": {
    "id": "Z0hZTVlcna2O"
   },
   "source": [
    "# 2. **`string`**"
   ]
  },
  {
   "cell_type": "markdown",
   "metadata": {
    "id": "6afd1zAvnzmn"
   },
   "source": [
    "## A. 선언"
   ]
  },
  {
   "cell_type": "code",
   "execution_count": null,
   "metadata": {
    "colab": {
     "base_uri": "https://localhost:8080/",
     "height": 35
    },
    "id": "TxeJZ3V4nc1F",
    "outputId": "72fa231c-3e30-428c-de40-9775c694ec68"
   },
   "outputs": [
    {
     "data": {
      "application/vnd.google.colaboratory.intrinsic+json": {
       "type": "string"
      },
      "text/plain": [
       "'guebin'"
      ]
     },
     "execution_count": 12,
     "metadata": {},
     "output_type": "execute_result"
    }
   ],
   "source": [
    "# 선언(작은 따옴표)\n",
    "a='guebin'\n",
    "a"
   ]
  },
  {
   "cell_type": "code",
   "execution_count": null,
   "metadata": {
    "colab": {
     "base_uri": "https://localhost:8080/",
     "height": 35
    },
    "id": "EdC9LGgPni-N",
    "outputId": "a7326506-8ba4-4df5-d37d-4cf76c9ce47c"
   },
   "outputs": [
    {
     "data": {
      "application/vnd.google.colaboratory.intrinsic+json": {
       "type": "string"
      },
      "text/plain": [
       "\"asdf'a'sdf\""
      ]
     },
     "execution_count": 14,
     "metadata": {},
     "output_type": "execute_result"
    }
   ],
   "source": [
    "# 선언(큰 따옴표) -> 작은따옴표를 안에 넣을 수 있음\n",
    "a=\"asdf'a'sdf\"\n",
    "a"
   ]
  },
  {
   "cell_type": "markdown",
   "metadata": {
    "id": "S7O6u5Atn1qZ"
   },
   "source": [
    "## B. 연산"
   ]
  },
  {
   "cell_type": "markdown",
   "metadata": {
    "id": "9Ec37elxn4H6"
   },
   "source": [
    "`-` 더하기 연산 가능"
   ]
  },
  {
   "cell_type": "code",
   "execution_count": null,
   "metadata": {
    "id": "6bgym1wfn6a9"
   },
   "outputs": [],
   "source": [
    "a='X'\n",
    "b='2'"
   ]
  },
  {
   "cell_type": "markdown",
   "metadata": {
    "id": "g1xmme1Pn_8C"
   },
   "source": [
    "`-` 뺄셈 연산 불가능"
   ]
  },
  {
   "cell_type": "code",
   "execution_count": null,
   "metadata": {
    "colab": {
     "base_uri": "https://localhost:8080/",
     "height": 184
    },
    "id": "hoCEh1EMntiz",
    "outputId": "cd475b10-0eb9-452c-b1e5-8989149d45d9"
   },
   "outputs": [
    {
     "ename": "TypeError",
     "evalue": "unsupported operand type(s) for -: 'str' and 'str'",
     "output_type": "error",
     "traceback": [
      "\u001b[0;31m---------------------------------------------------------------------------\u001b[0m",
      "\u001b[0;31mTypeError\u001b[0m                                 Traceback (most recent call last)",
      "\u001b[0;32m<ipython-input-16-789e88866764>\u001b[0m in \u001b[0;36m<cell line: 3>\u001b[0;34m()\u001b[0m\n\u001b[1;32m      1\u001b[0m \u001b[0ma\u001b[0m\u001b[0;34m=\u001b[0m\u001b[0;34m'X2'\u001b[0m\u001b[0;34m\u001b[0m\u001b[0;34m\u001b[0m\u001b[0m\n\u001b[1;32m      2\u001b[0m \u001b[0mb\u001b[0m\u001b[0;34m=\u001b[0m\u001b[0;34m'2'\u001b[0m\u001b[0;34m\u001b[0m\u001b[0;34m\u001b[0m\u001b[0m\n\u001b[0;32m----> 3\u001b[0;31m \u001b[0ma\u001b[0m\u001b[0;34m-\u001b[0m\u001b[0mb\u001b[0m\u001b[0;34m\u001b[0m\u001b[0;34m\u001b[0m\u001b[0m\n\u001b[0m",
      "\u001b[0;31mTypeError\u001b[0m: unsupported operand type(s) for -: 'str' and 'str'"
     ]
    }
   ],
   "source": [
    "a='X2'\n",
    "b='2'\n",
    "a-b"
   ]
  },
  {
   "cell_type": "markdown",
   "metadata": {
    "id": "DD-v43WSoE8h"
   },
   "source": [
    "`-` 곱셈 -> `string`의 반복을 의미"
   ]
  },
  {
   "cell_type": "code",
   "execution_count": null,
   "metadata": {
    "colab": {
     "base_uri": "https://localhost:8080/",
     "height": 35
    },
    "id": "jWxCgLeXoJAF",
    "outputId": "aa1906eb-9f13-497e-97b2-9b6d852f6e24"
   },
   "outputs": [
    {
     "data": {
      "application/vnd.google.colaboratory.intrinsic+json": {
       "type": "string"
      },
      "text/plain": [
       "'XXX'"
      ]
     },
     "execution_count": 17,
     "metadata": {},
     "output_type": "execute_result"
    }
   ],
   "source": [
    "a='X'\n",
    "b=3\n",
    "a*b"
   ]
  },
  {
   "cell_type": "markdown",
   "metadata": {
    "id": "_dM989dGoPFA"
   },
   "source": [
    "`-` 나눗셈 불가능"
   ]
  },
  {
   "cell_type": "code",
   "execution_count": null,
   "metadata": {
    "colab": {
     "base_uri": "https://localhost:8080/",
     "height": 166
    },
    "id": "0N7hsf7goQOk",
    "outputId": "2b54897b-01bb-40ca-dbf8-7a4c4cc4f028"
   },
   "outputs": [
    {
     "ename": "TypeError",
     "evalue": "unsupported operand type(s) for /: 'str' and 'int'",
     "output_type": "error",
     "traceback": [
      "\u001b[0;31m---------------------------------------------------------------------------\u001b[0m",
      "\u001b[0;31mTypeError\u001b[0m                                 Traceback (most recent call last)",
      "\u001b[0;32m<ipython-input-18-b24706e44df5>\u001b[0m in \u001b[0;36m<cell line: 2>\u001b[0;34m()\u001b[0m\n\u001b[1;32m      1\u001b[0m \u001b[0ma\u001b[0m\u001b[0;34m=\u001b[0m\u001b[0;34m'XX'\u001b[0m\u001b[0;34m\u001b[0m\u001b[0;34m\u001b[0m\u001b[0m\n\u001b[0;32m----> 2\u001b[0;31m \u001b[0ma\u001b[0m\u001b[0;34m/\u001b[0m\u001b[0;36m2\u001b[0m\u001b[0;34m\u001b[0m\u001b[0;34m\u001b[0m\u001b[0m\n\u001b[0m",
      "\u001b[0;31mTypeError\u001b[0m: unsupported operand type(s) for /: 'str' and 'int'"
     ]
    }
   ],
   "source": [
    "a='XX'\n",
    "a/2"
   ]
  },
  {
   "cell_type": "markdown",
   "metadata": {
    "id": "Kp0M3dDhomdS"
   },
   "source": [
    "## C. 인덱싱"
   ]
  },
  {
   "cell_type": "code",
   "execution_count": null,
   "metadata": {
    "colab": {
     "base_uri": "https://localhost:8080/",
     "height": 35
    },
    "id": "7-lkNFEoon4t",
    "outputId": "e34d9ee1-5509-4553-f58f-ae84becd74bb"
   },
   "outputs": [
    {
     "data": {
      "application/vnd.google.colaboratory.intrinsic+json": {
       "type": "string"
      },
      "text/plain": [
       "'a'"
      ]
     },
     "execution_count": 19,
     "metadata": {},
     "output_type": "execute_result"
    }
   ],
   "source": [
    "a='amond'\n",
    "a[0]"
   ]
  },
  {
   "cell_type": "code",
   "execution_count": null,
   "metadata": {
    "colab": {
     "base_uri": "https://localhost:8080/",
     "height": 35
    },
    "id": "yj4TcsRgmxti",
    "outputId": "fa1eb4cc-6f35-4347-ba5b-6383e71c75bb"
   },
   "outputs": [
    {
     "data": {
      "application/vnd.google.colaboratory.intrinsic+json": {
       "type": "string"
      },
      "text/plain": [
       "'d'"
      ]
     },
     "execution_count": 20,
     "metadata": {},
     "output_type": "execute_result"
    }
   ],
   "source": [
    "a[-1] # 마지막 원소 추출"
   ]
  },
  {
   "cell_type": "code",
   "execution_count": null,
   "metadata": {
    "colab": {
     "base_uri": "https://localhost:8080/",
     "height": 35
    },
    "id": "ayRvVu0vo2UE",
    "outputId": "edb44dcf-e3ff-4807-d4d7-bcf4709c7183"
   },
   "outputs": [
    {
     "data": {
      "application/vnd.google.colaboratory.intrinsic+json": {
       "type": "string"
      },
      "text/plain": [
       "'amo'"
      ]
     },
     "execution_count": 23,
     "metadata": {},
     "output_type": "execute_result"
    }
   ],
   "source": [
    "a[0:3] # 첫번째부터 2번째 원소까지 추출"
   ]
  },
  {
   "cell_type": "code",
   "execution_count": null,
   "metadata": {
    "colab": {
     "base_uri": "https://localhost:8080/",
     "height": 35
    },
    "id": "N7doWcaVo4MH",
    "outputId": "a9eb2f6b-1ab5-484e-c9a4-566664a096a4"
   },
   "outputs": [
    {
     "data": {
      "application/vnd.google.colaboratory.intrinsic+json": {
       "type": "string"
      },
      "text/plain": [
       "'mond'"
      ]
     },
     "execution_count": 24,
     "metadata": {},
     "output_type": "execute_result"
    }
   ],
   "source": [
    "a[1:] # 두번째 원소부터 끝까지 슬라이싱"
   ]
  },
  {
   "cell_type": "code",
   "execution_count": null,
   "metadata": {
    "colab": {
     "base_uri": "https://localhost:8080/",
     "height": 35
    },
    "id": "IXiE05x4pGeZ",
    "outputId": "1111565d-158b-44a2-ca1c-fc02ab1568f9"
   },
   "outputs": [
    {
     "data": {
      "application/vnd.google.colaboratory.intrinsic+json": {
       "type": "string"
      },
      "text/plain": [
       "'am'"
      ]
     },
     "execution_count": 25,
     "metadata": {},
     "output_type": "execute_result"
    }
   ],
   "source": [
    "a[:2] # 처음 두개 뽑기"
   ]
  },
  {
   "cell_type": "markdown",
   "metadata": {
    "id": "QfT6HFKhpPNs"
   },
   "source": [
    "## D. str 특수기능"
   ]
  },
  {
   "cell_type": "code",
   "execution_count": null,
   "metadata": {
    "colab": {
     "base_uri": "https://localhost:8080/",
     "height": 35
    },
    "id": "8-cOY-94pSpL",
    "outputId": "c36aa082-8855-4d70-f483-65fec793dc0e"
   },
   "outputs": [
    {
     "data": {
      "application/vnd.google.colaboratory.intrinsic+json": {
       "type": "string"
      },
      "text/plain": [
       "'abcd'"
      ]
     },
     "execution_count": 29,
     "metadata": {},
     "output_type": "execute_result"
    }
   ],
   "source": [
    "a='ABCD'\n",
    "a.lower() # 소문자로 형태변환"
   ]
  },
  {
   "cell_type": "code",
   "execution_count": null,
   "metadata": {
    "colab": {
     "base_uri": "https://localhost:8080/",
     "height": 35
    },
    "id": "X14Xv1HipMuQ",
    "outputId": "bbb6ac89-1f33-484a-8df3-5c108f94abb8"
   },
   "outputs": [
    {
     "data": {
      "application/vnd.google.colaboratory.intrinsic+json": {
       "type": "string"
      },
      "text/plain": [
       "'ABCD'"
      ]
     },
     "execution_count": 30,
     "metadata": {},
     "output_type": "execute_result"
    }
   ],
   "source": [
    "a = 'abcd'\n",
    "a.upper()"
   ]
  },
  {
   "cell_type": "code",
   "execution_count": null,
   "metadata": {
    "colab": {
     "base_uri": "https://localhost:8080/",
     "height": 35
    },
    "id": "eH9jFzwKpp3b",
    "outputId": "1a92c18d-53b2-43f5-af71-a0360adcdb53"
   },
   "outputs": [
    {
     "data": {
      "application/vnd.google.colaboratory.intrinsic+json": {
       "type": "string"
      },
      "text/plain": [
       "'Abcd'"
      ]
     },
     "execution_count": 32,
     "metadata": {},
     "output_type": "execute_result"
    }
   ],
   "source": [
    "a.capitalize()"
   ]
  },
  {
   "cell_type": "markdown",
   "metadata": {
    "id": "DXYSdADxpyC5"
   },
   "source": [
    "`-` 특수한 기능 ( join / split / replace )"
   ]
  },
  {
   "cell_type": "code",
   "execution_count": null,
   "metadata": {
    "colab": {
     "base_uri": "https://localhost:8080/",
     "height": 35
    },
    "id": "-jXsxHJ1p2Bl",
    "outputId": "7e100299-52f7-4994-ec2b-0b60892c49c6"
   },
   "outputs": [
    {
     "data": {
      "application/vnd.google.colaboratory.intrinsic+json": {
       "type": "string"
      },
      "text/plain": [
       "'1-2-3'"
      ]
     },
     "execution_count": 33,
     "metadata": {},
     "output_type": "execute_result"
    }
   ],
   "source": [
    "'-'.join(['1','2','3'])"
   ]
  },
  {
   "cell_type": "code",
   "execution_count": null,
   "metadata": {
    "colab": {
     "base_uri": "https://localhost:8080/"
    },
    "id": "84DhcdJlpvGE",
    "outputId": "14ba5471-bc34-43e3-a08f-2b6e0e51ce42"
   },
   "outputs": [
    {
     "data": {
      "text/plain": [
       "['1', '2', '3']"
      ]
     },
     "execution_count": 35,
     "metadata": {},
     "output_type": "execute_result"
    }
   ],
   "source": [
    "'1-2-3'.split('-')"
   ]
  },
  {
   "cell_type": "code",
   "execution_count": null,
   "metadata": {
    "colab": {
     "base_uri": "https://localhost:8080/",
     "height": 35
    },
    "id": "ltgih0_Yp5hQ",
    "outputId": "80a57309-43e2-4c8c-c52e-a12f1b321e04"
   },
   "outputs": [
    {
     "data": {
      "application/vnd.google.colaboratory.intrinsic+json": {
       "type": "string"
      },
      "text/plain": [
       "'1*2*3'"
      ]
     },
     "execution_count": 36,
     "metadata": {},
     "output_type": "execute_result"
    }
   ],
   "source": [
    "'1-2-3'.replace('-','*')"
   ]
  },
  {
   "cell_type": "markdown",
   "metadata": {
    "id": "Kj9JTCAirVwH"
   },
   "source": [
    "## E. len"
   ]
  },
  {
   "cell_type": "code",
   "execution_count": null,
   "metadata": {
    "colab": {
     "base_uri": "https://localhost:8080/"
    },
    "id": "TABUpnxzrZ-p",
    "outputId": "4e465bb9-b3a8-4a40-f88c-8b2e19e463ce"
   },
   "outputs": [
    {
     "data": {
      "text/plain": [
       "4"
      ]
     },
     "execution_count": 38,
     "metadata": {},
     "output_type": "execute_result"
    }
   ],
   "source": [
    "a='ABCD'\n",
    "len(a)"
   ]
  },
  {
   "cell_type": "markdown",
   "metadata": {
    "id": "TUM6c8B_rljH"
   },
   "source": [
    "`-` `len`은 0차원 변수형에서는 동작하지 않고 1차원 변수형에서만 동작한다.\n",
    "\n"
   ]
  },
  {
   "cell_type": "code",
   "execution_count": null,
   "metadata": {
    "colab": {
     "base_uri": "https://localhost:8080/",
     "height": 166
    },
    "id": "SOcgWDvop7rX",
    "outputId": "3f31eed0-3e16-4f56-82b3-28925dad2a26"
   },
   "outputs": [
    {
     "ename": "TypeError",
     "evalue": "object of type 'bool' has no len()",
     "output_type": "error",
     "traceback": [
      "\u001b[0;31m---------------------------------------------------------------------------\u001b[0m",
      "\u001b[0;31mTypeError\u001b[0m                                 Traceback (most recent call last)",
      "\u001b[0;32m<ipython-input-41-efda5e811ff1>\u001b[0m in \u001b[0;36m<cell line: 2>\u001b[0;34m()\u001b[0m\n\u001b[1;32m      1\u001b[0m \u001b[0mb\u001b[0m\u001b[0;34m=\u001b[0m\u001b[0;32mTrue\u001b[0m\u001b[0;34m\u001b[0m\u001b[0;34m\u001b[0m\u001b[0m\n\u001b[0;32m----> 2\u001b[0;31m \u001b[0mlen\u001b[0m\u001b[0;34m(\u001b[0m\u001b[0mb\u001b[0m\u001b[0;34m)\u001b[0m\u001b[0;34m\u001b[0m\u001b[0;34m\u001b[0m\u001b[0m\n\u001b[0m",
      "\u001b[0;31mTypeError\u001b[0m: object of type 'bool' has no len()"
     ]
    }
   ],
   "source": [
    "b=True\n",
    "len(b)"
   ]
  },
  {
   "cell_type": "markdown",
   "metadata": {
    "id": "6kwHvghIrvUr"
   },
   "source": [
    "## F. `fstring`"
   ]
  },
  {
   "cell_type": "code",
   "execution_count": null,
   "metadata": {
    "colab": {
     "base_uri": "https://localhost:8080/"
    },
    "id": "bPKYaaIVrzWR",
    "outputId": "7da9bf32-f5e3-43f9-a8ad-269884016673"
   },
   "outputs": [
    {
     "name": "stdout",
     "output_type": "stream",
     "text": [
      "a+b=5\n"
     ]
    }
   ],
   "source": [
    "a,b = 1,4\n",
    "print(f'a+b={a+b}')"
   ]
  },
  {
   "cell_type": "code",
   "execution_count": null,
   "metadata": {
    "colab": {
     "base_uri": "https://localhost:8080/"
    },
    "id": "eTuqcX08rxDo",
    "outputId": "ac2c00f9-c58d-4c59-e2c0-eda6e836d4ce"
   },
   "outputs": [
    {
     "name": "stdout",
     "output_type": "stream",
     "text": [
      "a+b=5.14\n"
     ]
    }
   ],
   "source": [
    "a,b= 2,3.141592\n",
    "print(f'a+b={a+b:.2f}') #소수점 제어"
   ]
  },
  {
   "cell_type": "code",
   "execution_count": null,
   "metadata": {
    "colab": {
     "base_uri": "https://localhost:8080/"
    },
    "id": "nABguzS-sYD0",
    "outputId": "2fb81038-efb7-492e-e779-627b8ec7f5b0"
   },
   "outputs": [
    {
     "name": "stdout",
     "output_type": "stream",
     "text": [
      "2a= 6.28, 3a=9.42\n"
     ]
    }
   ],
   "source": [
    "a=3.141592\n",
    "print(f'2a= {2*a:.2f}, 3a={3*a:.2f}')"
   ]
  },
  {
   "cell_type": "code",
   "execution_count": null,
   "metadata": {
    "colab": {
     "base_uri": "https://localhost:8080/"
    },
    "id": "ujLZsFoyruaX",
    "outputId": "f12b968a-33cd-452d-d1dd-0561ba9a9dfa"
   },
   "outputs": [
    {
     "data": {
      "text/plain": [
       "['이상민입니다 반갑습니다', '이정민입니다 반갑습니다', '강정혁입니다 반갑습니다']"
      ]
     },
     "execution_count": 51,
     "metadata": {},
     "output_type": "execute_result"
    }
   ],
   "source": [
    "lst = ['이상민','이정민','강정혁']\n",
    "[f'{l}입니다 반갑습니다' for l in lst]"
   ]
  },
  {
   "cell_type": "markdown",
   "metadata": {
    "id": "t0QatxAwx9WC"
   },
   "source": [
    "## G. stirng과 for문"
   ]
  },
  {
   "cell_type": "code",
   "execution_count": null,
   "metadata": {
    "colab": {
     "base_uri": "https://localhost:8080/"
    },
    "id": "EdUrXbi9yFY8",
    "outputId": "f4df6e61-8cae-4fb9-caf1-57b8a30ee67d"
   },
   "outputs": [
    {
     "name": "stdout",
     "output_type": "stream",
     "text": [
      "jj\n",
      "bb\n",
      "nn\n",
      "uu\n"
     ]
    }
   ],
   "source": [
    "for i in 'jbnu':\n",
    "  print(2*i)"
   ]
  },
  {
   "cell_type": "code",
   "execution_count": null,
   "metadata": {
    "colab": {
     "base_uri": "https://localhost:8080/"
    },
    "id": "Q6wBCCa7tITl",
    "outputId": "54d63f30-2752-46cd-846e-16fa35ea85ff"
   },
   "outputs": [
    {
     "data": {
      "text/plain": [
       "['JJJJ', 'AAAA', 'MMMM']"
      ]
     },
     "execution_count": 53,
     "metadata": {},
     "output_type": "execute_result"
    }
   ],
   "source": [
    "[s*4 for s in 'JAM']"
   ]
  },
  {
   "cell_type": "markdown",
   "metadata": {
    "id": "AraxKOfryYdN"
   },
   "source": [
    "## H. `in` 연산자"
   ]
  },
  {
   "cell_type": "code",
   "execution_count": null,
   "metadata": {
    "colab": {
     "base_uri": "https://localhost:8080/"
    },
    "id": "xRs-DtvkyacU",
    "outputId": "b3a28f33-5749-430b-a269-b363eb209be1"
   },
   "outputs": [
    {
     "data": {
      "text/plain": [
       "True"
      ]
     },
     "execution_count": 54,
     "metadata": {},
     "output_type": "execute_result"
    }
   ],
   "source": [
    "s = 'jbnu'\n",
    "'b' in s"
   ]
  },
  {
   "cell_type": "markdown",
   "metadata": {
    "id": "_J6OInwKzLby"
   },
   "source": [
    "## I. 연습문제"
   ]
  },
  {
   "cell_type": "markdown",
   "metadata": {
    "id": "qyMmrBVkzPb3"
   },
   "source": [
    "### text"
   ]
  },
  {
   "cell_type": "code",
   "execution_count": null,
   "metadata": {
    "id": "oQhfnORxyP8R"
   },
   "outputs": [],
   "source": [
    "text = \"국내뿐 아니라 해외 인기도 심상치 않다. 2023년 1월 18일 'Ditto'가 빌보드 핫 100에 96위로 진입했다. 이는 K-pop 역사상 데뷔후 최단 빌보드 Hot 100 차트 입성 기록이다. 다른 뮤지션들이 보통 데뷔 후 수년간 쌓아온 팬덤을 기반으로 빌보드에 입성한데 비해, 뉴진스의 기록은 이례적인 것으로 평가받고 있다. 또한 'OMG'가 빌보드 핫 100에 91위로 진입한 동시에 'Ditto'는 85위로 순위가 상승, 핫 100 주간차트에 두 곡을 올려놓았다. K-Pop 역사상 이 차트에 두 곡 이상을 진입시킨 아티스트는 방탄소년단과 블랙핑크가 유일하다. 'Ditto'는 1월 셋째주 기준, 빌보드뿐만 아니라 영국 오피셜 싱글 차트 '톱 100'에 2주 연속 진입하기도 했다.\""
   ]
  },
  {
   "cell_type": "code",
   "execution_count": null,
   "metadata": {
    "colab": {
     "base_uri": "https://localhost:8080/"
    },
    "id": "Y-MBrWjdy4wD",
    "outputId": "71d53562-56dc-45df-ec36-7eaf2aa4be86"
   },
   "outputs": [
    {
     "data": {
      "text/plain": [
       "7"
      ]
     },
     "execution_count": 61,
     "metadata": {},
     "output_type": "execute_result"
    }
   ],
   "source": [
    "# text 문장 갯수\n",
    "sum(['.' in i for i in text])"
   ]
  },
  {
   "cell_type": "code",
   "execution_count": null,
   "metadata": {
    "colab": {
     "base_uri": "https://localhost:8080/"
    },
    "id": "VW0hV-zny7Sb",
    "outputId": "38eea212-b40f-45fb-f87b-8cabc7319171"
   },
   "outputs": [
    {
     "data": {
      "text/plain": [
       "7"
      ]
     },
     "execution_count": 65,
     "metadata": {},
     "output_type": "execute_result"
    }
   ],
   "source": [
    "len(text.split('. '))"
   ]
  },
  {
   "cell_type": "code",
   "execution_count": null,
   "metadata": {
    "colab": {
     "base_uri": "https://localhost:8080/"
    },
    "id": "8mRj-5h1zb6U",
    "outputId": "dca166d4-f58a-4728-b377-a7339ef7b464"
   },
   "outputs": [
    {
     "data": {
      "text/plain": [
       "[6, 9, 11, 18, 18, 12, 16]"
      ]
     },
     "execution_count": 12,
     "metadata": {},
     "output_type": "execute_result"
    }
   ],
   "source": [
    "# text 단어 개수 (hint: 각 단어는 공백으로 구분된다.)\n",
    "[len(l.split(' ')) for l in text.split('. ')]"
   ]
  },
  {
   "cell_type": "code",
   "execution_count": null,
   "metadata": {
    "colab": {
     "base_uri": "https://localhost:8080/"
    },
    "id": "N5iQHTMqkwTN",
    "outputId": "b65cd908-2b14-499f-8345-83f82afaf272"
   },
   "outputs": [
    {
     "data": {
      "text/plain": [
       "[False, False, True, False, True, False, False]"
      ]
     },
     "execution_count": 15,
     "metadata": {},
     "output_type": "execute_result"
    }
   ],
   "source": [
    "# 포함된 단어 찾\n",
    "['100' in l.split(' ') for l in text.split('. ')]"
   ]
  },
  {
   "cell_type": "markdown",
   "metadata": {
    "id": "XiO2b8VAm3c3"
   },
   "source": [
    "# 3. `list`"
   ]
  },
  {
   "cell_type": "markdown",
   "metadata": {
    "id": "nmMEkpOZm5kj"
   },
   "source": [
    "## A. 선언"
   ]
  },
  {
   "cell_type": "code",
   "execution_count": null,
   "metadata": {
    "id": "JyrBrFfQm7Fp"
   },
   "outputs": [],
   "source": [
    "a = [1,2,3]\n",
    "b = [] # 비어있는 리스트\n",
    "c = list() # 비어있는 리스트"
   ]
  },
  {
   "cell_type": "markdown",
   "metadata": {
    "id": "IPMBW8OinnHZ"
   },
   "source": [
    "## B. 연산"
   ]
  },
  {
   "cell_type": "markdown",
   "metadata": {
    "id": "u--7khUXnq7f"
   },
   "source": [
    "`-` 더하기 연산"
   ]
  },
  {
   "cell_type": "code",
   "execution_count": null,
   "metadata": {
    "colab": {
     "base_uri": "https://localhost:8080/"
    },
    "id": "y9aCGr80oMH8",
    "outputId": "909c6ece-7bcc-4e98-e628-df4001a42459"
   },
   "outputs": [
    {
     "data": {
      "text/plain": [
       "[1, 2, 3, -3, 4, 5]"
      ]
     },
     "execution_count": 18,
     "metadata": {},
     "output_type": "execute_result"
    }
   ],
   "source": [
    "[1,2,3] + [-3,4,5] # 리스트 추가하는 느낌"
   ]
  },
  {
   "cell_type": "markdown",
   "metadata": {
    "id": "2uaNBTO9oF-j"
   },
   "source": [
    "`-` 뺄셈"
   ]
  },
  {
   "cell_type": "code",
   "execution_count": null,
   "metadata": {
    "colab": {
     "base_uri": "https://localhost:8080/",
     "height": 158
    },
    "id": "gUyE_43YoOSs",
    "outputId": "2880e84b-c35a-4d2a-a7c6-3573f37d2db4"
   },
   "outputs": [
    {
     "ename": "TypeError",
     "evalue": "unsupported operand type(s) for -: 'list' and 'list'",
     "output_type": "error",
     "traceback": [
      "\u001b[0;31m---------------------------------------------------------------------------\u001b[0m",
      "\u001b[0;31mTypeError\u001b[0m                                 Traceback (most recent call last)",
      "\u001b[0;32m<ipython-input-21-f0b36adff11d>\u001b[0m in \u001b[0;36m<cell line: 2>\u001b[0;34m()\u001b[0m\n\u001b[1;32m      1\u001b[0m \u001b[0ma\u001b[0m\u001b[0;34m=\u001b[0m \u001b[0;34m[\u001b[0m\u001b[0;36m1\u001b[0m\u001b[0;34m,\u001b[0m\u001b[0;36m2\u001b[0m\u001b[0;34m,\u001b[0m\u001b[0;36m1\u001b[0m\u001b[0;34m,\u001b[0m\u001b[0;36m2\u001b[0m\u001b[0;34m]\u001b[0m \u001b[0;31m# 뺄셈 정의 x\u001b[0m\u001b[0;34m\u001b[0m\u001b[0;34m\u001b[0m\u001b[0m\n\u001b[0;32m----> 2\u001b[0;31m \u001b[0ma\u001b[0m\u001b[0;34m-\u001b[0m\u001b[0;34m[\u001b[0m\u001b[0;36m1\u001b[0m\u001b[0;34m,\u001b[0m\u001b[0;36m2\u001b[0m\u001b[0;34m]\u001b[0m\u001b[0;34m\u001b[0m\u001b[0;34m\u001b[0m\u001b[0m\n\u001b[0m",
      "\u001b[0;31mTypeError\u001b[0m: unsupported operand type(s) for -: 'list' and 'list'"
     ]
    }
   ],
   "source": [
    "a= [1,2,1,2] # 뺄셈 정의 x\n",
    "a-[1,2]"
   ]
  },
  {
   "cell_type": "markdown",
   "metadata": {
    "id": "7JPEm23_oHyu"
   },
   "source": [
    "`-` 곱셈"
   ]
  },
  {
   "cell_type": "code",
   "execution_count": null,
   "metadata": {
    "colab": {
     "base_uri": "https://localhost:8080/"
    },
    "id": "2iWxqmwZoUlJ",
    "outputId": "cf437ffd-e880-4905-ce15-b765bbdc5a74"
   },
   "outputs": [
    {
     "data": {
      "text/plain": [
       "[1, 2, 1, 2, 1, 2]"
      ]
     },
     "execution_count": 19,
     "metadata": {},
     "output_type": "execute_result"
    }
   ],
   "source": [
    "[1,2]*3 # 리스트 반복"
   ]
  },
  {
   "cell_type": "markdown",
   "metadata": {
    "id": "rOeYymBmoK1p"
   },
   "source": [
    "`-` 나눗셈"
   ]
  },
  {
   "cell_type": "code",
   "execution_count": null,
   "metadata": {
    "colab": {
     "base_uri": "https://localhost:8080/",
     "height": 141
    },
    "id": "5aq762iroJoM",
    "outputId": "fd62690d-fff2-4a26-b0df-d6f387ab229f"
   },
   "outputs": [
    {
     "ename": "TypeError",
     "evalue": "unsupported operand type(s) for /: 'list' and 'int'",
     "output_type": "error",
     "traceback": [
      "\u001b[0;31m---------------------------------------------------------------------------\u001b[0m",
      "\u001b[0;31mTypeError\u001b[0m                                 Traceback (most recent call last)",
      "\u001b[0;32m<ipython-input-20-61e416f3fbe5>\u001b[0m in \u001b[0;36m<cell line: 1>\u001b[0;34m()\u001b[0m\n\u001b[0;32m----> 1\u001b[0;31m \u001b[0;34m[\u001b[0m\u001b[0;36m1\u001b[0m\u001b[0;34m,\u001b[0m\u001b[0;36m2\u001b[0m\u001b[0;34m,\u001b[0m\u001b[0;36m1\u001b[0m\u001b[0;34m,\u001b[0m\u001b[0;36m2\u001b[0m\u001b[0;34m,\u001b[0m\u001b[0;36m1\u001b[0m\u001b[0;34m,\u001b[0m\u001b[0;36m2\u001b[0m\u001b[0;34m]\u001b[0m \u001b[0;34m/\u001b[0m\u001b[0;36m3\u001b[0m \u001b[0;31m# 나눗셈 정의 x\u001b[0m\u001b[0;34m\u001b[0m\u001b[0;34m\u001b[0m\u001b[0m\n\u001b[0m",
      "\u001b[0;31mTypeError\u001b[0m: unsupported operand type(s) for /: 'list' and 'int'"
     ]
    }
   ],
   "source": [
    "[1,2,1,2,1,2] /3 # 나눗셈 정의 x"
   ]
  },
  {
   "cell_type": "code",
   "execution_count": null,
   "metadata": {
    "colab": {
     "base_uri": "https://localhost:8080/"
    },
    "id": "UqL4grJEnuDl",
    "outputId": "1a2d7465-7384-4423-e250-eadc84f5fc07"
   },
   "outputs": [
    {
     "data": {
      "text/plain": [
       "[4, 6]"
      ]
     },
     "execution_count": 22,
     "metadata": {},
     "output_type": "execute_result"
    }
   ],
   "source": [
    "a=[1,2]\n",
    "b=[3,4]\n",
    "# a+b = 4,6 되게 하려면?\n",
    "[a[0]+b[0],a[1]+b[1]]"
   ]
  },
  {
   "cell_type": "markdown",
   "metadata": {
    "id": "6-S_V2OOpCWF"
   },
   "source": [
    "## C. 인덱싱"
   ]
  },
  {
   "cell_type": "markdown",
   "metadata": {
    "id": "8fAHn2dTpKdk"
   },
   "source": [
    "`-` str형과 동일"
   ]
  },
  {
   "cell_type": "code",
   "execution_count": null,
   "metadata": {
    "colab": {
     "base_uri": "https://localhost:8080/"
    },
    "id": "Ywq9SGFCpDrn",
    "outputId": "935e36d6-c8f8-43ac-a612-89fdd9d367ff"
   },
   "outputs": [
    {
     "data": {
      "text/plain": [
       "[22, 33, 44, 55]"
      ]
     },
     "execution_count": 23,
     "metadata": {},
     "output_type": "execute_result"
    }
   ],
   "source": [
    "a=[11,22,33,44,55]\n",
    "a[1:]"
   ]
  },
  {
   "cell_type": "markdown",
   "metadata": {
    "id": "r-sP45tIq7CT"
   },
   "source": [
    "## D. 콘테이너형 객체"
   ]
  },
  {
   "cell_type": "markdown",
   "metadata": {
    "id": "Ov1MnFgcq_0d"
   },
   "source": [
    "`-` 리스트의 원소는 자료형 대부분 가능하다."
   ]
  },
  {
   "cell_type": "code",
   "execution_count": null,
   "metadata": {
    "colab": {
     "base_uri": "https://localhost:8080/"
    },
    "id": "EmyOycH0no_3",
    "outputId": "c7f783fc-6171-4577-865c-7bc83686b4f1"
   },
   "outputs": [
    {
     "data": {
      "text/plain": [
       "[1, 3.14, True, 'a', [1, 2], (1, 2), {'name': 'iu', 'age': 27}, {1, 2, 3}]"
      ]
     },
     "execution_count": 24,
     "metadata": {},
     "output_type": "execute_result"
    }
   ],
   "source": [
    "lst = [1,3.14,True,'a',[1,2],\n",
    "       (1,2),{'name':'iu','age':27},{1,2,3}]\n",
    "lst"
   ]
  },
  {
   "cell_type": "code",
   "execution_count": null,
   "metadata": {
    "colab": {
     "base_uri": "https://localhost:8080/"
    },
    "id": "-47nEp0Cnl4j",
    "outputId": "501c528b-1863-4b46-8ef3-ccd4db8495c8"
   },
   "outputs": [
    {
     "data": {
      "text/plain": [
       "[int, float, bool, str, list, tuple, dict, set]"
      ]
     },
     "execution_count": 28,
     "metadata": {},
     "output_type": "execute_result"
    }
   ],
   "source": [
    "[type(l) for l in lst]"
   ]
  },
  {
   "cell_type": "markdown",
   "metadata": {
    "id": "oovpWedJrG4l"
   },
   "source": [
    "## E. 가변객체"
   ]
  },
  {
   "cell_type": "markdown",
   "metadata": {
    "id": "-T8UdtXtrJKu"
   },
   "source": [
    "`-` 리스트는 원소 수정가능하다."
   ]
  },
  {
   "cell_type": "code",
   "execution_count": null,
   "metadata": {
    "colab": {
     "base_uri": "https://localhost:8080/"
    },
    "id": "aRS1VMnjrIfE",
    "outputId": "631bf608-0f73-4c7c-d714-60e61e2e53e5"
   },
   "outputs": [
    {
     "data": {
      "text/plain": [
       "[11, 22, 33]"
      ]
     },
     "execution_count": 29,
     "metadata": {},
     "output_type": "execute_result"
    }
   ],
   "source": [
    "a=[11,22,33]\n",
    "a"
   ]
  },
  {
   "cell_type": "code",
   "execution_count": null,
   "metadata": {
    "colab": {
     "base_uri": "https://localhost:8080/"
    },
    "id": "nL-1gU_8rLuj",
    "outputId": "20c8fb6d-687d-4a84-866f-2d0ca8e9959a"
   },
   "outputs": [
    {
     "data": {
      "text/plain": [
       "[-77, 22, 33]"
      ]
     },
     "execution_count": 32,
     "metadata": {},
     "output_type": "execute_result"
    }
   ],
   "source": [
    "a[0] = -77\n",
    "a"
   ]
  },
  {
   "cell_type": "markdown",
   "metadata": {
    "id": "J2z2mbKfrw3S"
   },
   "source": [
    "## F. 리스트의 원소 삭제"
   ]
  },
  {
   "cell_type": "code",
   "execution_count": null,
   "metadata": {
    "colab": {
     "base_uri": "https://localhost:8080/"
    },
    "id": "F8f9WWNPrzHd",
    "outputId": "536d1ecf-33ce-4a43-d6fe-d4a551f8ac31"
   },
   "outputs": [
    {
     "data": {
      "text/plain": [
       "['m', 'o', 'n', 'd']"
      ]
     },
     "execution_count": 40,
     "metadata": {},
     "output_type": "execute_result"
    }
   ],
   "source": [
    "# del을 이용한 삭제\n",
    "a = list('amond')\n",
    "del a[0]\n",
    "a"
   ]
  },
  {
   "cell_type": "code",
   "execution_count": null,
   "metadata": {
    "colab": {
     "base_uri": "https://localhost:8080/"
    },
    "id": "ZYI6A--YsKbI",
    "outputId": "ab0a4332-759f-49e7-f9d2-f08b313d7bf3"
   },
   "outputs": [
    {
     "data": {
      "text/plain": [
       "['m', 'o', 'n', 'd']"
      ]
     },
     "execution_count": 42,
     "metadata": {},
     "output_type": "execute_result"
    }
   ],
   "source": [
    "# pop을 이용한 삭제\n",
    "a = list('amond')\n",
    "a.pop(0)\n",
    "a"
   ]
  },
  {
   "cell_type": "code",
   "execution_count": null,
   "metadata": {
    "id": "uKIBN5xOr7up"
   },
   "outputs": [],
   "source": [
    "# remove를 이용한 삭제\n",
    "a=list('amond')\n",
    "a.remove('m')"
   ]
  },
  {
   "cell_type": "markdown",
   "metadata": {
    "id": "6AUnBANIshjV"
   },
   "source": [
    "## G. 리스트 원소 추가"
   ]
  },
  {
   "cell_type": "markdown",
   "metadata": {
    "id": "xCCKAg2euSCp"
   },
   "source": [
    "`-` + 연산 이용"
   ]
  },
  {
   "cell_type": "code",
   "execution_count": null,
   "metadata": {
    "colab": {
     "base_uri": "https://localhost:8080/"
    },
    "id": "hvo7xn6Usf44",
    "outputId": "695750c8-9a3e-4cc0-c11b-7be0d5465c0b"
   },
   "outputs": [
    {
     "data": {
      "text/plain": [
       "[0]"
      ]
     },
     "execution_count": 45,
     "metadata": {},
     "output_type": "execute_result"
    }
   ],
   "source": [
    "a=[]\n",
    "a+[0]"
   ]
  },
  {
   "cell_type": "markdown",
   "metadata": {
    "id": "twY-2o37ulCS"
   },
   "source": [
    "`-` += 연산 이용"
   ]
  },
  {
   "cell_type": "code",
   "execution_count": null,
   "metadata": {
    "colab": {
     "base_uri": "https://localhost:8080/"
    },
    "id": "yxUaqqJ0umE5",
    "outputId": "79dac213-fa94-41e5-9072-2aa57ddeb7b9"
   },
   "outputs": [
    {
     "data": {
      "text/plain": [
       "[0, 1, 2]"
      ]
     },
     "execution_count": 46,
     "metadata": {},
     "output_type": "execute_result"
    }
   ],
   "source": [
    "a=[]\n",
    "a+=[0]\n",
    "a+=[1]\n",
    "a+=[2]\n",
    "a"
   ]
  },
  {
   "cell_type": "markdown",
   "metadata": {
    "id": "2vHuYVHYur_G"
   },
   "source": [
    "`-` `.append()` 연산 이용"
   ]
  },
  {
   "cell_type": "code",
   "execution_count": null,
   "metadata": {
    "colab": {
     "base_uri": "https://localhost:8080/"
    },
    "id": "2Y68ilIbutyn",
    "outputId": "e9924a47-1aa7-4802-e78e-f7488608daff"
   },
   "outputs": [
    {
     "data": {
      "text/plain": [
       "[0, 1]"
      ]
     },
     "execution_count": 47,
     "metadata": {},
     "output_type": "execute_result"
    }
   ],
   "source": [
    "a = []\n",
    "a.append(0)\n",
    "a.append(1)\n",
    "a"
   ]
  },
  {
   "cell_type": "markdown",
   "metadata": {
    "id": "qtVDKnLTu5Pq"
   },
   "source": [
    "`-` `a+[4]` 와 `a.append(4)`의 차이?\n",
    "\n",
    "* 덧셈은 얕은 복사 append는 깊은 복사"
   ]
  },
  {
   "cell_type": "markdown",
   "metadata": {
    "id": "Wr1Y6udSvH13"
   },
   "source": [
    "## I. 리스트 특수기능"
   ]
  },
  {
   "cell_type": "markdown",
   "metadata": {
    "id": "M_5uuW1axSuH"
   },
   "source": [
    "`-` **clear**"
   ]
  },
  {
   "cell_type": "code",
   "execution_count": null,
   "metadata": {
    "colab": {
     "base_uri": "https://localhost:8080/"
    },
    "id": "X8bWQCvbySuf",
    "outputId": "14486443-9a55-46d4-bb55-bf89a8739696"
   },
   "outputs": [
    {
     "data": {
      "text/plain": [
       "[]"
      ]
     },
     "execution_count": 48,
     "metadata": {},
     "output_type": "execute_result"
    }
   ],
   "source": [
    "a=[1,2,3,4]\n",
    "a.clear()\n",
    "a"
   ]
  },
  {
   "cell_type": "markdown",
   "metadata": {
    "id": "dWO5PujUxUAQ"
   },
   "source": [
    "`-` **copy**"
   ]
  },
  {
   "cell_type": "code",
   "execution_count": null,
   "metadata": {
    "colab": {
     "base_uri": "https://localhost:8080/"
    },
    "id": "6eBCdndYyV_C",
    "outputId": "c27c89fb-17f1-4a6a-ca93-87dfcdc78d35"
   },
   "outputs": [
    {
     "data": {
      "text/plain": [
       "([4, 2, 3, 4], [1, 2, 3, 4])"
      ]
     },
     "execution_count": 52,
     "metadata": {},
     "output_type": "execute_result"
    }
   ],
   "source": [
    "a=[1,2,3,4]\n",
    "b = a.copy()\n",
    "b[0] =4\n",
    "b,a"
   ]
  },
  {
   "cell_type": "markdown",
   "metadata": {
    "id": "UdvQkV0AxYGg"
   },
   "source": [
    "`-` **count**"
   ]
  },
  {
   "cell_type": "code",
   "execution_count": null,
   "metadata": {
    "colab": {
     "base_uri": "https://localhost:8080/"
    },
    "id": "L-4mqIFy0Rz3",
    "outputId": "80ca892b-68d3-49fc-9f48-f461e0ded343"
   },
   "outputs": [
    {
     "data": {
      "text/plain": [
       "2"
      ]
     },
     "execution_count": 53,
     "metadata": {},
     "output_type": "execute_result"
    }
   ],
   "source": [
    "a=['a','a','b','b','b','c']\n",
    "a.count('a')"
   ]
  },
  {
   "cell_type": "markdown",
   "metadata": {
    "id": "8x4QFS0mxZ0p"
   },
   "source": [
    "`-` **extend**"
   ]
  },
  {
   "cell_type": "code",
   "execution_count": null,
   "metadata": {
    "colab": {
     "base_uri": "https://localhost:8080/"
    },
    "id": "hxwF0aXd0Vmn",
    "outputId": "87346f7b-ea00-482e-822d-1fee94ee89d7"
   },
   "outputs": [
    {
     "data": {
      "text/plain": [
       "[1, 2, 3, 4, -1, -2, -3, -4]"
      ]
     },
     "execution_count": 56,
     "metadata": {},
     "output_type": "execute_result"
    }
   ],
   "source": [
    "a=[1,2,3,4]\n",
    "b=[-1,-2,-3,-4]\n",
    "a.extend(b)\n",
    "a"
   ]
  },
  {
   "cell_type": "markdown",
   "metadata": {
    "id": "5U6G8h7pxdOf"
   },
   "source": [
    "`-` **index**"
   ]
  },
  {
   "cell_type": "code",
   "execution_count": null,
   "metadata": {
    "colab": {
     "base_uri": "https://localhost:8080/"
    },
    "id": "TkuGKGz30ZIg",
    "outputId": "44324567-894f-43a4-b841-13b7d9af967b"
   },
   "outputs": [
    {
     "data": {
      "text/plain": [
       "2"
      ]
     },
     "execution_count": 61,
     "metadata": {},
     "output_type": "execute_result"
    }
   ],
   "source": [
    "a=[11,22,'a',True, 22,'a']\n",
    "a.index('a')"
   ]
  },
  {
   "cell_type": "markdown",
   "metadata": {
    "id": "OD5JaQELxntA"
   },
   "source": [
    "`-` **sort**"
   ]
  },
  {
   "cell_type": "code",
   "execution_count": null,
   "metadata": {
    "colab": {
     "base_uri": "https://localhost:8080/"
    },
    "id": "xY462aOO05b_",
    "outputId": "c5856e04-0dd0-4e11-c95f-fc0b29750313"
   },
   "outputs": [
    {
     "data": {
      "text/plain": [
       "[1, 2, 3, 4]"
      ]
     },
     "execution_count": 65,
     "metadata": {},
     "output_type": "execute_result"
    }
   ],
   "source": [
    "a=[4,3,2,1]\n",
    "a.sort()\n",
    "a"
   ]
  },
  {
   "cell_type": "markdown",
   "metadata": {
    "id": "WxLmZATQ1D27"
   },
   "source": [
    "`-` **insert**"
   ]
  },
  {
   "cell_type": "code",
   "execution_count": null,
   "metadata": {
    "colab": {
     "base_uri": "https://localhost:8080/"
    },
    "id": "MQbir8O41Fkm",
    "outputId": "b90a193c-0111-4e04-b7ea-3f40d2409506"
   },
   "outputs": [
    {
     "data": {
      "text/plain": [
       "[1, 88, 2, 3]"
      ]
     },
     "execution_count": 67,
     "metadata": {},
     "output_type": "execute_result"
    }
   ],
   "source": [
    "a=[1,2,3]\n",
    "a.insert(1,88)\n",
    "a"
   ]
  },
  {
   "cell_type": "markdown",
   "metadata": {
    "id": "XRxGDdzj1Pw4"
   },
   "source": [
    "## J. 중첩리스트"
   ]
  },
  {
   "cell_type": "markdown",
   "metadata": {
    "id": "HcY4nncf1gW_"
   },
   "source": [
    "\\begin{bmatrix}\n",
    "1 & 2 & 3 \\\\\n",
    "4 & 5 & 6 \\\\\n",
    "7 & 8 & 9\n",
    "\\end{bmatrix}"
   ]
  },
  {
   "cell_type": "code",
   "execution_count": null,
   "metadata": {
    "colab": {
     "base_uri": "https://localhost:8080/"
    },
    "id": "NSlHhndz1kaO",
    "outputId": "4b7d11ae-3a17-4dbe-aa15-c73a1160656c"
   },
   "outputs": [
    {
     "data": {
      "text/plain": [
       "[[1, 2, 3], [4, 5, 6], [7, 8, 9]]"
      ]
     },
     "execution_count": 71,
     "metadata": {},
     "output_type": "execute_result"
    }
   ],
   "source": [
    "A = [[1,2,3],\n",
    "     [4,5,6],\n",
    "     [7,8,9]]\n",
    "A"
   ]
  },
  {
   "cell_type": "markdown",
   "metadata": {
    "id": "VvswQkma1yEA"
   },
   "source": [
    "### 인덱싱"
   ]
  },
  {
   "cell_type": "code",
   "execution_count": null,
   "metadata": {
    "colab": {
     "base_uri": "https://localhost:8080/"
    },
    "id": "QUv3kI5a10eq",
    "outputId": "9f5750f5-7d7c-49c2-c436-4aeedc981748"
   },
   "outputs": [
    {
     "data": {
      "text/plain": [
       "1"
      ]
     },
     "execution_count": 72,
     "metadata": {},
     "output_type": "execute_result"
    }
   ],
   "source": [
    "# (1,1)의 원소 뽑기\n",
    "A[0][0]"
   ]
  },
  {
   "cell_type": "markdown",
   "metadata": {
    "id": "ZKucjxHB18iO"
   },
   "source": [
    "## K. 리스트 컴프리헨션 연습\n"
   ]
  },
  {
   "cell_type": "code",
   "execution_count": null,
   "metadata": {
    "id": "oPRSubIX1-C1"
   },
   "outputs": [],
   "source": [
    "import itertools"
   ]
  },
  {
   "cell_type": "code",
   "execution_count": null,
   "metadata": {
    "colab": {
     "base_uri": "https://localhost:8080/"
    },
    "id": "M679toJBxN0j",
    "outputId": "48885693-159e-4a93-9dd2-ac29c2234cea"
   },
   "outputs": [
    {
     "data": {
      "text/plain": [
       "['X1', 'X2', 'X3', 'Y1', 'Y2', 'Y3']"
      ]
     },
     "execution_count": 74,
     "metadata": {},
     "output_type": "execute_result"
    }
   ],
   "source": [
    "[i+j for i,j in itertools.product('XY','123')]"
   ]
  },
  {
   "cell_type": "code",
   "execution_count": null,
   "metadata": {
    "colab": {
     "base_uri": "https://localhost:8080/"
    },
    "id": "VdAVakKEvFya",
    "outputId": "32c1ae75-a8d5-4b0e-e656-52aa6f1c8e1c"
   },
   "outputs": [
    {
     "data": {
      "text/plain": [
       "['stat1', 'stat2', 'stat3', 'math1', 'math2', 'math3']"
      ]
     },
     "execution_count": 90,
     "metadata": {},
     "output_type": "execute_result"
    }
   ],
   "source": [
    "[i+j for i,j in itertools.product(['stat','math'],'123')]"
   ]
  },
  {
   "cell_type": "code",
   "execution_count": null,
   "metadata": {
    "colab": {
     "base_uri": "https://localhost:8080/"
    },
    "id": "pzkBwei7u4wf",
    "outputId": "50728b32-5cd1-4550-eb9b-a747191cb4b2"
   },
   "outputs": [
    {
     "data": {
      "text/plain": [
       "['stst1', 'stst2', 'stst3', 'math1', 'math2', 'math3']"
      ]
     },
     "execution_count": 92,
     "metadata": {},
     "output_type": "execute_result"
    }
   ],
   "source": [
    "lst = []\n",
    "for x in ['stst','math']:\n",
    "  for y in '123':\n",
    "    lst.append(x+y)\n",
    "lst"
   ]
  },
  {
   "cell_type": "code",
   "execution_count": null,
   "metadata": {
    "colab": {
     "base_uri": "https://localhost:8080/"
    },
    "id": "8uwJROQdueIX",
    "outputId": "99041e10-837f-4429-b7f8-81128f918457"
   },
   "outputs": [
    {
     "data": {
      "text/plain": [
       "['X1', 'X2', 'X3', 'X4', 'X5', 'X6', 'X7', 'X8', 'X9', 'X10', 'X11', 'X12']"
      ]
     },
     "execution_count": 95,
     "metadata": {},
     "output_type": "execute_result"
    }
   ],
   "source": [
    "['X'+str(y) for y in range(1,13)]"
   ]
  },
  {
   "cell_type": "markdown",
   "metadata": {
    "id": "4FK7VN9i3fS8"
   },
   "source": [
    "## L. 리스트 컴프리헨션과 for문의 미묘한 차이"
   ]
  },
  {
   "cell_type": "code",
   "execution_count": null,
   "metadata": {
    "colab": {
     "base_uri": "https://localhost:8080/"
    },
    "id": "na-51Soj3gbn",
    "outputId": "973577d0-9aaa-4866-f361-e1fbfc2751b5"
   },
   "outputs": [
    {
     "data": {
      "text/plain": [
       "['j', 'b', 'n', 'u']"
      ]
     },
     "execution_count": 100,
     "metadata": {},
     "output_type": "execute_result"
    }
   ],
   "source": [
    "x=777\n",
    "lst = []\n",
    "for x in 'jbnu':\n",
    "  lst.append(x)\n",
    "lst"
   ]
  },
  {
   "cell_type": "code",
   "execution_count": null,
   "metadata": {
    "colab": {
     "base_uri": "https://localhost:8080/"
    },
    "id": "kwn9yBoo3p7N",
    "outputId": "829ca6c6-be2d-44d5-d087-bae218da77e8"
   },
   "outputs": [
    {
     "data": {
      "text/plain": [
       "['j', 'b', 'n', 'u']"
      ]
     },
     "execution_count": 101,
     "metadata": {},
     "output_type": "execute_result"
    }
   ],
   "source": [
    "lst = [x for x in 'jbnu']\n",
    "lst"
   ]
  },
  {
   "cell_type": "markdown",
   "metadata": {
    "id": "ZbKf0kVF4HM1"
   },
   "source": [
    "## 연습문제"
   ]
  },
  {
   "cell_type": "markdown",
   "metadata": {
    "id": "3KR3HyHc4Wl3"
   },
   "source": [
    "`-` x>80 만족시키는 원소의 개수는?? (리스트에서 조건문 개수 세기)"
   ]
  },
  {
   "cell_type": "code",
   "execution_count": null,
   "metadata": {
    "colab": {
     "base_uri": "https://localhost:8080/"
    },
    "id": "c44QG97t4JBI",
    "outputId": "470b9766-c619-4a01-9be6-4269ae8b9000"
   },
   "outputs": [
    {
     "data": {
      "text/plain": [
       "[80, 60, 80, 90, 55, 85, 95, 100, 35, 70, 75, 65, 95]"
      ]
     },
     "execution_count": 102,
     "metadata": {},
     "output_type": "execute_result"
    }
   ],
   "source": [
    "x = [80,60,80,90,55,85,95,100,35,70,75,65,95]\n",
    "sum(np.array(x)>80)"
   ]
  },
  {
   "cell_type": "markdown",
   "metadata": {
    "id": "BLQTDxs_4iLU"
   },
   "source": [
    "`-` 이 문자열에서 대문자의 수를 count하라.\n",
    "\n"
   ]
  },
  {
   "cell_type": "code",
   "execution_count": null,
   "metadata": {
    "id": "fMQLzIsH30Lr"
   },
   "outputs": [],
   "source": [
    "test_arr = 'ssh-rsa AAAAB3NzaC1yc2EAAAABIwAAAQEAklOUpkDHrfHY17SbrmTIpNLTGK9Tjom/BWDSUGPl+nafzlHDTYW7hdI4yZ5ew18JH4JW9jbhUFrviQzM7xlELEVf4h9lFX5QVkbPppSwg0cda3Pbv7kOdJ/MTyBlWXFCR+HAo3FXRitBqxiX1nKhXpHAZsMciLq8V6RjsNAQwdsdMFvSlVK/7XAt3FaoJoAsncM1Q9x5+3V0Ww68/eIFmb1zuUFljQJKprrX88XypNDvjYNby6vw/Pb0rwert/EnmZ+AW4OZPnTPI89ZPmVMLuayrD2cE86Z/il8b+gw3r3+1nKatmIkjn2so1d01QraTlMqVSsbxNrRFi9wrf+M7Q== schacon@mylaptop.local'"
   ]
  },
  {
   "cell_type": "code",
   "execution_count": null,
   "metadata": {
    "colab": {
     "base_uri": "https://localhost:8080/"
    },
    "id": "pUoz214F4lHb",
    "outputId": "d1b4d001-fd18-4e2d-e416-16c078c89e46"
   },
   "outputs": [
    {
     "data": {
      "text/plain": [
       "155"
      ]
     },
     "execution_count": 111,
     "metadata": {},
     "output_type": "execute_result"
    }
   ],
   "source": [
    "sum([l.isupper() for l in test_arr])"
   ]
  },
  {
   "cell_type": "markdown",
   "metadata": {
    "id": "2BAyodlD40R9"
   },
   "source": [
    "`-` 리스트 생성"
   ]
  },
  {
   "cell_type": "code",
   "execution_count": null,
   "metadata": {
    "colab": {
     "base_uri": "https://localhost:8080/"
    },
    "id": "apUVI5qu46-_",
    "outputId": "abcb1e90-87dc-4d3b-c882-37d703eea606"
   },
   "outputs": [
    {
     "data": {
      "text/plain": [
       "['a',\n",
       " 'aa',\n",
       " 'aaa',\n",
       " 'aaaa',\n",
       " 'aaaaa',\n",
       " 'aaaaaa',\n",
       " 'aaaaaaa',\n",
       " 'aaaaaaaa',\n",
       " 'aaaaaaaaa',\n",
       " 'aaaaaaaaaa']"
      ]
     },
     "execution_count": 120,
     "metadata": {},
     "output_type": "execute_result"
    }
   ],
   "source": [
    "lst = []\n",
    "['a'*i for i in range(1,11)]"
   ]
  },
  {
   "cell_type": "markdown",
   "metadata": {
    "id": "9pMENXbr5bnj"
   },
   "source": [
    "`-` 날짜 리스트 수정"
   ]
  },
  {
   "cell_type": "code",
   "execution_count": null,
   "metadata": {
    "id": "IF5rkfOC30PF"
   },
   "outputs": [],
   "source": [
    "lst = ['2022/09/21','2022/10/30','2022/12/25','2023/01/01','2023/01/31','2023/03/20']"
   ]
  },
  {
   "cell_type": "code",
   "execution_count": null,
   "metadata": {
    "colab": {
     "base_uri": "https://localhost:8080/"
    },
    "id": "42vnK6i030SU",
    "outputId": "614694fa-2ef4-45ad-e606-827899475b81"
   },
   "outputs": [
    {
     "data": {
      "text/plain": [
       "['2022-09-21',\n",
       " '2022-10-30',\n",
       " '2022-12-25',\n",
       " '2023-01-01',\n",
       " '2023-01-31',\n",
       " '2023-03-20']"
      ]
     },
     "execution_count": 126,
     "metadata": {},
     "output_type": "execute_result"
    }
   ],
   "source": [
    "[lst.replace('/','-') for lst in lst]"
   ]
  },
  {
   "cell_type": "markdown",
   "metadata": {
    "id": "XRaSBNIJ516K"
   },
   "source": [
    "`-` 띄어쓰기 제거"
   ]
  },
  {
   "cell_type": "code",
   "execution_count": null,
   "metadata": {
    "colab": {
     "base_uri": "https://localhost:8080/",
     "height": 35
    },
    "id": "7YkZaKxh53yt",
    "outputId": "34d37e3d-2234-4261-9f57-3727b7650cc6"
   },
   "outputs": [
    {
     "data": {
      "application/vnd.google.colaboratory.intrinsic+json": {
       "type": "string"
      },
      "text/plain": [
       "'2021.01.05'"
      ]
     },
     "execution_count": 127,
     "metadata": {},
     "output_type": "execute_result"
    }
   ],
   "source": [
    "'2021.01.05'"
   ]
  },
  {
   "cell_type": "code",
   "execution_count": null,
   "metadata": {
    "colab": {
     "base_uri": "https://localhost:8080/",
     "height": 35
    },
    "id": "bpMybbaB55D0",
    "outputId": "b8de29b0-4f3c-475f-afb6-d882931cb968"
   },
   "outputs": [
    {
     "data": {
      "application/vnd.google.colaboratory.intrinsic+json": {
       "type": "string"
      },
      "text/plain": [
       "'2021.01.05'"
      ]
     },
     "execution_count": 128,
     "metadata": {},
     "output_type": "execute_result"
    }
   ],
   "source": [
    "'2021.01.05'.replace(' ','')"
   ]
  },
  {
   "cell_type": "code",
   "execution_count": null,
   "metadata": {
    "colab": {
     "base_uri": "https://localhost:8080/",
     "height": 35
    },
    "id": "oDmFzp6g57OT",
    "outputId": "cb5c68d5-e21e-4f8f-dbf9-036fe3ca7d00"
   },
   "outputs": [
    {
     "data": {
      "application/vnd.google.colaboratory.intrinsic+json": {
       "type": "string"
      },
      "text/plain": [
       "'■-■-■-■-■-■-■-■-■-■'"
      ]
     },
     "execution_count": 130,
     "metadata": {},
     "output_type": "execute_result"
    }
   ],
   "source": [
    "block = ['■']\n",
    "'-'.join(block*10)"
   ]
  },
  {
   "cell_type": "markdown",
   "metadata": {
    "id": "2XRMnImJouoJ"
   },
   "source": [
    "# 4. tuple"
   ]
  },
  {
   "cell_type": "markdown",
   "metadata": {
    "id": "_MEISUkhpEuP"
   },
   "source": [
    "## A. 리스트 vs 튜플"
   ]
  },
  {
   "cell_type": "markdown",
   "metadata": {
    "id": "cbu0FCJypJdW"
   },
   "source": [
    "`-` 공통점\n",
    "* 컨테이너형 타입\n",
    "* 연산 및 인덱싱하는 방법\n",
    "\n",
    "`-` 차이점\n",
    "* 리스트 : `[]` 사용 / 튜플 : `()` 사용\n",
    "* 튜플은 불변형 -> 원소 바꿀 수 없음\n",
    "* 튜플은 하나의 원소 선언할 때 `(1.)`과 같이 해야함\n",
    "* 의미가 명확할 때는 튜플의 `()` 생략 가능"
   ]
  },
  {
   "cell_type": "markdown",
   "metadata": {
    "id": "ahCdIFHOp0VU"
   },
   "source": [
    "## B. 선언"
   ]
  },
  {
   "cell_type": "code",
   "execution_count": null,
   "metadata": {
    "id": "EBUMIFrOp1eQ"
   },
   "outputs": [],
   "source": [
    "a = (1,2,3)\n",
    "b = (4,) # 원소 하나는 ',' 찍어줘야함.\n",
    "c = 5 # 괄호 생략 가능(의미 명확)"
   ]
  },
  {
   "cell_type": "markdown",
   "metadata": {
    "id": "02H4DWqdqEoA"
   },
   "source": [
    "## C. 연산"
   ]
  },
  {
   "cell_type": "markdown",
   "metadata": {
    "id": "Ca2bN788qKq1"
   },
   "source": [
    "`-` 리스트와 동일"
   ]
  },
  {
   "cell_type": "code",
   "execution_count": null,
   "metadata": {
    "colab": {
     "base_uri": "https://localhost:8080/"
    },
    "id": "NQADj1-NqM8g",
    "outputId": "b3a64191-a4e9-409d-e0a7-bd598706b310"
   },
   "outputs": [
    {
     "data": {
      "text/plain": [
       "(1, 2, 3, 4, 5)"
      ]
     },
     "execution_count": 2,
     "metadata": {},
     "output_type": "execute_result"
    }
   ],
   "source": [
    "(1,2)+(3,4,5)"
   ]
  },
  {
   "cell_type": "code",
   "execution_count": null,
   "metadata": {
    "colab": {
     "base_uri": "https://localhost:8080/"
    },
    "id": "ETtmNqxoqImV",
    "outputId": "e469bffa-1a12-4d41-97a6-b8b1fcc82726"
   },
   "outputs": [
    {
     "data": {
      "text/plain": [
       "(1, 2, 1, 2)"
      ]
     },
     "execution_count": 3,
     "metadata": {},
     "output_type": "execute_result"
    }
   ],
   "source": [
    "(1,2)*2"
   ]
  },
  {
   "cell_type": "markdown",
   "metadata": {
    "id": "Jf_tMwOcqPol"
   },
   "source": [
    "## D. 인덱싱"
   ]
  },
  {
   "cell_type": "markdown",
   "metadata": {
    "id": "ryww2jxiqQyV"
   },
   "source": [
    "`-` 리스트와 동일"
   ]
  },
  {
   "cell_type": "code",
   "execution_count": null,
   "metadata": {
    "colab": {
     "base_uri": "https://localhost:8080/"
    },
    "id": "ktMHbjHoqTCi",
    "outputId": "358e0806-3873-4018-a520-41c9e8f62450"
   },
   "outputs": [
    {
     "data": {
      "text/plain": [
       "(1, 2, 3, -4, -5)"
      ]
     },
     "execution_count": 4,
     "metadata": {},
     "output_type": "execute_result"
    }
   ],
   "source": [
    "a=(1,2,3,-4,-5)\n",
    "a"
   ]
  },
  {
   "cell_type": "code",
   "execution_count": null,
   "metadata": {
    "colab": {
     "base_uri": "https://localhost:8080/"
    },
    "id": "1d2LEuTfqQPy",
    "outputId": "de354f8c-35e9-461f-8443-871ef9a00716"
   },
   "outputs": [
    {
     "data": {
      "text/plain": [
       "-5"
      ]
     },
     "execution_count": 6,
     "metadata": {},
     "output_type": "execute_result"
    }
   ],
   "source": [
    "a[-1]"
   ]
  },
  {
   "cell_type": "markdown",
   "metadata": {
    "id": "4LcMtS2suOdB"
   },
   "source": [
    "## E. 튜플 활용"
   ]
  },
  {
   "cell_type": "code",
   "execution_count": null,
   "metadata": {
    "id": "j4W_JUUouTZe"
   },
   "outputs": [],
   "source": [
    "# 다중출력\n",
    "a=1\n",
    "b=2\n",
    "c=3"
   ]
  },
  {
   "cell_type": "code",
   "execution_count": null,
   "metadata": {
    "colab": {
     "base_uri": "https://localhost:8080/"
    },
    "id": "r-zfcEXtucdm",
    "outputId": "1f0cf3e9-18ae-4f3d-d628-62df7b9530f6"
   },
   "outputs": [
    {
     "data": {
      "text/plain": [
       "(1, 2, 3)"
      ]
     },
     "execution_count": 9,
     "metadata": {},
     "output_type": "execute_result"
    }
   ],
   "source": [
    "a,b,c # 괄호 생략"
   ]
  },
  {
   "cell_type": "code",
   "execution_count": null,
   "metadata": {
    "id": "ZuoVvtfzprgt"
   },
   "outputs": [],
   "source": [
    "# 다중할당\n",
    "name, age, sex, height, weight = 'Tom', 20, 'M', 180, 70  # 다중할당"
   ]
  },
  {
   "cell_type": "code",
   "execution_count": null,
   "metadata": {
    "colab": {
     "base_uri": "https://localhost:8080/"
    },
    "id": "gjsPQ4OFppYY",
    "outputId": "f92bdc7c-79a2-46da-aaa7-c938c09257f1"
   },
   "outputs": [
    {
     "data": {
      "text/plain": [
       "(1, 2, 3)"
      ]
     },
     "execution_count": 14,
     "metadata": {},
     "output_type": "execute_result"
    }
   ],
   "source": [
    "# 리스트에서도 다중할당 및 출력이 가능함\n",
    "[x,y,z] = [1,2,3]\n",
    "x,y,z # 다중출력 -> 튜플로 출력됨"
   ]
  },
  {
   "cell_type": "markdown",
   "metadata": {
    "id": "FGbg5YuKvHPq"
   },
   "source": [
    "## F. for문과 튜플 사용"
   ]
  },
  {
   "cell_type": "code",
   "execution_count": null,
   "metadata": {
    "colab": {
     "base_uri": "https://localhost:8080/"
    },
    "id": "1tQ-I794vUXS",
    "outputId": "1ff1d76b-05dc-49ec-8105-bfd5708f24f6"
   },
   "outputs": [
    {
     "data": {
      "text/plain": [
       "[['Amond', 202112345, 'M'], ['Dodo', 202455431, 'M'], ['Jong', 202301123, 'F']]"
      ]
     },
     "execution_count": 26,
     "metadata": {},
     "output_type": "execute_result"
    }
   ],
   "source": [
    "lst = [['Amond', 202112345, 'M'],\n",
    "       ['Dodo',202455431, 'M'],\n",
    "       ['Jong', 202301123, 'F']]\n",
    "lst"
   ]
  },
  {
   "cell_type": "code",
   "execution_count": null,
   "metadata": {
    "colab": {
     "base_uri": "https://localhost:8080/"
    },
    "id": "esuK_69IvMIS",
    "outputId": "45d73770-cfb1-434b-c24b-547d4c0a3e8d"
   },
   "outputs": [
    {
     "name": "stdout",
     "output_type": "stream",
     "text": [
      "Amond M\n",
      "Dodo M\n",
      "Jong F\n"
     ]
    }
   ],
   "source": [
    "for name,id,sex in lst:\n",
    "  print(name,sex)"
   ]
  },
  {
   "cell_type": "code",
   "execution_count": null,
   "metadata": {
    "colab": {
     "base_uri": "https://localhost:8080/"
    },
    "id": "avP7Mr1vvAgb",
    "outputId": "71a94375-b5cf-4b02-c594-e634fda61a0a"
   },
   "outputs": [
    {
     "name": "stdout",
     "output_type": "stream",
     "text": [
      "202112345\n",
      "202455431\n",
      "202301123\n"
     ]
    }
   ],
   "source": [
    "for name,id,sex in lst:\n",
    "    print(id)"
   ]
  },
  {
   "cell_type": "markdown",
   "metadata": {
    "id": "gTkDK-XhwD9B"
   },
   "source": [
    "`-` 튜플과 언패킹연산자 `*`"
   ]
  },
  {
   "cell_type": "code",
   "execution_count": null,
   "metadata": {
    "colab": {
     "base_uri": "https://localhost:8080/"
    },
    "id": "eZratoKHu3E7",
    "outputId": "8b33b2dc-17ee-4d2e-f761-34dabc6dca11"
   },
   "outputs": [
    {
     "name": "stdout",
     "output_type": "stream",
     "text": [
      "Amond [202112345, 'M']\n",
      "Dodo [202455431, 'M']\n",
      "Jong [202301123, 'F']\n"
     ]
    }
   ],
   "source": [
    "for name,*other  in lst:\n",
    "    print(name,other) # '*' 아래로는 다 리스트로 묶여짐"
   ]
  },
  {
   "cell_type": "markdown",
   "metadata": {
    "id": "K-poPG9UwUrL"
   },
   "source": [
    "`-` `*`의 동작 자세히.."
   ]
  },
  {
   "cell_type": "code",
   "execution_count": null,
   "metadata": {
    "colab": {
     "base_uri": "https://localhost:8080/"
    },
    "id": "d7DLp1AvwYWL",
    "outputId": "58746638-f1ef-4199-c3b2-5bc292a7fa2e"
   },
   "outputs": [
    {
     "data": {
      "text/plain": [
       "(1, 2, [3, 4, 5, 6, 7, 8, 9, 10])"
      ]
     },
     "execution_count": 32,
     "metadata": {},
     "output_type": "execute_result"
    }
   ],
   "source": [
    "head, body, *tail = range(1,11)\n",
    "head, body, tail # 리스트로 묶임"
   ]
  },
  {
   "cell_type": "code",
   "execution_count": null,
   "metadata": {
    "colab": {
     "base_uri": "https://localhost:8080/"
    },
    "id": "__PXkyEAwJyn",
    "outputId": "1aebc9db-9563-4c26-a4a9-ef1714c54f96"
   },
   "outputs": [
    {
     "data": {
      "text/plain": [
       "(1, 2, 3, 4, 5, 6, 7, 8, 9, 10)"
      ]
     },
     "execution_count": 35,
     "metadata": {},
     "output_type": "execute_result"
    }
   ],
   "source": [
    "head, body, *tail #출력 할 때 `*` 붙이면 리스트가 풀림(포인터 같은 느낌??)"
   ]
  },
  {
   "cell_type": "markdown",
   "metadata": {
    "id": "RokDoCX-z2pr"
   },
   "source": [
    "# 5. 잡기술"
   ]
  },
  {
   "cell_type": "markdown",
   "metadata": {
    "id": "e7dtGtL6z7md"
   },
   "source": [
    "## A. 인덱싱 고급(스트라이딩)"
   ]
  },
  {
   "cell_type": "code",
   "execution_count": null,
   "metadata": {
    "colab": {
     "base_uri": "https://localhost:8080/"
    },
    "id": "sr8j3Cmpz-UU",
    "outputId": "7cf5c2d0-e216-494d-87e2-dbcdde956e0e"
   },
   "outputs": [
    {
     "data": {
      "text/plain": [
       "['a', 'b', 'c', 'd', 'e', 'f', 'g', 'h', 'i', 'j', 'k']"
      ]
     },
     "execution_count": 36,
     "metadata": {},
     "output_type": "execute_result"
    }
   ],
   "source": [
    "lst = list('abcdefghijk')\n",
    "lst"
   ]
  },
  {
   "cell_type": "code",
   "execution_count": null,
   "metadata": {
    "colab": {
     "base_uri": "https://localhost:8080/"
    },
    "id": "xnMpdQZXw2TZ",
    "outputId": "afbe5bcb-0331-4952-ee33-960aca54329c"
   },
   "outputs": [
    {
     "data": {
      "text/plain": [
       "11"
      ]
     },
     "execution_count": 37,
     "metadata": {},
     "output_type": "execute_result"
    }
   ],
   "source": [
    "len(lst)"
   ]
  },
  {
   "cell_type": "code",
   "execution_count": null,
   "metadata": {
    "colab": {
     "base_uri": "https://localhost:8080/"
    },
    "id": "Eopiloi4z6nj",
    "outputId": "779e9008-16d7-4dce-ba4b-3baa7a3854ea"
   },
   "outputs": [
    {
     "data": {
      "text/plain": [
       "['a', 'c', 'e', 'g', 'i']"
      ]
     },
     "execution_count": 41,
     "metadata": {},
     "output_type": "execute_result"
    }
   ],
   "source": [
    "lst[0:9:2] # 첫번째부터 9개 원소 추출 후 2개 단위로 추출"
   ]
  },
  {
   "cell_type": "code",
   "execution_count": null,
   "metadata": {
    "colab": {
     "base_uri": "https://localhost:8080/"
    },
    "id": "Mh2Oxe-Jz6qt",
    "outputId": "e18b6196-2b4d-4d58-adb8-da6b3edea61d"
   },
   "outputs": [
    {
     "data": {
      "text/plain": [
       "['b', 'e', 'h', 'k']"
      ]
     },
     "execution_count": 43,
     "metadata": {},
     "output_type": "execute_result"
    }
   ],
   "source": [
    "lst[1::3] # 두번째부터 다추출(생략)후 3개 단위로 추출"
   ]
  },
  {
   "cell_type": "code",
   "execution_count": null,
   "metadata": {
    "colab": {
     "base_uri": "https://localhost:8080/"
    },
    "id": "YyvmpAaHz6tb",
    "outputId": "e4dad106-2d6e-401b-9ce0-2bd0b3c1851b"
   },
   "outputs": [
    {
     "data": {
      "text/plain": [
       "['a', 'c', 'e', 'g', 'i', 'k']"
      ]
     },
     "execution_count": 45,
     "metadata": {},
     "output_type": "execute_result"
    }
   ],
   "source": [
    "lst = list('abcdefghijk')\n",
    "lst[::2] # 첫번째부터 짝수에 단위로 추출"
   ]
  },
  {
   "cell_type": "code",
   "execution_count": null,
   "metadata": {
    "colab": {
     "base_uri": "https://localhost:8080/",
     "height": 35
    },
    "id": "NUCG7vSlz6wL",
    "outputId": "d87b69a6-fc9b-441d-8493-5f6381b7e0ab"
   },
   "outputs": [
    {
     "data": {
      "application/vnd.google.colaboratory.intrinsic+json": {
       "type": "string"
      },
      "text/plain": [
       "'너또속았지'"
      ]
     },
     "execution_count": 51,
     "metadata": {},
     "output_type": "execute_result"
    }
   ],
   "source": [
    "txt = '너같이사랑스럽고\\n또예쁘고도멋지고\\n속훤히보이는너알\\n았어그동안고마웠\\n지정말정말사랑해'\n",
    "txt[::9]"
   ]
  },
  {
   "cell_type": "markdown",
   "metadata": {
    "id": "p7gOeAL71TkM"
   },
   "source": [
    "`-` 스트라이딩으로 `step = -1` 옵션 주기 vs 리스트의 .`reverse()` 메소드 이용하기"
   ]
  },
  {
   "cell_type": "code",
   "execution_count": null,
   "metadata": {
    "colab": {
     "base_uri": "https://localhost:8080/"
    },
    "id": "Nj3jw9Hcz6y1",
    "outputId": "1ddfb220-1c2b-4b25-fe79-314c64ae3cb9"
   },
   "outputs": [
    {
     "data": {
      "text/plain": [
       "['h', 'g', 'f', 'e', 'd', 'c', 'b', 'a']"
      ]
     },
     "execution_count": 52,
     "metadata": {},
     "output_type": "execute_result"
    }
   ],
   "source": [
    "lst = list('abcdefgh')\n",
    "lst[::-1]"
   ]
  },
  {
   "cell_type": "code",
   "execution_count": null,
   "metadata": {
    "colab": {
     "base_uri": "https://localhost:8080/"
    },
    "id": "28B2skJ7z61d",
    "outputId": "d7556d5a-e194-47a5-aaa9-13304a31f19c"
   },
   "outputs": [
    {
     "data": {
      "text/plain": [
       "['h', 'g', 'f', 'e', 'd', 'c', 'b', 'a']"
      ]
     },
     "execution_count": 53,
     "metadata": {},
     "output_type": "execute_result"
    }
   ],
   "source": [
    "lst.reverse()\n",
    "lst #reverse는 lst자체를 변화시킴"
   ]
  },
  {
   "cell_type": "markdown",
   "metadata": {
    "id": "_icw_4Pf1mKV"
   },
   "source": [
    "## B. len함수"
   ]
  },
  {
   "cell_type": "code",
   "execution_count": null,
   "metadata": {
    "colab": {
     "base_uri": "https://localhost:8080/",
     "height": 158
    },
    "id": "0UJ0qOkG1oc2",
    "outputId": "639cb0f4-ed92-4226-9cb4-2257167eb110"
   },
   "outputs": [
    {
     "ename": "TypeError",
     "evalue": "object of type 'int' has no len()",
     "output_type": "error",
     "traceback": [
      "\u001b[0;31m---------------------------------------------------------------------------\u001b[0m",
      "\u001b[0;31mTypeError\u001b[0m                                 Traceback (most recent call last)",
      "\u001b[0;32m<ipython-input-54-9aa686449f29>\u001b[0m in \u001b[0;36m<cell line: 2>\u001b[0;34m()\u001b[0m\n\u001b[1;32m      1\u001b[0m \u001b[0ma\u001b[0m\u001b[0;34m=\u001b[0m\u001b[0;36m1\u001b[0m\u001b[0;34m\u001b[0m\u001b[0;34m\u001b[0m\u001b[0m\n\u001b[0;32m----> 2\u001b[0;31m \u001b[0mlen\u001b[0m\u001b[0;34m(\u001b[0m\u001b[0ma\u001b[0m\u001b[0;34m)\u001b[0m\u001b[0;34m\u001b[0m\u001b[0;34m\u001b[0m\u001b[0m\n\u001b[0m",
      "\u001b[0;31mTypeError\u001b[0m: object of type 'int' has no len()"
     ]
    }
   ],
   "source": [
    "# 0차원 자료형 동작 X\n",
    "a=1\n",
    "len(a)"
   ]
  },
  {
   "cell_type": "code",
   "execution_count": null,
   "metadata": {
    "colab": {
     "base_uri": "https://localhost:8080/"
    },
    "id": "ZrYsCyHf1hQq",
    "outputId": "ea50b1fb-52dc-41c3-a8bd-d6b0078b5270"
   },
   "outputs": [
    {
     "data": {
      "text/plain": [
       "6"
      ]
     },
     "execution_count": 55,
     "metadata": {},
     "output_type": "execute_result"
    }
   ],
   "source": [
    "a=[1,2,3,4,5,6]\n",
    "len(a)"
   ]
  },
  {
   "cell_type": "code",
   "execution_count": null,
   "metadata": {
    "colab": {
     "base_uri": "https://localhost:8080/"
    },
    "id": "fwmWH1rP1dDp",
    "outputId": "8ebd4416-5f1f-4627-8815-2f363695c08b"
   },
   "outputs": [
    {
     "data": {
      "text/plain": [
       "6"
      ]
     },
     "execution_count": 56,
     "metadata": {},
     "output_type": "execute_result"
    }
   ],
   "source": [
    "a=1,2,3,4,5,6\n",
    "len(a)"
   ]
  },
  {
   "cell_type": "markdown",
   "metadata": {
    "id": "kqWfaNtg5qXB"
   },
   "source": [
    "`-` 길이가 1인 1차원 자료형과 0차원 자료형은 다른것임"
   ]
  },
  {
   "cell_type": "code",
   "execution_count": null,
   "metadata": {
    "colab": {
     "base_uri": "https://localhost:8080/"
    },
    "id": "9CyRPolT5j6-",
    "outputId": "15bbe701-f3a0-483d-e208-35af8bd733be"
   },
   "outputs": [
    {
     "data": {
      "text/plain": [
       "1"
      ]
     },
     "execution_count": 57,
     "metadata": {},
     "output_type": "execute_result"
    }
   ],
   "source": [
    "a='g'\n",
    "len(a)"
   ]
  },
  {
   "cell_type": "markdown",
   "metadata": {
    "id": "B769kB1o5uc4"
   },
   "source": [
    "`-` 길이가 0인 1차원 자료형도 존재함\n"
   ]
  },
  {
   "cell_type": "code",
   "execution_count": null,
   "metadata": {
    "colab": {
     "base_uri": "https://localhost:8080/"
    },
    "id": "SxBVpvvy5s5e",
    "outputId": "894a74e9-3077-4c20-97f2-5e5ec516d2c4"
   },
   "outputs": [
    {
     "data": {
      "text/plain": [
       "0"
      ]
     },
     "execution_count": 58,
     "metadata": {},
     "output_type": "execute_result"
    }
   ],
   "source": [
    "a=''\n",
    "len(a)"
   ]
  },
  {
   "cell_type": "code",
   "execution_count": null,
   "metadata": {
    "colab": {
     "base_uri": "https://localhost:8080/"
    },
    "id": "puFVhCsI5tw9",
    "outputId": "1bbbd55f-3977-44d6-d5f9-e97fad2e4ecf"
   },
   "outputs": [
    {
     "data": {
      "text/plain": [
       "0"
      ]
     },
     "execution_count": 59,
     "metadata": {},
     "output_type": "execute_result"
    }
   ],
   "source": [
    "a=[]\n",
    "len(a)"
   ]
  },
  {
   "cell_type": "code",
   "execution_count": null,
   "metadata": {
    "colab": {
     "base_uri": "https://localhost:8080/"
    },
    "id": "Wyq6Ep28506m",
    "outputId": "69ffb236-00b0-485e-f2b2-2331eeae187c"
   },
   "outputs": [
    {
     "data": {
      "text/plain": [
       "0"
      ]
     },
     "execution_count": 60,
     "metadata": {},
     "output_type": "execute_result"
    }
   ],
   "source": [
    "a=()\n",
    "len(a)"
   ]
  },
  {
   "cell_type": "code",
   "execution_count": null,
   "metadata": {
    "colab": {
     "base_uri": "https://localhost:8080/"
    },
    "id": "IAjGExVV52o1",
    "outputId": "92b9761c-51d7-4035-8a55-074b88edf00e"
   },
   "outputs": [
    {
     "data": {
      "text/plain": [
       "0"
      ]
     },
     "execution_count": 61,
     "metadata": {},
     "output_type": "execute_result"
    }
   ],
   "source": [
    "a=range(0)\n",
    "len(a)"
   ]
  },
  {
   "cell_type": "markdown",
   "metadata": {
    "id": "tUk8DB5V5494"
   },
   "source": [
    "# 6. `dict`"
   ]
  },
  {
   "cell_type": "markdown",
   "metadata": {
    "id": "kRm7oJxz6rAu"
   },
   "source": [
    "## A. 시퀀스형과 `dict`"
   ]
  },
  {
   "cell_type": "markdown",
   "metadata": {
    "id": "WgGhjIQf6S2E"
   },
   "source": [
    "`-`  str, list, tuple은 모두 시퀀스형이라는 공통점이 있다.\n",
    "\n",
    "  `->`\n",
    "  원소의 위치번호로 인덱싱이 가능"
   ]
  },
  {
   "cell_type": "markdown",
   "metadata": {
    "id": "IM3fUenj6bOV"
   },
   "source": [
    "**시퀀스형의 카테고리**\n",
    "* 컨테니어형: list, tuple\n",
    "\n",
    "* 균일형: str\n",
    "\n",
    "* 가변형: list\n",
    "\n",
    "* 불변형: tuple, str"
   ]
  },
  {
   "cell_type": "markdown",
   "metadata": {
    "id": "w7svWfpx6pKf"
   },
   "source": [
    "## B. 선언"
   ]
  },
  {
   "cell_type": "code",
   "execution_count": null,
   "metadata": {
    "colab": {
     "base_uri": "https://localhost:8080/"
    },
    "id": "Cxpjcw8x6xcZ",
    "outputId": "69d0779d-407d-4365-b4d8-150f9ad43c4f"
   },
   "outputs": [
    {
     "data": {
      "text/plain": [
       "{'amond': 49, 'MIN': 80}"
      ]
     },
     "execution_count": 65,
     "metadata": {},
     "output_type": "execute_result"
    }
   ],
   "source": [
    "# 일반적\n",
    "dct = {'amond':49, 'MIN':80}\n",
    "dct"
   ]
  },
  {
   "cell_type": "code",
   "execution_count": null,
   "metadata": {
    "colab": {
     "base_uri": "https://localhost:8080/"
    },
    "id": "_XyS6Dd26h8m",
    "outputId": "6fbeece5-905a-4e61-c8a6-33d91874e3e3"
   },
   "outputs": [
    {
     "data": {
      "text/plain": [
       "{'amond': 49, 'MIN': 80}"
      ]
     },
     "execution_count": 66,
     "metadata": {},
     "output_type": "execute_result"
    }
   ],
   "source": [
    "# dict() 이용\n",
    "dct = dict(amond=49, MIN=80)\n",
    "dct"
   ]
  },
  {
   "cell_type": "code",
   "execution_count": null,
   "metadata": {
    "colab": {
     "base_uri": "https://localhost:8080/"
    },
    "id": "vr3GK1Wb67A_",
    "outputId": "09d7d2ec-6d31-4c3c-fbe3-7267fe4ba41c"
   },
   "outputs": [
    {
     "data": {
      "text/plain": [
       "{'amond': 12, 'Lee': 23}"
      ]
     },
     "execution_count": 67,
     "metadata": {},
     "output_type": "execute_result"
    }
   ],
   "source": [
    "# 중첩된 리스트를 만든 뒤에 형태변환\n",
    "_lst = [['amond',12],['Lee',23]]\n",
    "dict(_lst)"
   ]
  },
  {
   "cell_type": "markdown",
   "metadata": {
    "id": "cuWnZSRb7N3z"
   },
   "source": [
    "## C. 원소추출"
   ]
  },
  {
   "cell_type": "markdown",
   "metadata": {
    "id": "ZpMi-x387htm"
   },
   "source": [
    "`-` 원소의 위치로 추출할 수 없고, key로 추출해야 한다."
   ]
  },
  {
   "cell_type": "code",
   "execution_count": null,
   "metadata": {
    "colab": {
     "base_uri": "https://localhost:8080/"
    },
    "id": "zHgeWs897PiE",
    "outputId": "a3547e68-ca7c-44c4-8183-a4ae3f2af51b"
   },
   "outputs": [
    {
     "data": {
      "text/plain": [
       "{'amond': 49, 'momo': 80}"
      ]
     },
     "execution_count": 72,
     "metadata": {},
     "output_type": "execute_result"
    }
   ],
   "source": [
    "dct = {'amond':49, 'momo':80}\n",
    "dct"
   ]
  },
  {
   "cell_type": "code",
   "execution_count": null,
   "metadata": {
    "colab": {
     "base_uri": "https://localhost:8080/"
    },
    "id": "bOS6bgAF6XSp",
    "outputId": "268d7553-32bc-434e-87f4-458c1cf7f6d9"
   },
   "outputs": [
    {
     "data": {
      "text/plain": [
       "49"
      ]
     },
     "execution_count": 73,
     "metadata": {},
     "output_type": "execute_result"
    }
   ],
   "source": [
    "dct['amond']"
   ]
  },
  {
   "cell_type": "markdown",
   "metadata": {
    "id": "VloVh57377pt"
   },
   "source": [
    "## D. 원소추가, 변경, 삭제"
   ]
  },
  {
   "cell_type": "code",
   "execution_count": null,
   "metadata": {
    "colab": {
     "base_uri": "https://localhost:8080/"
    },
    "id": "5Rn7mGVl6C87",
    "outputId": "5aa15e35-01af-4dc5-c6e3-0bac930de8d0"
   },
   "outputs": [
    {
     "data": {
      "text/plain": [
       "{'amond': 50, 'momo': 80}"
      ]
     },
     "execution_count": 77,
     "metadata": {},
     "output_type": "execute_result"
    }
   ],
   "source": [
    "# 변경\n",
    "dct = {'amond':49, 'momo':80}\n",
    "dct['amond'] = 50\n",
    "dct"
   ]
  },
  {
   "cell_type": "code",
   "execution_count": null,
   "metadata": {
    "colab": {
     "base_uri": "https://localhost:8080/"
    },
    "id": "lj1IS1m058fB",
    "outputId": "713585f8-87e6-435b-cf05-7f90bb4129f9"
   },
   "outputs": [
    {
     "data": {
      "text/plain": [
       "{'amond': 49, 'momo': 80, 'dodo': 99}"
      ]
     },
     "execution_count": 78,
     "metadata": {},
     "output_type": "execute_result"
    }
   ],
   "source": [
    "# 추가\n",
    "dct = {'amond':49, 'momo':80}\n",
    "dct['dodo'] = 99\n",
    "dct"
   ]
  },
  {
   "cell_type": "code",
   "execution_count": null,
   "metadata": {
    "colab": {
     "base_uri": "https://localhost:8080/"
    },
    "id": "LjAak7BC53Pt",
    "outputId": "a48cc004-3ea0-4204-97d2-e41465e13f8c"
   },
   "outputs": [
    {
     "data": {
      "text/plain": [
       "{'momo': 80}"
      ]
     },
     "execution_count": 80,
     "metadata": {},
     "output_type": "execute_result"
    }
   ],
   "source": [
    "# 삭제\n",
    "dct= {'amond':49, 'momo':80}\n",
    "del dct['amond']\n",
    "dct #pop도 가능"
   ]
  },
  {
   "cell_type": "markdown",
   "metadata": {
    "id": "WfXkxc9n8hYr"
   },
   "source": [
    "## F. 딕셔너리 특수기능(★)"
   ]
  },
  {
   "cell_type": "markdown",
   "metadata": {
    "id": "IRzi_loC8o8P"
   },
   "source": [
    "`-` `get()` 함수"
   ]
  },
  {
   "cell_type": "code",
   "execution_count": null,
   "metadata": {
    "colab": {
     "base_uri": "https://localhost:8080/"
    },
    "id": "HbIK7gpO8nQI",
    "outputId": "a73014f8-bf65-4b78-e4c2-2282a9bd8d66"
   },
   "outputs": [
    {
     "data": {
      "text/plain": [
       "49"
      ]
     },
     "execution_count": 1,
     "metadata": {},
     "output_type": "execute_result"
    }
   ],
   "source": [
    "dct = {'amond':49, 'momo':80}\n",
    "dct.get('amond')\n",
    "# dct['amond'] 와 동일한 기능이지만 차이가 있음"
   ]
  },
  {
   "cell_type": "code",
   "execution_count": null,
   "metadata": {
    "id": "pJ6JWZeE8h_s"
   },
   "outputs": [],
   "source": [
    "dct.get('lee') # 원소가 없으면 출력안함"
   ]
  },
  {
   "cell_type": "markdown",
   "metadata": {
    "id": "l7LLW9VVs3ut"
   },
   "source": [
    "`-` `dict.keys()` 는 딕셔너리의 키를 리턴"
   ]
  },
  {
   "cell_type": "code",
   "execution_count": null,
   "metadata": {
    "colab": {
     "base_uri": "https://localhost:8080/"
    },
    "id": "j3WzzwZItKhC",
    "outputId": "470fba38-e885-4586-d390-47f4f5c93dd9"
   },
   "outputs": [
    {
     "data": {
      "text/plain": [
       "dict_keys(['amond', 'momo'])"
      ]
     },
     "execution_count": 3,
     "metadata": {},
     "output_type": "execute_result"
    }
   ],
   "source": [
    "dct = {'amond':49, 'momo':80}\n",
    "dct.keys()"
   ]
  },
  {
   "cell_type": "markdown",
   "metadata": {
    "id": "_T5udEHotiQH"
   },
   "source": [
    "`-` `dict.values()` 는 딕셔너리의 값을 리턴"
   ]
  },
  {
   "cell_type": "code",
   "execution_count": null,
   "metadata": {
    "colab": {
     "base_uri": "https://localhost:8080/"
    },
    "id": "hffsvq-ktgXS",
    "outputId": "8cdb42a7-d1b9-4dbb-d811-11c36d3d56eb"
   },
   "outputs": [
    {
     "data": {
      "text/plain": [
       "dict_values([49, 80])"
      ]
     },
     "execution_count": 4,
     "metadata": {},
     "output_type": "execute_result"
    }
   ],
   "source": [
    "dct = {'amond':49, 'momo':80}\n",
    "dct.values()"
   ]
  },
  {
   "cell_type": "markdown",
   "metadata": {
    "id": "FppaNkMztU8M"
   },
   "source": [
    "`-` `dict.items()` 는 딕셔너리의 (키,값)을 리턴"
   ]
  },
  {
   "cell_type": "code",
   "execution_count": null,
   "metadata": {
    "colab": {
     "base_uri": "https://localhost:8080/"
    },
    "id": "75IPt84z54EV",
    "outputId": "cfb6ae00-6047-4d1c-9d16-6edd96a63f70"
   },
   "outputs": [
    {
     "data": {
      "text/plain": [
       "dict_items([('amond', 49), ('momo', 80)])"
      ]
     },
     "execution_count": 5,
     "metadata": {},
     "output_type": "execute_result"
    }
   ],
   "source": [
    "dct = {'amond':49, 'momo':80}\n",
    "dct.items()"
   ]
  },
  {
   "cell_type": "markdown",
   "metadata": {
    "id": "OgAmLUzmtq9q"
   },
   "source": [
    "## F. for문과 dict (★★)"
   ]
  },
  {
   "cell_type": "code",
   "execution_count": null,
   "metadata": {
    "colab": {
     "base_uri": "https://localhost:8080/"
    },
    "id": "272nVC7Ht0SX",
    "outputId": "1ddab108-6d1b-45b4-e0d7-1be32601a840"
   },
   "outputs": [
    {
     "name": "stdout",
     "output_type": "stream",
     "text": [
      "amond\n",
      "momo\n"
     ]
    }
   ],
   "source": [
    "dct = {'amond':49, 'momo':80}\n",
    "for k in dct.keys():\n",
    "  print(k)"
   ]
  },
  {
   "cell_type": "code",
   "execution_count": null,
   "metadata": {
    "colab": {
     "base_uri": "https://localhost:8080/"
    },
    "id": "GTWWhBDCuEcz",
    "outputId": "d66c340c-c81a-4362-e0df-514770225741"
   },
   "outputs": [
    {
     "name": "stdout",
     "output_type": "stream",
     "text": [
      "amond\n",
      "momo\n"
     ]
    }
   ],
   "source": [
    "for k in dct:\n",
    "    print(k)"
   ]
  },
  {
   "cell_type": "code",
   "execution_count": null,
   "metadata": {
    "colab": {
     "base_uri": "https://localhost:8080/"
    },
    "id": "J5GC-t8P54Hd",
    "outputId": "42010565-ffc0-446a-d3fd-0c7c5c05a874"
   },
   "outputs": [
    {
     "data": {
      "text/plain": [
       "['amond', 'momo']"
      ]
     },
     "execution_count": 7,
     "metadata": {},
     "output_type": "execute_result"
    }
   ],
   "source": [
    "list(dct)"
   ]
  },
  {
   "cell_type": "markdown",
   "metadata": {
    "id": "jP0udrGQuHNK"
   },
   "source": [
    "`-` 딕셔너리 그자체도 for문에 넣을 수 있다. 그때는 딕셔너리의 key가 반복된다.\n",
    "\n",
    "`-` 결과를 보면 dct 대신에 dct.keys()와 list(dct)를 넣었을때와 결과가 같다.\n",
    "> Note: list(dct) 하면 key만 리턴된다.\n",
    "\n"
   ]
  },
  {
   "cell_type": "code",
   "execution_count": null,
   "metadata": {
    "colab": {
     "base_uri": "https://localhost:8080/"
    },
    "id": "8aiHX_xouN-Z",
    "outputId": "1cf12e1a-1f7f-4181-9b93-d3f96601248c"
   },
   "outputs": [
    {
     "name": "stdout",
     "output_type": "stream",
     "text": [
      "amond의 점수는 49점입니다.\n",
      "momo의 점수는 80점입니다.\n"
     ]
    }
   ],
   "source": [
    "for name,score in dct.items():\n",
    "  print(f'{name}의 점수는 {score}점입니다.')"
   ]
  },
  {
   "cell_type": "code",
   "execution_count": null,
   "metadata": {
    "colab": {
     "base_uri": "https://localhost:8080/"
    },
    "id": "zBCQfCJbuqlY",
    "outputId": "49240465-fa83-472d-e682-4d5d0dc1d7d6"
   },
   "outputs": [
    {
     "data": {
      "text/plain": [
       "['amond', 'momo']"
      ]
     },
     "execution_count": 12,
     "metadata": {},
     "output_type": "execute_result"
    }
   ],
   "source": [
    "# 컴프리헨션 이용한 값 뽑기\n",
    "[k for k,v in dct.items()]"
   ]
  },
  {
   "cell_type": "markdown",
   "metadata": {
    "id": "0Kz-5dpCu705"
   },
   "source": [
    "# 7. 딕셔너리를 이용한 치환(★★★)"
   ]
  },
  {
   "cell_type": "markdown",
   "metadata": {
    "id": "pohXsS2jz7b4"
   },
   "source": [
    "> 예제 1"
   ]
  },
  {
   "cell_type": "code",
   "execution_count": null,
   "metadata": {
    "id": "fNtv2owI54KN"
   },
   "outputs": [],
   "source": [
    "lst = ['딸기','사과','바나나','딸기','사과','오토바이','자동차','버스','기차','오토바이','자동차']"
   ]
  },
  {
   "cell_type": "code",
   "execution_count": null,
   "metadata": {
    "id": "Uy_LdAmy54M1"
   },
   "outputs": [],
   "source": [
    "dct = {'과일':['딸기','사과','바나나'],'탈것':['오토바이','자동차','버스','기차']}"
   ]
  },
  {
   "cell_type": "code",
   "execution_count": null,
   "metadata": {
    "colab": {
     "base_uri": "https://localhost:8080/"
    },
    "id": "mAAmvwGl54Pr",
    "outputId": "faa33d13-4ffe-4b30-9677-fefe38a32f6c"
   },
   "outputs": [
    {
     "data": {
      "text/plain": [
       "['딸기', '사과', '바나나']"
      ]
     },
     "execution_count": 34,
     "metadata": {},
     "output_type": "execute_result"
    }
   ],
   "source": [
    "dct['과일']"
   ]
  },
  {
   "cell_type": "code",
   "execution_count": null,
   "metadata": {
    "colab": {
     "base_uri": "https://localhost:8080/"
    },
    "id": "yXBR3V-vzzxr",
    "outputId": "d94d287f-fdc1-463d-8c4b-89dd479c67db"
   },
   "outputs": [
    {
     "data": {
      "text/plain": [
       "[{'딸기': '과일'},\n",
       " {'딸기': '탈것'},\n",
       " {'사과': '과일'},\n",
       " {'사과': '탈것'},\n",
       " {'바나나': '과일'},\n",
       " {'바나나': '탈것'},\n",
       " {'딸기': '과일'},\n",
       " {'딸기': '탈것'},\n",
       " {'사과': '과일'},\n",
       " {'사과': '탈것'},\n",
       " {'오토바이': '과일'},\n",
       " {'오토바이': '탈것'},\n",
       " {'자동차': '과일'},\n",
       " {'자동차': '탈것'},\n",
       " {'버스': '과일'},\n",
       " {'버스': '탈것'},\n",
       " {'기차': '과일'},\n",
       " {'기차': '탈것'},\n",
       " {'오토바이': '과일'},\n",
       " {'오토바이': '탈것'},\n",
       " {'자동차': '과일'},\n",
       " {'자동차': '탈것'}]"
      ]
     },
     "execution_count": 41,
     "metadata": {},
     "output_type": "execute_result"
    }
   ],
   "source": [
    "[{l:k} for l in lst for k in dct]"
   ]
  },
  {
   "cell_type": "code",
   "execution_count": null,
   "metadata": {
    "colab": {
     "base_uri": "https://localhost:8080/"
    },
    "id": "NQYiwQYPvqBv",
    "outputId": "8cab5de8-08e0-4fd2-f6ce-ea7d2d593cb1"
   },
   "outputs": [
    {
     "data": {
      "text/plain": [
       "[{'딸기': '과일'},\n",
       " {'사과': '과일'},\n",
       " {'바나나': '과일'},\n",
       " {'딸기': '과일'},\n",
       " {'사과': '과일'},\n",
       " {'오토바이': '탈것'},\n",
       " {'자동차': '탈것'},\n",
       " {'버스': '탈것'},\n",
       " {'기차': '탈것'},\n",
       " {'오토바이': '탈것'},\n",
       " {'자동차': '탈것'}]"
      ]
     },
     "execution_count": 36,
     "metadata": {},
     "output_type": "execute_result"
    }
   ],
   "source": [
    "[{l:k} for l in lst for k in dct if l in dct[k]]"
   ]
  },
  {
   "cell_type": "code",
   "execution_count": null,
   "metadata": {
    "colab": {
     "base_uri": "https://localhost:8080/"
    },
    "id": "o1gJvUoRzakg",
    "outputId": "ba2bd368-5d74-4985-8613-04eb88024650"
   },
   "outputs": [
    {
     "data": {
      "text/plain": [
       "['과일', '과일', '과일', '과일', '과일', '탈것', '탈것', '탈것', '탈것', '탈것', '탈것']"
      ]
     },
     "execution_count": 40,
     "metadata": {},
     "output_type": "execute_result"
    }
   ],
   "source": [
    "# 치환\n",
    "[k for l in lst for k in dct if l in dct[k]]"
   ]
  },
  {
   "cell_type": "markdown",
   "metadata": {
    "id": "ZQrILnC60BsS"
   },
   "source": [
    "> 예제 2"
   ]
  },
  {
   "cell_type": "code",
   "execution_count": null,
   "metadata": {
    "colab": {
     "base_uri": "https://localhost:8080/"
    },
    "id": "6amBT7IGzqxx",
    "outputId": "2add7978-acfd-4b30-a5a5-56a04c4975ae"
   },
   "outputs": [
    {
     "data": {
      "text/plain": [
       "['a', 'b', 'c', 'd', 'a', 'b', 'c', 'd', 'b', 'b', 'b']"
      ]
     },
     "execution_count": 129,
     "metadata": {},
     "output_type": "execute_result"
    }
   ],
   "source": [
    "lst = list('abcd'*2+'bbb')\n",
    "lst"
   ]
  },
  {
   "cell_type": "code",
   "execution_count": null,
   "metadata": {
    "id": "ZPWRvuCy0E5i"
   },
   "outputs": [],
   "source": [
    "dct={'a':[1,0,0,0],'b':[0,1,0,0],'c':[0,0,1,0],'d':[0,0,0,1]}"
   ]
  },
  {
   "cell_type": "code",
   "execution_count": null,
   "metadata": {
    "colab": {
     "base_uri": "https://localhost:8080/"
    },
    "id": "aZ5gR-ivEej4",
    "outputId": "1f3e61f7-66ae-4f8d-91ad-f3dce5da1280"
   },
   "outputs": [
    {
     "data": {
      "text/plain": [
       "[[1, 0, 0, 0],\n",
       " [0, 1, 0, 0],\n",
       " [0, 0, 1, 0],\n",
       " [0, 0, 0, 1],\n",
       " [1, 0, 0, 0],\n",
       " [0, 1, 0, 0],\n",
       " [0, 0, 1, 0],\n",
       " [0, 0, 0, 1],\n",
       " [0, 1, 0, 0],\n",
       " [0, 1, 0, 0],\n",
       " [0, 1, 0, 0]]"
      ]
     },
     "execution_count": 131,
     "metadata": {},
     "output_type": "execute_result"
    }
   ],
   "source": [
    "[dct[l] for l in lst]"
   ]
  },
  {
   "cell_type": "code",
   "execution_count": null,
   "metadata": {
    "colab": {
     "base_uri": "https://localhost:8080/"
    },
    "id": "jTWjDeMg0Q1o",
    "outputId": "a317a08b-eb5c-44f1-943e-230d504e84fc"
   },
   "outputs": [
    {
     "data": {
      "text/plain": [
       "False"
      ]
     },
     "execution_count": 66,
     "metadata": {},
     "output_type": "execute_result"
    }
   ],
   "source": [
    "lst[0] ==  dct"
   ]
  },
  {
   "cell_type": "code",
   "execution_count": null,
   "metadata": {
    "colab": {
     "base_uri": "https://localhost:8080/"
    },
    "id": "eWiooTog6ONa",
    "outputId": "220db23d-f04d-403e-f407-25a03a35ad2e"
   },
   "outputs": [
    {
     "data": {
      "text/plain": [
       "[1, 0, 0, 0]"
      ]
     },
     "execution_count": 70,
     "metadata": {},
     "output_type": "execute_result"
    }
   ],
   "source": [
    "dct['a']"
   ]
  },
  {
   "cell_type": "code",
   "execution_count": null,
   "metadata": {
    "colab": {
     "base_uri": "https://localhost:8080/"
    },
    "id": "94lOCNqS0fdS",
    "outputId": "aca9f85b-4220-48c8-b921-7277899319a8"
   },
   "outputs": [
    {
     "data": {
      "text/plain": [
       "[{'a': [1, 0, 0, 0]},\n",
       " {'b': [0, 1, 0, 0]},\n",
       " {'c': [0, 0, 1, 0]},\n",
       " {'d': [0, 0, 0, 1]},\n",
       " {'a': [1, 0, 0, 0]},\n",
       " {'b': [0, 1, 0, 0]},\n",
       " {'c': [0, 0, 1, 0]},\n",
       " {'d': [0, 0, 0, 1]},\n",
       " {'b': [0, 1, 0, 0]},\n",
       " {'b': [0, 1, 0, 0]},\n",
       " {'b': [0, 1, 0, 0]}]"
      ]
     },
     "execution_count": 78,
     "metadata": {},
     "output_type": "execute_result"
    }
   ],
   "source": [
    "[{l:dct[l]} for l in lst]"
   ]
  },
  {
   "cell_type": "markdown",
   "metadata": {
    "id": "_w0wrFxj7plK"
   },
   "source": [
    "> 예제3"
   ]
  },
  {
   "cell_type": "markdown",
   "metadata": {
    "id": "RCDuuiVQHFXS"
   },
   "source": [
    "* 억지로 만들기... 튜플 활용해서"
   ]
  },
  {
   "cell_type": "code",
   "execution_count": null,
   "metadata": {
    "id": "xw9YBPDR7y89"
   },
   "outputs": [],
   "source": [
    "lst2= [[1, 0, 0, 0],\n",
    "       [0, 1, 0, 0],\n",
    "       [0, 0, 1, 0],\n",
    "       [0, 0, 0, 1],\n",
    "       [1, 0, 0, 0],\n",
    "       [0, 1, 0, 0],\n",
    "       [0, 0, 1, 0],\n",
    "       [0, 0, 0, 1],\n",
    "       [0, 1, 0, 0],\n",
    "       [0, 1, 0, 0],\n",
    "       [0, 1, 0, 0]]"
   ]
  },
  {
   "cell_type": "code",
   "execution_count": null,
   "metadata": {
    "id": "Zdp9QFRnFRcZ"
   },
   "outputs": [],
   "source": [
    "dct={(1,0,0,0):'a',(0,1,0,0):'b',(0,0,1,0):'c',(0,0,0,1):'d'}"
   ]
  },
  {
   "cell_type": "code",
   "execution_count": null,
   "metadata": {
    "colab": {
     "base_uri": "https://localhost:8080/"
    },
    "id": "hYh42jh0D9LN",
    "outputId": "e967745b-6123-4ff5-da7a-52ba3e920e4b"
   },
   "outputs": [
    {
     "data": {
      "text/plain": [
       "['a', 'b', 'c', 'd', 'a', 'b', 'c', 'd', 'b', 'b', 'b']"
      ]
     },
     "execution_count": 185,
     "metadata": {},
     "output_type": "execute_result"
    }
   ],
   "source": [
    "[dct[tuple(l)] for l in lst2]"
   ]
  },
  {
   "cell_type": "markdown",
   "metadata": {
    "id": "o5ql_sxIHMUy"
   },
   "source": [
    "* 기존 dct 이용(난이도:☆☆☆☆)"
   ]
  },
  {
   "cell_type": "code",
   "execution_count": null,
   "metadata": {
    "id": "kcuYNHyLHOVO"
   },
   "outputs": [],
   "source": [
    "dct={'a':[1,0,0,0],'b':[0,1,0,0],'c':[0,0,1,0],'d':[0,0,0,1]}"
   ]
  },
  {
   "cell_type": "code",
   "execution_count": null,
   "metadata": {
    "colab": {
     "base_uri": "https://localhost:8080/"
    },
    "id": "s74cNFv6NJPu",
    "outputId": "55eebd7f-c99a-4310-8a90-31eec9bc14a9"
   },
   "outputs": [
    {
     "data": {
      "text/plain": [
       "[1, 0, 0, 0]"
      ]
     },
     "execution_count": 199,
     "metadata": {},
     "output_type": "execute_result"
    }
   ],
   "source": [
    "dct['a']"
   ]
  },
  {
   "cell_type": "code",
   "execution_count": null,
   "metadata": {
    "colab": {
     "base_uri": "https://localhost:8080/"
    },
    "id": "ruG7bJi3IzmQ",
    "outputId": "00792858-08fe-44a1-dbba-7c406cdf4de1"
   },
   "outputs": [
    {
     "data": {
      "text/plain": [
       "[[1, 0, 0, 0],\n",
       " [0, 1, 0, 0],\n",
       " [0, 0, 1, 0],\n",
       " [0, 0, 0, 1],\n",
       " [1, 0, 0, 0],\n",
       " [0, 1, 0, 0],\n",
       " [0, 0, 1, 0],\n",
       " [0, 0, 0, 1],\n",
       " [0, 1, 0, 0],\n",
       " [0, 1, 0, 0],\n",
       " [0, 1, 0, 0]]"
      ]
     },
     "execution_count": 187,
     "metadata": {},
     "output_type": "execute_result"
    }
   ],
   "source": [
    "# 1\n",
    "[l for l in lst2]"
   ]
  },
  {
   "cell_type": "code",
   "execution_count": null,
   "metadata": {
    "colab": {
     "base_uri": "https://localhost:8080/"
    },
    "id": "PWHxHeG1JJO3",
    "outputId": "1e3ba2e6-df26-49e3-e445-e66c494cc3ac"
   },
   "outputs": [
    {
     "data": {
      "text/plain": [
       "[[1, 0, 0, 0],\n",
       " [0, 1, 0, 0],\n",
       " [0, 0, 1, 0],\n",
       " [0, 0, 0, 1],\n",
       " [1, 0, 0, 0],\n",
       " [0, 1, 0, 0],\n",
       " [0, 0, 1, 0],\n",
       " [0, 0, 0, 1],\n",
       " [0, 1, 0, 0],\n",
       " [0, 1, 0, 0],\n",
       " [0, 1, 0, 0]]"
      ]
     },
     "execution_count": 188,
     "metadata": {},
     "output_type": "execute_result"
    }
   ],
   "source": [
    "# 2\n",
    "[l for l in lst2 for k in dct if dct[k]==l]"
   ]
  },
  {
   "cell_type": "code",
   "execution_count": null,
   "metadata": {
    "colab": {
     "base_uri": "https://localhost:8080/"
    },
    "id": "MsPYQoMHIyZs",
    "outputId": "11983dd0-c082-481f-a430-82591cf85f7c"
   },
   "outputs": [
    {
     "data": {
      "text/plain": [
       "['a', 'b', 'c', 'd', 'a', 'b', 'c', 'd', 'b', 'b', 'b']"
      ]
     },
     "execution_count": 200,
     "metadata": {},
     "output_type": "execute_result"
    }
   ],
   "source": [
    "# 3\n",
    "[k for l in lst2 for k in dct if dct[k]==l]"
   ]
  },
  {
   "cell_type": "markdown",
   "metadata": {
    "id": "-OeoSvFndf58"
   },
   "source": [
    "> 예제 4"
   ]
  },
  {
   "cell_type": "code",
   "execution_count": null,
   "metadata": {
    "id": "4Pjp8MQ0KC_v"
   },
   "outputs": [],
   "source": [
    "month = [1,2,2,3,4,5,6,7,8,9,9,10,11,12]"
   ]
  },
  {
   "cell_type": "code",
   "execution_count": null,
   "metadata": {
    "id": "ewJJB0yGKEV9"
   },
   "outputs": [],
   "source": [
    "dct = {'겨울방학':[1,2],'1학기':[3,4,5,6],'여름방학':[7,8],'2학기':[9,10,11,12]}"
   ]
  },
  {
   "cell_type": "code",
   "execution_count": null,
   "metadata": {
    "colab": {
     "base_uri": "https://localhost:8080/"
    },
    "id": "mJCqEkXedjQo",
    "outputId": "560a2f3f-5474-481e-e8d3-fabee7bed3ea"
   },
   "outputs": [
    {
     "data": {
      "text/plain": [
       "[1, 2]"
      ]
     },
     "execution_count": 203,
     "metadata": {},
     "output_type": "execute_result"
    }
   ],
   "source": [
    "dct['겨울방학']"
   ]
  },
  {
   "cell_type": "code",
   "execution_count": null,
   "metadata": {
    "colab": {
     "base_uri": "https://localhost:8080/"
    },
    "id": "arqUCTumKYzV",
    "outputId": "6af00a7a-e736-4304-d327-014c6f41ea45"
   },
   "outputs": [
    {
     "data": {
      "text/plain": [
       "[1, 2, 2, 3, 4, 5, 6, 7, 8, 9, 9, 10, 11, 12]"
      ]
     },
     "execution_count": 195,
     "metadata": {},
     "output_type": "execute_result"
    }
   ],
   "source": [
    "[m for m in month for k in dct if m in dct[k]]"
   ]
  },
  {
   "cell_type": "markdown",
   "metadata": {
    "id": "yzODCEiKdlH7"
   },
   "source": [
    "> 예제 5"
   ]
  },
  {
   "cell_type": "code",
   "execution_count": null,
   "metadata": {
    "id": "q78qH7oRhgIs"
   },
   "outputs": [],
   "source": [
    "# 입력\n",
    "[0,1,0,1,4]\n",
    "\n",
    "# 출력\n",
    "['바나나', '사과', '바나나', '사과', '자전거']"
   ]
  },
  {
   "cell_type": "code",
   "execution_count": null,
   "metadata": {
    "id": "IknY-_gkd0ih"
   },
   "outputs": [],
   "source": [
    "lst = [0,1,0,1,4]\n",
    "dct1 = {'바나나':0, '사과':1, '오토바이':2, '자동차':3, '자전거':4}"
   ]
  },
  {
   "cell_type": "code",
   "execution_count": null,
   "metadata": {
    "id": "8ss0Rxuzfgsh"
   },
   "outputs": [],
   "source": [
    "f = lambda lst : [k for l in lst for k in dct1 if dct1[k]==l]"
   ]
  },
  {
   "cell_type": "code",
   "execution_count": null,
   "metadata": {
    "colab": {
     "base_uri": "https://localhost:8080/"
    },
    "id": "augFPDg4hQBA",
    "outputId": "7fe3c770-990f-45a3-d325-5e66265fa5af"
   },
   "outputs": [
    {
     "data": {
      "text/plain": [
       "['바나나', '바나나', '사과', '오토바이', '자동차']"
      ]
     },
     "execution_count": 231,
     "metadata": {},
     "output_type": "execute_result"
    }
   ],
   "source": [
    "f([0,0,1,2,3])"
   ]
  },
  {
   "cell_type": "markdown",
   "metadata": {
    "id": "AVIc-EsYhWu7"
   },
   "source": [
    "> 예제 6"
   ]
  },
  {
   "cell_type": "code",
   "execution_count": null,
   "metadata": {
    "id": "XPi1LIJQhn0Z"
   },
   "outputs": [],
   "source": [
    "# 입력\n",
    "['바나나','바나나','바나나','자동차']\n",
    "\n",
    "# 출력\n",
    "['과일','과일','과일','탈것']"
   ]
  },
  {
   "cell_type": "code",
   "execution_count": null,
   "metadata": {
    "id": "WJzKIx0OhWXP"
   },
   "outputs": [],
   "source": [
    "lst = ['바나나','바나나','바나나','자동차']\n",
    "dct2 = {'과일':['바나나','사과'], '탈것':['오토바이','자동차','자전거']}"
   ]
  },
  {
   "cell_type": "code",
   "execution_count": null,
   "metadata": {
    "id": "wxPiSRouhdRP"
   },
   "outputs": [],
   "source": [
    "g =lambda lst: [k for l in lst for k in dct2 if l in dct2[k]]"
   ]
  },
  {
   "cell_type": "code",
   "execution_count": null,
   "metadata": {
    "colab": {
     "base_uri": "https://localhost:8080/"
    },
    "id": "HqW1KwU6iAzm",
    "outputId": "1a4592b5-8adf-4f33-85ef-503ad8448cd7"
   },
   "outputs": [
    {
     "data": {
      "text/plain": [
       "['과일', '과일', '과일', '탈것']"
      ]
     },
     "execution_count": 241,
     "metadata": {},
     "output_type": "execute_result"
    }
   ],
   "source": [
    "g(['바나나','바나나','바나나','자동차'])"
   ]
  },
  {
   "cell_type": "code",
   "execution_count": null,
   "metadata": {
    "colab": {
     "base_uri": "https://localhost:8080/"
    },
    "id": "wUmfVFoGiCde",
    "outputId": "806c71a7-3538-40ec-8b84-261d64a31a62"
   },
   "outputs": [
    {
     "data": {
      "text/plain": [
       "['과일', '과일', '탈것', '탈것']"
      ]
     },
     "execution_count": 243,
     "metadata": {},
     "output_type": "execute_result"
    }
   ],
   "source": [
    "g(f([0,1,2,3]))"
   ]
  },
  {
   "cell_type": "markdown",
   "metadata": {
    "id": "ks8ihqpckFI8"
   },
   "source": [
    "# 8. 파이썬 자료형 연습문제"
   ]
  },
  {
   "cell_type": "code",
   "execution_count": 7,
   "metadata": {
    "id": "PEMtKjL8kR2q",
    "tags": []
   },
   "outputs": [],
   "source": [
    "import requests\n",
    "url = 'https://raw.githubusercontent.com/guebin/PP2023/main/posts/01_PythonBasic/Oxford-IIIT.txt'\n",
    "txt = requests.get(url).content.decode()"
   ]
  },
  {
   "cell_type": "code",
   "execution_count": 8,
   "metadata": {
    "colab": {
     "base_uri": "https://localhost:8080/",
     "height": 54
    },
    "id": "psOnMgLhktP6",
    "outputId": "613b45e0-4aaa-4aba-9f9d-cd5a2da465e4",
    "tags": []
   },
   "outputs": [
    {
     "data": {
      "text/plain": [
       "'Abyssinian_1.jpg\\nAbyssinian_10.jpg\\nAbyssinian_100.jpg\\nAbyssinian_100.mat\\nAbyssinian_101.jpg\\nAbyssinian_101.mat\\nAbyssinian_102.jpg\\nAbyssinian_102.mat\\nA'"
      ]
     },
     "execution_count": 8,
     "metadata": {},
     "output_type": "execute_result"
    }
   ],
   "source": [
    "txt[:150]"
   ]
  },
  {
   "cell_type": "markdown",
   "metadata": {
    "id": "aKunrE9Yklzr"
   },
   "source": [
    "`#` `문제`. 각 파일명은 `\\n`으로 구분되어있다. 위의 스트링을 분해하여 아래와 같은 리스트를 생성하고 fname_list에 저장하라."
   ]
  },
  {
   "cell_type": "code",
   "execution_count": 9,
   "metadata": {
    "id": "S-zAoRFgizJq",
    "tags": []
   },
   "outputs": [],
   "source": [
    "fname_list = txt.split('\\n')"
   ]
  },
  {
   "cell_type": "markdown",
   "metadata": {
    "id": "RMhyWhoHk_Xh"
   },
   "source": [
    " `-` 각 이미지파일명은 아래와 같은 규칙으로 저장되어 있다.\n",
    "\n",
    "* 파일명의 첫글자가 대문자이면 고양이를 의미하고 첫글자가 소문자이면 강아지를 의미한다.\n",
    "\n",
    "`# 문제. ` 이미지 파일명이 입력으로 오면 강아지인지 고양이인지 판단하여 ‘cat’ or ’dog’를 리턴하는 함수 f를 구현하라."
   ]
  },
  {
   "cell_type": "code",
   "execution_count": 10,
   "metadata": {
    "id": "0F_85MDtizM6",
    "tags": []
   },
   "outputs": [],
   "source": [
    "f = lambda str : 'cat' if str[0].isupper() else 'dog'"
   ]
  },
  {
   "cell_type": "code",
   "execution_count": 11,
   "metadata": {
    "colab": {
     "base_uri": "https://localhost:8080/",
     "height": 36
    },
    "id": "E7-EI98QizQK",
    "outputId": "79886987-60fa-483c-fa4f-9f8effd31d61",
    "tags": []
   },
   "outputs": [
    {
     "data": {
      "text/plain": [
       "'cat'"
      ]
     },
     "execution_count": 11,
     "metadata": {},
     "output_type": "execute_result"
    }
   ],
   "source": [
    "f('Abyssinian_1.jpg')"
   ]
  },
  {
   "cell_type": "markdown",
   "metadata": {
    "id": "8BPO0x8Dmvo1"
   },
   "source": [
    "`# 문제.` 위의 결과로 나온 fname_list를 입력으로 하고,\n",
    "\n",
    "리스트의 각 원소가 고양이를 의미하는 그림인지 강아지를 의미하는 그림인지 나타내는 리스트를 만들어라."
   ]
  },
  {
   "cell_type": "code",
   "execution_count": 12,
   "metadata": {
    "colab": {
     "base_uri": "https://localhost:8080/"
    },
    "id": "xtF8lmyPm3mm",
    "outputId": "1d60a1dc-ffb7-4814-fde9-625e754d74c4",
    "tags": []
   },
   "outputs": [
    {
     "data": {
      "text/plain": [
       "['cat', 'cat', Ellipsis, 'dog', 'dog']"
      ]
     },
     "execution_count": 12,
     "metadata": {},
     "output_type": "execute_result"
    }
   ],
   "source": [
    "## 입력예시\n",
    "['Abyssinian_1.jpg','Abyssinian_10.jpg',...,'yorkshire_terrier_98.jpg', 'yorkshire_terrier_99.jpg']\n",
    "\n",
    "## 출력예시\n",
    "['cat', 'cat', ... , 'dog', 'dog']"
   ]
  },
  {
   "cell_type": "code",
   "execution_count": 13,
   "metadata": {
    "colab": {
     "base_uri": "https://localhost:8080/"
    },
    "id": "PvcQkg2FmfGe",
    "outputId": "711cc255-3fa9-4682-8204-e93bf93852ae",
    "tags": []
   },
   "outputs": [
    {
     "data": {
      "text/plain": [
       "['cat',\n",
       " 'cat',\n",
       " 'cat',\n",
       " 'cat',\n",
       " 'cat',\n",
       " 'cat',\n",
       " 'cat',\n",
       " 'cat',\n",
       " 'cat',\n",
       " 'cat',\n",
       " 'cat',\n",
       " 'cat',\n",
       " 'cat',\n",
       " 'cat',\n",
       " 'cat']"
      ]
     },
     "execution_count": 13,
     "metadata": {},
     "output_type": "execute_result"
    }
   ],
   "source": [
    "list(map(f,fname_list))[:15]"
   ]
  },
  {
   "cell_type": "markdown",
   "metadata": {
    "id": "SnHS6dItnUi2"
   },
   "source": [
    "`# 문제.` 강아지 그림과 고양이 그림이 각각 몇 장씩 포함되어 있는지 파악하는 코드를 구현하라."
   ]
  },
  {
   "cell_type": "code",
   "execution_count": null,
   "metadata": {
    "colab": {
     "base_uri": "https://localhost:8080/"
    },
    "id": "iVw0yGU1nXFZ",
    "outputId": "30e71b60-5267-4192-ab9c-2a3fa0ae5815"
   },
   "outputs": [
    {
     "data": {
      "text/plain": [
       "2403"
      ]
     },
     "execution_count": 311,
     "metadata": {},
     "output_type": "execute_result"
    }
   ],
   "source": [
    "list(map(f,fname_list)).count('cat')"
   ]
  },
  {
   "cell_type": "code",
   "execution_count": null,
   "metadata": {
    "colab": {
     "base_uri": "https://localhost:8080/"
    },
    "id": "L17MYtB2nRCt",
    "outputId": "723c8c53-6099-4dc7-b347-61cf8daba3c8"
   },
   "outputs": [
    {
     "data": {
      "text/plain": [
       "4990"
      ]
     },
     "execution_count": 312,
     "metadata": {},
     "output_type": "execute_result"
    }
   ],
   "source": [
    "list(map(f,fname_list)).count('dog')"
   ]
  },
  {
   "cell_type": "code",
   "execution_count": null,
   "metadata": {
    "colab": {
     "base_uri": "https://localhost:8080/"
    },
    "id": "L6suH1M_izTx",
    "outputId": "c5f4650b-545d-4c88-aa27-25735697f711"
   },
   "outputs": [
    {
     "data": {
      "text/plain": [
       "{'cat': 2403, 'dog': 4990}"
      ]
     },
     "execution_count": 313,
     "metadata": {},
     "output_type": "execute_result"
    }
   ],
   "source": [
    "lst = list(map(f,fname_list))\n",
    "{s:lst.count(s) for s in set(lst)}"
   ]
  },
  {
   "cell_type": "code",
   "execution_count": 15,
   "metadata": {
    "colab": {
     "base_uri": "https://localhost:8080/"
    },
    "id": "xPY3a2dIoR8B",
    "outputId": "a18ffeb7-b9c7-45ff-a971-5caf25c20a30",
    "tags": []
   },
   "outputs": [
    {
     "data": {
      "text/plain": [
       "['Abyssinian_1.jpg',\n",
       " 'Abyssinian_10.jpg',\n",
       " 'Abyssinian_100.jpg',\n",
       " 'Abyssinian_100.mat',\n",
       " 'Abyssinian_101.jpg',\n",
       " 'Abyssinian_101.mat',\n",
       " 'Abyssinian_102.jpg',\n",
       " 'Abyssinian_102.mat',\n",
       " 'Abyssinian_103.jpg',\n",
       " 'Abyssinian_104.jpg',\n",
       " 'Abyssinian_105.jpg',\n",
       " 'Abyssinian_106.jpg',\n",
       " 'Abyssinian_107.jpg',\n",
       " 'Abyssinian_108.jpg',\n",
       " 'Abyssinian_109.jpg',\n",
       " 'Abyssinian_11.jpg',\n",
       " 'Abyssinian_110.jpg',\n",
       " 'Abyssinian_111.jpg',\n",
       " 'Abyssinian_112.jpg',\n",
       " 'Abyssinian_113.jpg',\n",
       " 'Abyssinian_114.jpg',\n",
       " 'Abyssinian_115.jpg',\n",
       " 'Abyssinian_116.jpg',\n",
       " 'Abyssinian_117.jpg',\n",
       " 'Abyssinian_118.jpg',\n",
       " 'Abyssinian_119.jpg',\n",
       " 'Abyssinian_12.jpg',\n",
       " 'Abyssinian_120.jpg',\n",
       " 'Abyssinian_121.jpg',\n",
       " 'Abyssinian_122.jpg']"
      ]
     },
     "execution_count": 15,
     "metadata": {},
     "output_type": "execute_result"
    }
   ],
   "source": [
    "fname_list[:30]"
   ]
  },
  {
   "cell_type": "markdown",
   "metadata": {
    "id": "Iwwe6dLVnwic"
   },
   "source": [
    "`# 문제.` 고양이 혹은 강아지의 각 종이 몇 장씩 포함되어있는지 구하여 딕셔너리로 정리하라."
   ]
  },
  {
   "cell_type": "code",
   "execution_count": 16,
   "metadata": {
    "colab": {
     "base_uri": "https://localhost:8080/"
    },
    "id": "DJG1qts8ns0o",
    "outputId": "f64b08e6-5fef-4af1-c781-ea0847a078ad",
    "tags": []
   },
   "outputs": [
    {
     "data": {
      "text/plain": [
       "['Abyssinian',\n",
       " 'Abyssinian',\n",
       " 'Abyssinian',\n",
       " 'Abyssinian',\n",
       " 'Abyssinian',\n",
       " 'Abyssinian',\n",
       " 'Abyssinian',\n",
       " 'Abyssinian',\n",
       " 'Abyssinian',\n",
       " 'Abyssinian',\n",
       " 'Abyssinian',\n",
       " 'Abyssinian',\n",
       " 'Abyssinian',\n",
       " 'Abyssinian',\n",
       " 'Abyssinian',\n",
       " 'Abyssinian',\n",
       " 'Abyssinian',\n",
       " 'Abyssinian',\n",
       " 'Abyssinian',\n",
       " 'Abyssinian']"
      ]
     },
     "execution_count": 16,
     "metadata": {},
     "output_type": "execute_result"
    }
   ],
   "source": [
    "ani_lst = ['_'.join(l.split('_')[:-1]) for l in fname_list]\n",
    "ani_lst[:20]"
   ]
  },
  {
   "cell_type": "markdown",
   "metadata": {
    "id": "8MB2F5m-qhr3"
   },
   "source": [
    "## `text` 포함된 글자수 세기"
   ]
  },
  {
   "cell_type": "code",
   "execution_count": null,
   "metadata": {
    "colab": {
     "base_uri": "https://localhost:8080/"
    },
    "id": "u3yx4q7lpAVN",
    "outputId": "d0aecd25-3d9e-4fa1-fdca-e5ca883fc9ce"
   },
   "outputs": [
    {
     "data": {
      "text/plain": [
       "[{'Abyssinian': 203},\n",
       " {'Egyptian_Mau': 200},\n",
       " {'american_bulldog': 200},\n",
       " {'samoyed': 200},\n",
       " {'english_cocker_spaniel': 200},\n",
       " {'Bengal': 200},\n",
       " {'scottish_terrier': 199},\n",
       " {'Siamese': 200},\n",
       " {'american_pit_bull_terrier': 200},\n",
       " {'newfoundland': 200},\n",
       " {'keeshond': 200},\n",
       " {'staffordshire_bull_terrier': 191},\n",
       " {'Bombay': 200},\n",
       " {'saint_bernard': 200},\n",
       " {'basset_hound': 200},\n",
       " {'Persian': 200},\n",
       " {'english_setter': 200},\n",
       " {'Sphynx': 200},\n",
       " {'japanese_chin': 200},\n",
       " {'pomeranian': 200},\n",
       " {'miniature_pinscher': 200},\n",
       " {'shiba_inu': 200},\n",
       " {'chihuahua': 200},\n",
       " {'Russian_Blue': 200},\n",
       " {'leonberger': 200},\n",
       " {'havanese': 200},\n",
       " {'Ragdoll': 200},\n",
       " {'British_Shorthair': 200},\n",
       " {'Birman': 200},\n",
       " {'german_shorthaired': 200},\n",
       " {'yorkshire_terrier': 200},\n",
       " {'great_pyrenees': 200},\n",
       " {'pug': 200},\n",
       " {'wheaten_terrier': 200},\n",
       " {'boxer': 200},\n",
       " {'Maine_Coon': 200},\n",
       " {'beagle': 200}]"
      ]
     },
     "execution_count": 346,
     "metadata": {},
     "output_type": "execute_result"
    }
   ],
   "source": [
    "[{s:ani_lst.count(s)} for s in set(ani_lst)]"
   ]
  }
 ],
 "metadata": {
  "colab": {
   "provenance": []
  },
  "kernelspec": {
   "display_name": "Python 3 (ipykernel)",
   "language": "python",
   "name": "python3"
  },
  "language_info": {
   "codemirror_mode": {
    "name": "ipython",
    "version": 3
   },
   "file_extension": ".py",
   "mimetype": "text/x-python",
   "name": "python",
   "nbconvert_exporter": "python",
   "pygments_lexer": "ipython3",
   "version": "3.11.5"
  }
 },
 "nbformat": 4,
 "nbformat_minor": 4
}
