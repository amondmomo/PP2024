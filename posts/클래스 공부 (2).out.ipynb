{
  "cells": [
    {
      "cell_type": "markdown",
      "metadata": {},
      "source": [
        "# 클래스 공부 (2)\n",
        "\n",
        "이정민  \n",
        "2025-09-02"
      ],
      "id": "083e1740-5500-43a9-9da7-04ee406215ee"
    },
    {
      "cell_type": "code",
      "execution_count": 6,
      "metadata": {},
      "outputs": [],
      "source": [
        "# import\n",
        "from IPython.core.display import HTML"
      ],
      "id": "ef167cf1-942a-4e98-ab4b-cd1c40f2ceff"
    },
    {
      "cell_type": "markdown",
      "metadata": {},
      "source": [
        "# 클래스공부 1단계: 메소드 (복습)"
      ],
      "id": "55716524-a7c0-44c0-ac21-3f031dce80d1"
    },
    {
      "cell_type": "code",
      "execution_count": 7,
      "metadata": {},
      "outputs": [],
      "source": [
        "class JungKKuckMa:\n",
        "    def show(self):\n",
        "        _str = self.html_str.format(\n",
        "            ttl = self.title,\n",
        "            url = self.imgurl,\n",
        "            Q = self.ques,\n",
        "            A = self.ans,\n",
        "            hl = self.highlight\n",
        "        )\n",
        "        display(HTML(_str)) "
      ],
      "id": "ebf5f15f-ed95-4eae-bc96-116532a21179"
    },
    {
      "cell_type": "code",
      "execution_count": 3,
      "metadata": {},
      "outputs": [],
      "source": [
        "pp2023 = JungKKuckMa()"
      ],
      "id": "424c0e19-78d0-4054-9a62-93ee3717fef8"
    },
    {
      "cell_type": "code",
      "execution_count": 4,
      "metadata": {},
      "outputs": [],
      "source": [
        "pp2023.title = '홍은채'\n",
        "pp2023.imgurl = 'https://i.ytimg.com/vi/R0fnLHXpInI/maxresdefault.jpg'\n",
        "pp2023.ques = \"Q: 이 사진은 누구일까요\"\n",
        "pp2023.ans = \"A: 홍은채 입니다~\"\n",
        "pp2023.highlight = '사진'\n",
        "pp2023.html_str =\\\n",
        "'''\n",
        "<style>\n",
        "    .title {{\n",
        "        font-family: \"Times New Roman\", serif;\n",
        "        font-size: 30px;\n",
        "        font-weight: 900;\n",
        "    }}\n",
        "    .text {{\n",
        "        font-family: \"Arial\", sans-serif;\n",
        "        font-size: 20px;\n",
        "        font-style: italic;\n",
        "    }}\n",
        "    .highlight {{\n",
        "        font-family: \"Montserrat\", monospace;\n",
        "        font-size: 35px;\n",
        "        font-weight: 900;\n",
        "        text-decoration: underline;\n",
        "        font-style: normal;\n",
        "        color: darkblue;\n",
        "        background-color: #FFFF00;\n",
        "    }}\n",
        "</style>\n",
        "<p class=\"title\">{ttl}</p>\n",
        "<img src={url} width=\"600\">\n",
        "<p> \\n </p>\n",
        "<p class=\"text\">{Q}</p>\n",
        "<p class=\"text\">{A}</p>\n",
        "<p class=\"title\">중요한 것은 꺾이지 않는 <span class=\"highlight\">{hl}</span></p>\n",
        "'''"
      ],
      "id": "746f5bb3-bf0a-4bd7-813f-86c70ec7e682"
    },
    {
      "cell_type": "code",
      "execution_count": 8,
      "metadata": {},
      "outputs": [],
      "source": [
        "pp2023.show()"
      ],
      "id": "dd7e093b-b037-4220-970f-0250664ca4ef"
    }
  ],
  "nbformat": 4,
  "nbformat_minor": 5,
  "metadata": {
    "kernelspec": {
      "name": "python3",
      "display_name": "Python 3 (ipykernel)",
      "language": "python"
    },
    "language_info": {
      "name": "python",
      "codemirror_mode": {
        "name": "ipython",
        "version": "3"
      },
      "file_extension": ".py",
      "mimetype": "text/x-python",
      "nbconvert_exporter": "python",
      "pygments_lexer": "ipython3",
      "version": "3.10.13"
    }
  }
}