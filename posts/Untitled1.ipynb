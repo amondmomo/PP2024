{
 "cells": [
  {
   "cell_type": "code",
   "execution_count": 1,
   "id": "03d93cf9-214b-4470-beff-3ce413ef836a",
   "metadata": {},
   "outputs": [
    {
     "data": {
      "text/plain": [
       "               _                           \n",
       "platform       x86_64-conda-linux-gnu      \n",
       "arch           x86_64                      \n",
       "os             linux-gnu                   \n",
       "system         x86_64, linux-gnu           \n",
       "status                                     \n",
       "major          4                           \n",
       "minor          4.1                         \n",
       "year           2024                        \n",
       "month          06                          \n",
       "day            14                          \n",
       "svn rev        86737                       \n",
       "language       R                           \n",
       "version.string R version 4.4.1 (2024-06-14)\n",
       "nickname       Race for Your Life          "
      ]
     },
     "metadata": {},
     "output_type": "display_data"
    }
   ],
   "source": [
    "R.version\n"
   ]
  },
  {
   "cell_type": "code",
   "execution_count": 2,
   "id": "790092df-6fae-4419-b952-ac1912c3d313",
   "metadata": {},
   "outputs": [
    {
     "name": "stderr",
     "output_type": "stream",
     "text": [
      "also installing the dependencies ‘lattice’, ‘fs’, ‘rappdirs’, ‘nlme’, ‘Matrix’, ‘farver’, ‘labeling’, ‘munsell’, ‘R6’, ‘RColorBrewer’, ‘pkgconfig’, ‘stringi’, ‘backports’, ‘cachem’, ‘memoise’, ‘mime’, ‘sass’, ‘isoband’, ‘mgcv’, ‘scales’, ‘tibble’, ‘withr’, ‘stringr’, ‘magrittr’, ‘checkmate’, ‘htmlwidgets’, ‘rstudioapi’, ‘viridisLite’, ‘bslib’, ‘fontawesome’, ‘jquerylib’, ‘tinytex’, ‘xfun’, ‘yaml’, ‘highr’, ‘ggplot2’, ‘cluster’, ‘rpart’, ‘nnet’, ‘foreign’, ‘gtable’, ‘gridExtra’, ‘data.table’, ‘htmlTable’, ‘viridis’, ‘colorspace’, ‘rmarkdown’, ‘knitr’, ‘Formula’, ‘MASS’, ‘HistData’, ‘Hmisc’\n",
      "\n",
      "\n",
      "Updating HTML index of packages in '.Library'\n",
      "\n",
      "Making 'packages.html' ...\n",
      " done\n",
      "\n"
     ]
    }
   ],
   "source": [
    "install.packages(\"UsingR\")"
   ]
  },
  {
   "cell_type": "code",
   "execution_count": 4,
   "id": "e8a24990-3944-4a4e-9f2b-9dc3e61a8ede",
   "metadata": {},
   "outputs": [
    {
     "name": "stderr",
     "output_type": "stream",
     "text": [
      "Loading required package: MASS\n",
      "\n",
      "Loading required package: HistData\n",
      "\n",
      "Loading required package: Hmisc\n",
      "\n",
      "\n",
      "Attaching package: ‘Hmisc’\n",
      "\n",
      "\n",
      "The following objects are masked from ‘package:base’:\n",
      "\n",
      "    format.pval, units\n",
      "\n",
      "\n"
     ]
    }
   ],
   "source": [
    "library(UsingR)"
   ]
  },
  {
   "cell_type": "code",
   "execution_count": 8,
   "id": "6610b2fd-8ba1-4df0-bc4a-5f8276782cb8",
   "metadata": {},
   "outputs": [
    {
     "data": {
      "text/html": [
       "<table class=\"dataframe\">\n",
       "<caption>A data.frame: 6 × 2</caption>\n",
       "<thead>\n",
       "\t<tr><th></th><th scope=col>fheight</th><th scope=col>sheight</th></tr>\n",
       "\t<tr><th></th><th scope=col>&lt;dbl&gt;</th><th scope=col>&lt;dbl&gt;</th></tr>\n",
       "</thead>\n",
       "<tbody>\n",
       "\t<tr><th scope=row>1</th><td>65.04851</td><td>59.77827</td></tr>\n",
       "\t<tr><th scope=row>2</th><td>63.25094</td><td>63.21404</td></tr>\n",
       "\t<tr><th scope=row>3</th><td>64.95532</td><td>63.34242</td></tr>\n",
       "\t<tr><th scope=row>4</th><td>65.75250</td><td>62.79238</td></tr>\n",
       "\t<tr><th scope=row>5</th><td>61.13723</td><td>64.28113</td></tr>\n",
       "\t<tr><th scope=row>6</th><td>63.02254</td><td>64.24221</td></tr>\n",
       "</tbody>\n",
       "</table>\n"
      ],
      "text/latex": [
       "A data.frame: 6 × 2\n",
       "\\begin{tabular}{r|ll}\n",
       "  & fheight & sheight\\\\\n",
       "  & <dbl> & <dbl>\\\\\n",
       "\\hline\n",
       "\t1 & 65.04851 & 59.77827\\\\\n",
       "\t2 & 63.25094 & 63.21404\\\\\n",
       "\t3 & 64.95532 & 63.34242\\\\\n",
       "\t4 & 65.75250 & 62.79238\\\\\n",
       "\t5 & 61.13723 & 64.28113\\\\\n",
       "\t6 & 63.02254 & 64.24221\\\\\n",
       "\\end{tabular}\n"
      ],
      "text/markdown": [
       "\n",
       "A data.frame: 6 × 2\n",
       "\n",
       "| <!--/--> | fheight &lt;dbl&gt; | sheight &lt;dbl&gt; |\n",
       "|---|---|---|\n",
       "| 1 | 65.04851 | 59.77827 |\n",
       "| 2 | 63.25094 | 63.21404 |\n",
       "| 3 | 64.95532 | 63.34242 |\n",
       "| 4 | 65.75250 | 62.79238 |\n",
       "| 5 | 61.13723 | 64.28113 |\n",
       "| 6 | 63.02254 | 64.24221 |\n",
       "\n"
      ],
      "text/plain": [
       "  fheight  sheight \n",
       "1 65.04851 59.77827\n",
       "2 63.25094 63.21404\n",
       "3 64.95532 63.34242\n",
       "4 65.75250 62.79238\n",
       "5 61.13723 64.28113\n",
       "6 63.02254 64.24221"
      ]
     },
     "metadata": {},
     "output_type": "display_data"
    }
   ],
   "source": [
    "options(repr.plot.width = 12, repr.plot.height = 6)\n",
    "data(father.son)\n",
    "head(father.son)"
   ]
  },
  {
   "cell_type": "code",
   "execution_count": null,
   "id": "d301052d-4dfb-4609-9e1e-458cf4090797",
   "metadata": {},
   "outputs": [],
   "source": []
  }
 ],
 "metadata": {
  "kernelspec": {
   "display_name": "R",
   "language": "R",
   "name": "ir"
  },
  "language_info": {
   "codemirror_mode": "r",
   "file_extension": ".r",
   "mimetype": "text/x-r-source",
   "name": "R",
   "pygments_lexer": "r",
   "version": "4.4.1"
  }
 },
 "nbformat": 4,
 "nbformat_minor": 5
}
