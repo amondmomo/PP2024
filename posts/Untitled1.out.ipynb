{
  "cells": [
    {
      "cell_type": "markdown",
      "metadata": {},
      "source": [
        "#"
      ],
      "id": "18e0cc7c-f688-466f-b6b9-c4d1df342f0f"
    },
    {
      "cell_type": "code",
      "execution_count": 1,
      "metadata": {},
      "outputs": [],
      "source": [
        "R.version\n"
      ],
      "id": "03d93cf9-214b-4470-beff-3ce413ef836a"
    },
    {
      "cell_type": "code",
      "execution_count": 2,
      "metadata": {},
      "outputs": [
        {
          "output_type": "stream",
          "name": "stderr",
          "text": [
            "also installing the dependencies ‘lattice’, ‘fs’, ‘rappdirs’, ‘nlme’, ‘Matrix’, ‘farver’, ‘labeling’, ‘munsell’, ‘R6’, ‘RColorBrewer’, ‘pkgconfig’, ‘stringi’, ‘backports’, ‘cachem’, ‘memoise’, ‘mime’, ‘sass’, ‘isoband’, ‘mgcv’, ‘scales’, ‘tibble’, ‘withr’, ‘stringr’, ‘magrittr’, ‘checkmate’, ‘htmlwidgets’, ‘rstudioapi’, ‘viridisLite’, ‘bslib’, ‘fontawesome’, ‘jquerylib’, ‘tinytex’, ‘xfun’, ‘yaml’, ‘highr’, ‘ggplot2’, ‘cluster’, ‘rpart’, ‘nnet’, ‘foreign’, ‘gtable’, ‘gridExtra’, ‘data.table’, ‘htmlTable’, ‘viridis’, ‘colorspace’, ‘rmarkdown’, ‘knitr’, ‘Formula’, ‘MASS’, ‘HistData’, ‘Hmisc’\n",
            "\n",
            "\n",
            "Updating HTML index of packages in '.Library'\n",
            "\n",
            "Making 'packages.html' ...\n",
            " done\n"
          ]
        }
      ],
      "source": [
        "install.packages(\"UsingR\")"
      ],
      "id": "790092df-6fae-4419-b952-ac1912c3d313"
    },
    {
      "cell_type": "code",
      "execution_count": 4,
      "metadata": {},
      "outputs": [
        {
          "output_type": "stream",
          "name": "stderr",
          "text": [
            "Loading required package: MASS\n",
            "\n",
            "Loading required package: HistData\n",
            "\n",
            "Loading required package: Hmisc\n",
            "\n",
            "\n",
            "Attaching package: ‘Hmisc’\n",
            "\n",
            "\n",
            "The following objects are masked from ‘package:base’:\n",
            "\n",
            "    format.pval, units\n",
            "\n"
          ]
        }
      ],
      "source": [
        "library(UsingR)"
      ],
      "id": "e8a24990-3944-4a4e-9f2b-9dc3e61a8ede"
    },
    {
      "cell_type": "code",
      "execution_count": 8,
      "metadata": {},
      "outputs": [],
      "source": [
        "options(repr.plot.width = 12, repr.plot.height = 6)\n",
        "data(father.son)\n",
        "head(father.son)"
      ],
      "id": "6610b2fd-8ba1-4df0-bc4a-5f8276782cb8"
    }
  ],
  "nbformat": 4,
  "nbformat_minor": 5,
  "metadata": {
    "kernelspec": {
      "name": "ir",
      "display_name": "R",
      "language": "R"
    },
    "language_info": {
      "name": "R",
      "codemirror_mode": "r",
      "file_extension": ".r",
      "mimetype": "text/x-r-source",
      "pygments_lexer": "r",
      "version": "4.4.1"
    }
  }
}