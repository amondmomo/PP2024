{
  "cells": [
    {
      "cell_type": "markdown",
      "metadata": {},
      "source": [
        "# 징검다리 문제\n",
        "\n",
        "이정민  \n",
        "2024-03-03\n",
        "\n",
        "# Import"
      ],
      "id": "ffa97a91-ae56-47b2-8ca3-aa8a68c7e8e8"
    },
    {
      "cell_type": "code",
      "execution_count": null,
      "metadata": {},
      "outputs": [],
      "source": [
        "import numpy as np\n",
        "import pandas as pd"
      ],
      "id": "cell-2"
    },
    {
      "cell_type": "markdown",
      "metadata": {},
      "source": [
        "징검다리 (10점)\n",
        "\n",
        "10명의 참가자가 (유리,강화유리)의 쌍으로 이루어진 징검다리를 건너는\n",
        "게임을 시작한다. (유리,강화유리)의 쌍은 총 20개 있다. 따라서 유리는 총\n",
        "40장이 있다. 참가자는 강화유리로 된 징검다리를 밟으면 살아남지만 유리로\n",
        "된 징검다리를 밟으면 죽는다. 10명의 참가자의 특징은 아래와 같다.\n",
        "\n",
        "1번~8번 참가자, 10번 참가자: 50퍼센트의 확률로 강화유리를 고를 수 있다.\n",
        "\n",
        "9번 참가자: 95퍼센트의 확률로 강화유리를 고를 수 있다.\n",
        "\n",
        "다리를 건너는 순서는 아래와 같이 번호의 오름차순으로 건너는 방법과\n",
        "번호의 내림차순으로 건너는 2가지 방법이 있다고 하자.\n",
        "\n",
        "Type A: 10번 참가자부터 다리를 건너고 그 뒤로 9번, 8번, … 1번 순으로\n",
        "다리를 건넌다.\n",
        "\n",
        "Type B: 1번 참가자부터 다리를 건너고 그 뒤로 2번, 3번, … 10번 순으로\n",
        "다리를 건넌다.\n",
        "\n",
        "8번 참가자는 Type A 와 Type B 중 어떠한 경우에 살아남을 확률이 높은가?"
      ],
      "id": "65991028-2237-4c90-9656-6949a30c711d"
    },
    {
      "cell_type": "code",
      "execution_count": null,
      "metadata": {},
      "outputs": [],
      "source": [
        "class Dari50:\n",
        "  def __init__(self):\n",
        "    self.actions = list()\n",
        "    self.prob = [0.5,0.5]\n",
        "  def play(self):\n",
        "    self.actions.append(np.random.choice(['live','die'],p=self.prob))"
      ],
      "id": "cell-4"
    },
    {
      "cell_type": "code",
      "execution_count": null,
      "metadata": {},
      "outputs": [],
      "source": [
        "class Dari95:\n",
        "  def __init__(self):\n",
        "    self.actions = list()\n",
        "    self.prob = [0.95,0.05]\n",
        "  def play(self):\n",
        "    self.actions.append(np.random.choice(['live','die'],p=self.prob))"
      ],
      "id": "cell-5"
    },
    {
      "cell_type": "markdown",
      "metadata": {},
      "source": [
        "## Type A"
      ],
      "id": "f3bb5a53-b384-4861-b9a7-81e9db815002"
    },
    {
      "cell_type": "code",
      "execution_count": null,
      "metadata": {
        "outputId": "8d81b46b-425b-4a0c-b6ad-1e95dc73e08a"
      },
      "outputs": [],
      "source": [
        "#타입A\n",
        "result_list_b = []\n",
        "for _ in range(1000): #다리 건너기 1000번 반복\n",
        "  a = Dari50()\n",
        "  b = Dari95()\n",
        "# 데이터 프레임 생성\n",
        "  for i in range(20):\n",
        "    if a.actions.count('die') < 1:\n",
        "        a.play()\n",
        "  for i in range(20 - len(a.actions)):\n",
        "    if b.actions.count('die') < 1:\n",
        "        b.play()\n",
        "  result_list_b.append(a.actions + b.actions)\n",
        "\n",
        "sum(pd.DataFrame(result_list_b).loc[:,19] == 'live') /len(pd.DataFrame(result_list_b).loc[:,19])"
      ],
      "id": "cell-7"
    },
    {
      "cell_type": "code",
      "execution_count": null,
      "metadata": {
        "outputId": "e407b6ef-95f9-4ffb-90f3-1347551af8b8"
      },
      "outputs": [],
      "source": [
        "pd.DataFrame(result_list_a)"
      ],
      "id": "cell-8"
    },
    {
      "cell_type": "markdown",
      "metadata": {},
      "source": [
        "## Type B"
      ],
      "id": "d95c951e-d806-47f2-a6f7-b0267b3e6ac2"
    },
    {
      "cell_type": "code",
      "execution_count": null,
      "metadata": {
        "outputId": "ebfd62a0-9a74-48eb-d990-4516663b5935"
      },
      "outputs": [],
      "source": [
        "#타입 B 완성 ~~\n",
        "result_list_a = []\n",
        "for _ in range(1000):\n",
        "  a = Dari50()\n",
        "  b = Dari95()\n",
        "\n",
        "  for i in range(20):\n",
        "    if a.actions.count('die') < 8:\n",
        "        a.play()\n",
        "  for u in range(20 - len(a.actions)):\n",
        "    if b.actions.count('die') < 1:\n",
        "        b.play()\n",
        "  result_list_a.append(a.actions + b.actions)\n",
        "\n",
        "sum(pd.DataFrame(result_list_a).loc[:,19] == 'live') /len(pd.DataFrame(result_list_a).loc[:,19])"
      ],
      "id": "cell-10"
    },
    {
      "cell_type": "code",
      "execution_count": null,
      "metadata": {
        "outputId": "76856ab4-eda4-48e8-ce33-467707622faf"
      },
      "outputs": [],
      "source": [
        "pd.DataFrame(result_list_b)"
      ],
      "id": "cell-11"
    },
    {
      "cell_type": "markdown",
      "metadata": {},
      "source": [
        "## **8번 생존자의 생존확률은 Type B가 더 높다**"
      ],
      "id": "809a9771-e179-4ead-b2cf-b2cd1c5c53b3"
    }
  ],
  "nbformat": 4,
  "nbformat_minor": 5,
  "metadata": {
    "colab": {
      "provenance": []
    },
    "kernelspec": {
      "name": "python3",
      "display_name": "Python 3 (ipykernel)",
      "language": "python"
    },
    "language_info": {
      "name": "python",
      "codemirror_mode": {
        "name": "ipython",
        "version": "3"
      },
      "file_extension": ".py",
      "mimetype": "text/x-python",
      "nbconvert_exporter": "python",
      "pygments_lexer": "ipython3",
      "version": "3.11.5"
    }
  }
}