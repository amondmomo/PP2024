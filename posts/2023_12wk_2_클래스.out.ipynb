{
  "cells": [
    {
      "cell_type": "markdown",
      "metadata": {},
      "source": [
        "# 클래스 공부 (4) / 메소드 **init**\n",
        "\n",
        "이정민  \n",
        "2025-12-02\n",
        "\n",
        "### Import"
      ],
      "id": "ea443235-3865-4938-a913-e536ec02ef6a"
    },
    {
      "cell_type": "code",
      "execution_count": 25,
      "metadata": {},
      "outputs": [],
      "source": [
        "import matplotlib.pyplot as plt\n",
        "from IPython.core.display import HTML"
      ],
      "id": "cell-2"
    },
    {
      "cell_type": "markdown",
      "metadata": {},
      "source": [
        "## self는 항상 써야함"
      ],
      "id": "f7783fb0-a178-44e8-8df9-2daa5258ff7d"
    },
    {
      "cell_type": "code",
      "execution_count": null,
      "metadata": {},
      "outputs": [],
      "source": [
        "class Klass:\n",
        "  def hello(self): # hello 메소드 안에 self를 꼭 입력\n",
        "    print(\"hello\")"
      ],
      "id": "cell-4"
    },
    {
      "cell_type": "code",
      "execution_count": null,
      "metadata": {},
      "outputs": [],
      "source": [
        "ins = Klass()"
      ],
      "id": "cell-5"
    },
    {
      "cell_type": "code",
      "execution_count": null,
      "metadata": {
        "outputId": "715b8278-e81e-4164-a059-cec897ec8fde"
      },
      "outputs": [
        {
          "output_type": "stream",
          "name": "stdout",
          "text": [
            "hello"
          ]
        }
      ],
      "source": [
        "ins.hello()"
      ],
      "id": "cell-6"
    },
    {
      "cell_type": "markdown",
      "metadata": {},
      "source": [
        "## **init** 사용"
      ],
      "id": "5fa99050-3c78-4cb7-8e13-c3741d947d96"
    },
    {
      "cell_type": "code",
      "execution_count": null,
      "metadata": {},
      "outputs": [],
      "source": [
        "# class 예제 1"
      ],
      "id": "cell-8"
    },
    {
      "cell_type": "code",
      "execution_count": null,
      "metadata": {},
      "outputs": [],
      "source": [
        "class Klass():\n",
        "  def __init__(self):\n",
        "    self.a = True\n",
        "  def show(self):\n",
        "    print(self.a)"
      ],
      "id": "cell-9"
    },
    {
      "cell_type": "code",
      "execution_count": null,
      "metadata": {},
      "outputs": [],
      "source": [
        "ins = Klass()"
      ],
      "id": "cell-10"
    },
    {
      "cell_type": "code",
      "execution_count": null,
      "metadata": {
        "outputId": "a3da8abf-6a58-4f95-c37b-6a54775f8a71"
      },
      "outputs": [
        {
          "output_type": "stream",
          "name": "stdout",
          "text": [
            "True"
          ]
        }
      ],
      "source": [
        "ins.show()"
      ],
      "id": "cell-11"
    },
    {
      "cell_type": "code",
      "execution_count": null,
      "metadata": {},
      "outputs": [],
      "source": [
        "# class 예제 2-1"
      ],
      "id": "cell-12"
    },
    {
      "cell_type": "code",
      "execution_count": null,
      "metadata": {},
      "outputs": [],
      "source": [
        "class Klass():\n",
        "  def __init__(self):\n",
        "    self.a = True\n",
        "  def toggle(self):\n",
        "    if self.a == True:\n",
        "      self.a = False\n",
        "    elif self.a == False:\n",
        "      self.a = True\n",
        "  def show(self):\n",
        "    print(self.a)"
      ],
      "id": "cell-13"
    },
    {
      "cell_type": "code",
      "execution_count": null,
      "metadata": {},
      "outputs": [],
      "source": [
        "ins = Klass()"
      ],
      "id": "cell-14"
    },
    {
      "cell_type": "code",
      "execution_count": null,
      "metadata": {
        "outputId": "307e09fd-e70d-4b96-da42-ab589be99dc1"
      },
      "outputs": [
        {
          "output_type": "stream",
          "name": "stdout",
          "text": [
            "False"
          ]
        }
      ],
      "source": [
        "ins.toggle()\n",
        "ins.show()"
      ],
      "id": "cell-15"
    },
    {
      "cell_type": "code",
      "execution_count": null,
      "metadata": {},
      "outputs": [],
      "source": [
        "# class 예제 2-2"
      ],
      "id": "cell-16"
    },
    {
      "cell_type": "code",
      "execution_count": null,
      "metadata": {},
      "outputs": [],
      "source": [
        "class Klass():\n",
        "  def __init__(self):\n",
        "    self.a = True\n",
        "  def toggle(self):\n",
        "    self.a = not self.a\n",
        "  def show(self):\n",
        "    print(self.a)"
      ],
      "id": "cell-17"
    },
    {
      "cell_type": "code",
      "execution_count": null,
      "metadata": {},
      "outputs": [],
      "source": [
        "ins = Klass()"
      ],
      "id": "cell-18"
    },
    {
      "cell_type": "code",
      "execution_count": null,
      "metadata": {
        "outputId": "09044624-3f1c-4210-9cb3-3db50f280ce3"
      },
      "outputs": [
        {
          "output_type": "stream",
          "name": "stdout",
          "text": [
            "True"
          ]
        }
      ],
      "source": [
        "ins.toggle()\n",
        "ins.show()"
      ],
      "id": "cell-19"
    },
    {
      "cell_type": "code",
      "execution_count": null,
      "metadata": {},
      "outputs": [],
      "source": [
        "# class 예제 3"
      ],
      "id": "cell-20"
    },
    {
      "cell_type": "code",
      "execution_count": null,
      "metadata": {},
      "outputs": [],
      "source": [
        "class Klass():\n",
        "  def __init__(self):\n",
        "    self.a = 0\n",
        "  def up(self):\n",
        "    self.a = self.a +1\n",
        "  def show(self):\n",
        "    print(self.a)"
      ],
      "id": "cell-21"
    },
    {
      "cell_type": "code",
      "execution_count": null,
      "metadata": {},
      "outputs": [],
      "source": [
        "ins = Klass()"
      ],
      "id": "cell-22"
    },
    {
      "cell_type": "code",
      "execution_count": null,
      "metadata": {
        "outputId": "ef101615-2c4f-4a8e-a32b-bbe6c89f6ec0"
      },
      "outputs": [],
      "source": [
        "ins.a"
      ],
      "id": "cell-23"
    },
    {
      "cell_type": "code",
      "execution_count": null,
      "metadata": {},
      "outputs": [],
      "source": [
        "ins.up()"
      ],
      "id": "cell-24"
    },
    {
      "cell_type": "code",
      "execution_count": null,
      "metadata": {
        "outputId": "b641de1e-9d53-4c76-e78c-8f15a6758e4d"
      },
      "outputs": [],
      "source": [
        "ins.a"
      ],
      "id": "cell-25"
    },
    {
      "cell_type": "code",
      "execution_count": null,
      "metadata": {},
      "outputs": [],
      "source": [
        "## 예제4"
      ],
      "id": "cell-26"
    },
    {
      "cell_type": "code",
      "execution_count": null,
      "metadata": {},
      "outputs": [],
      "source": [
        "class Klass:\n",
        "  def __init__(self,value):\n",
        "    self.a = value\n",
        "  def show(self):\n",
        "    print(self.a)"
      ],
      "id": "cell-27"
    },
    {
      "cell_type": "code",
      "execution_count": null,
      "metadata": {},
      "outputs": [],
      "source": [
        "ins = Klass(24)"
      ],
      "id": "cell-28"
    },
    {
      "cell_type": "code",
      "execution_count": null,
      "metadata": {
        "outputId": "80411478-8ab2-4c78-e03e-c7987f7786ff"
      },
      "outputs": [
        {
          "output_type": "stream",
          "name": "stdout",
          "text": [
            "24"
          ]
        }
      ],
      "source": [
        "ins.show()"
      ],
      "id": "cell-29"
    },
    {
      "cell_type": "code",
      "execution_count": null,
      "metadata": {},
      "outputs": [],
      "source": [
        "#예제5"
      ],
      "id": "cell-30"
    },
    {
      "cell_type": "code",
      "execution_count": null,
      "metadata": {},
      "outputs": [],
      "source": [
        "class Klass:\n",
        "  def __init__(self):\n",
        "    self.a = 0\n",
        "  def up(self):\n",
        "    self.a = self.a +1\n",
        "  def jump(self,jump_size):\n",
        "    self.a = self.a + jump_size\n",
        "  def show(self):\n",
        "    print('a의 값은 {}입니다.'.format(self.a))"
      ],
      "id": "cell-31"
    },
    {
      "cell_type": "code",
      "execution_count": null,
      "metadata": {},
      "outputs": [],
      "source": [
        "ins = Klass()"
      ],
      "id": "cell-32"
    },
    {
      "cell_type": "code",
      "execution_count": null,
      "metadata": {
        "outputId": "6abd1da7-cf00-4fd9-8b16-12d222f756a2"
      },
      "outputs": [],
      "source": [
        "ins.a"
      ],
      "id": "cell-33"
    },
    {
      "cell_type": "code",
      "execution_count": null,
      "metadata": {
        "outputId": "4477d786-909f-4b4c-986f-15d47a7af2d3"
      },
      "outputs": [
        {
          "output_type": "stream",
          "name": "stdout",
          "text": [
            "a의 값은 234입니다."
          ]
        }
      ],
      "source": [
        "ins.jump(234)\n",
        "ins.show()"
      ],
      "id": "cell-34"
    },
    {
      "cell_type": "code",
      "execution_count": null,
      "metadata": {},
      "outputs": [],
      "source": [
        "# 예제6"
      ],
      "id": "cell-35"
    },
    {
      "cell_type": "code",
      "execution_count": 26,
      "metadata": {},
      "outputs": [],
      "source": [
        "class Klass:\n",
        "  def __init__(self):\n",
        "    self.a = 0\n",
        "  def up(self):\n",
        "    self.a = self.a +1\n",
        "  def jump(self,jump_size):\n",
        "    self.a = self.a + jump_size\n",
        "  def reset(self):\n",
        "    self.a = 0 ### self.__init__() 코드와 동일\n",
        "  def show(self):\n",
        "    print('a의 값은 {}입니다.'.format(self.a))"
      ],
      "id": "cell-36"
    },
    {
      "cell_type": "code",
      "execution_count": 27,
      "metadata": {},
      "outputs": [],
      "source": [
        "ins = Klass()"
      ],
      "id": "cell-37"
    },
    {
      "cell_type": "code",
      "execution_count": 28,
      "metadata": {
        "outputId": "0d5aeebc-19ed-46fd-eaf0-43541b67d774"
      },
      "outputs": [
        {
          "output_type": "stream",
          "name": "stdout",
          "text": [
            "a의 값은 234입니다."
          ]
        }
      ],
      "source": [
        "ins.jump(234)\n",
        "ins.show()"
      ],
      "id": "cell-38"
    },
    {
      "cell_type": "code",
      "execution_count": 29,
      "metadata": {
        "outputId": "fef5c643-428a-4b33-85e2-948d4082836e"
      },
      "outputs": [
        {
          "output_type": "stream",
          "name": "stdout",
          "text": [
            "a의 값은 0입니다."
          ]
        }
      ],
      "source": [
        "ins.reset()\n",
        "ins.show()"
      ],
      "id": "cell-39"
    },
    {
      "cell_type": "code",
      "execution_count": null,
      "metadata": {},
      "outputs": [],
      "source": [
        "# 예제7 / 이미지 삽입"
      ],
      "id": "cell-40"
    },
    {
      "cell_type": "code",
      "execution_count": 138,
      "metadata": {},
      "outputs": [],
      "source": [
        "class Klass:\n",
        "  def __init__(self):\n",
        "    self.url = 'https://talkimg.imbc.com/TVianUpload/tvian/TViews/image/2023/07/21/4a6e5d86-eafd-4c4c-a252-faf00c45cfcc.jpg'\n",
        "  def show(self):\n",
        "    html_str = '<img src={url} width=250>'.format(url=self.url)\n",
        "    display(HTML(html_str))"
      ],
      "id": "cell-41"
    },
    {
      "cell_type": "code",
      "execution_count": 139,
      "metadata": {},
      "outputs": [],
      "source": [
        "ins = Klass()"
      ],
      "id": "cell-42"
    },
    {
      "cell_type": "code",
      "execution_count": 38,
      "metadata": {
        "outputId": "f63a50c5-e396-47f0-d4b3-a7bb747bbafe"
      },
      "outputs": [],
      "source": [
        "ins.show()"
      ],
      "id": "cell-43"
    },
    {
      "cell_type": "code",
      "execution_count": null,
      "metadata": {},
      "outputs": [],
      "source": [
        "# 예제8"
      ],
      "id": "cell-44"
    },
    {
      "cell_type": "code",
      "execution_count": 140,
      "metadata": {},
      "outputs": [],
      "source": [
        "class Klass:\n",
        "  def __init__(self):\n",
        "    self.n = 0\n",
        "    self.url = 'https://talkimg.imbc.com/TVianUpload/tvian/TViews/image/2023/07/21/4a6e5d86-eafd-4c4c-a252-faf00c45cfcc.jpg'\n",
        "  def show(self):\n",
        "    self.n = self.n + 1\n",
        "    html_str = '<img src={url} width=250>'.format(url=self.url)\n",
        "    print('당신은 뉴진스를 {}번 봤습니다.'.format(self.n))\n",
        "    display(HTML(html_str))"
      ],
      "id": "cell-45"
    },
    {
      "cell_type": "code",
      "execution_count": 141,
      "metadata": {},
      "outputs": [],
      "source": [
        "ins = Klass()"
      ],
      "id": "cell-46"
    },
    {
      "cell_type": "code",
      "execution_count": 143,
      "metadata": {
        "outputId": "633367e6-f03e-4fc3-baa9-5988b21d8ee8"
      },
      "outputs": [
        {
          "output_type": "stream",
          "name": "stdout",
          "text": [
            "당신은 뉴진스를 2번 봤습니다."
          ]
        }
      ],
      "source": [
        "ins.show()"
      ],
      "id": "cell-47"
    },
    {
      "cell_type": "markdown",
      "metadata": {},
      "source": [
        "## **12wk-2 과제**\n",
        "\n",
        "### import"
      ],
      "id": "406381b8-be23-4a06-82c8-ca6a26eee6d7"
    },
    {
      "cell_type": "code",
      "execution_count": 44,
      "metadata": {
        "outputId": "63224684-2a7e-492a-941f-8ffc44651a50"
      },
      "outputs": [
        {
          "output_type": "stream",
          "name": "stderr",
          "text": [
            "/usr/local/lib/python3.10/dist-packages/yfinance/base.py:48: FutureWarning: The default dtype for empty Series will be 'object' instead of 'float64' in a future version. Specify a dtype explicitly to silence this warning.\n",
            "  _empty_series = pd.Series()"
          ]
        }
      ],
      "source": [
        "import numpy as np\n",
        "import matplotlib.pyplot as plt\n",
        "import yfinance as yf"
      ],
      "id": "cell-50"
    },
    {
      "cell_type": "markdown",
      "metadata": {},
      "source": [
        "> 과제1"
      ],
      "id": "99401e8c-4055-4d84-8f9d-166b534193ce"
    },
    {
      "cell_type": "code",
      "execution_count": 108,
      "metadata": {},
      "outputs": [],
      "source": [
        "class Stock:\n",
        "  def __init__(self):\n",
        "    self.y = None\n",
        "    self.sy = None\n",
        "  def crawling(self,start_date,end_date,code):\n",
        "    self.y = yf.download(code, start=start_date, end=end_date)['Adj Close'].to_numpy()\n",
        "  def smoothing(self,n):\n",
        "    T = len(self.y)\n",
        "    self.n = n\n",
        "    M = (np.eye(T) + np.array([abs(i-j)<2 for i in range(T) for j in range(T)]).reshape(T,T))/4\n",
        "    M[0,0] = 3/4\n",
        "    M[-1,-1] = 3/4\n",
        "    self.sy = np.linalg.matrix_power(M,self.n)@self.y\n",
        "  def plot(self):\n",
        "    plt.plot(y,label='y')\n",
        "    plt.plot(self.sy,label='y_hat')\n",
        "    plt.legend()"
      ],
      "id": "cell-52"
    },
    {
      "cell_type": "code",
      "execution_count": 109,
      "metadata": {},
      "outputs": [],
      "source": [
        "ins = Stock()"
      ],
      "id": "cell-53"
    },
    {
      "cell_type": "code",
      "execution_count": 110,
      "metadata": {},
      "outputs": [],
      "source": [
        "# kakao 인스턴스\n",
        "code = '035720.KS'\n",
        "start_date = '2023-01-01'\n",
        "end_date = '2023-05-26'"
      ],
      "id": "cell-54"
    },
    {
      "cell_type": "code",
      "execution_count": 111,
      "metadata": {
        "outputId": "c3c7448b-7458-4708-b315-606206d26dfd"
      },
      "outputs": [
        {
          "output_type": "stream",
          "name": "stderr",
          "text": [
            "[*********************100%%**********************]  1 of 1 completed"
          ]
        }
      ],
      "source": [
        "ins.crawling(start_date,end_date,code)"
      ],
      "id": "cell-55"
    },
    {
      "cell_type": "code",
      "execution_count": 116,
      "metadata": {},
      "outputs": [],
      "source": [
        "ins.smoothing(100)"
      ],
      "id": "cell-56"
    },
    {
      "cell_type": "code",
      "execution_count": 117,
      "metadata": {
        "outputId": "e4eb8cbf-95aa-497f-a40e-b85985947442"
      },
      "outputs": [
        {
          "output_type": "display_data",
          "metadata": {},
          "data": {
            "image/png": "[encoded data removed]"
          }
        }
      ],
      "source": [
        "ins.plot()"
      ],
      "id": "cell-57"
    },
    {
      "cell_type": "markdown",
      "metadata": {},
      "source": [
        "> 과제2"
      ],
      "id": "87c8f93b-c3c2-4ffb-b45d-92d6ed73dc2a"
    },
    {
      "cell_type": "code",
      "execution_count": 132,
      "metadata": {},
      "outputs": [],
      "source": [
        "class LinearRegression:\n",
        "  def __init__(self,x,y):\n",
        "    self.x = x\n",
        "    self.y = y\n",
        "  def fit(self):\n",
        "    self.X = np.stack([np.ones(len(self.x)),x],axis=1)\n",
        "    self.y_hat = self.X@(np.linalg.inv((self.X).T@self.X))@((self.X).T@self.y)\n",
        "  def plot(self):\n",
        "    plt.plot(self.x,self.y,'o',label='(x,y)')\n",
        "    plt.plot(self.x,self.y_hat,'--r',label='(x,y_hat)')\n",
        "    plt.legend()"
      ],
      "id": "cell-59"
    },
    {
      "cell_type": "code",
      "execution_count": 134,
      "metadata": {},
      "outputs": [],
      "source": [
        "x = np.array(\n",
        "    [0.007, 0.008, 0.008, 0.011, 0.037, 0.047, 0.059, 0.07 , 0.072,\n",
        "     0.075, 0.078, 0.08 , 0.082, 0.11 , 0.114, 0.117, 0.133, 0.15 ,\n",
        "     0.161, 0.163, 0.172, 0.208, 0.209, 0.221, 0.229, 0.231, 0.234,\n",
        "     0.235, 0.249, 0.251, 0.256, 0.269, 0.269, 0.273, 0.275, 0.298,\n",
        "     0.305, 0.309, 0.34 , 0.362, 0.371, 0.374, 0.382, 0.387, 0.388,\n",
        "     0.394, 0.395, 0.397, 0.401, 0.404, 0.419, 0.433, 0.436, 0.466,\n",
        "     0.481, 0.492, 0.495, 0.508, 0.511, 0.512, 0.554, 0.57 , 0.574,\n",
        "     0.575, 0.584, 0.6  , 0.601, 0.615, 0.618, 0.623, 0.629, 0.633,\n",
        "     0.646, 0.65 , 0.654, 0.662, 0.673, 0.686, 0.702, 0.744, 0.754,\n",
        "     0.766, 0.772, 0.781, 0.798, 0.8  , 0.807, 0.836, 0.837, 0.871,\n",
        "     0.873, 0.877, 0.879, 0.889, 0.891, 0.902, 0.904, 0.923, 0.952,\n",
        "     0.981]\n",
        ")\n",
        "y = np.array(\n",
        "    [4.004, 4.189, 5.483, 4.902, 5.174, 4.468, 4.95 , 4.463, 5.476,\n",
        "     4.446, 4.764, 5.244, 4.357, 4.796, 5.464, 4.196, 5.244, 4.868,\n",
        "     5.358, 4.493, 4.831, 4.716, 4.929, 4.588, 4.718, 4.389, 4.985,\n",
        "     4.266, 4.291, 3.697, 4.248, 4.88 , 5.126, 4.563, 4.131, 4.728,\n",
        "     4.168, 4.584, 3.953, 4.747, 3.592, 5.023, 4.601, 3.904, 4.092,\n",
        "     4.37 , 3.922, 4.145, 4.576, 4.25 , 4.051, 3.616, 4.634, 3.496,\n",
        "     4.631, 4.025, 4.197, 4.226, 4.808, 3.676, 3.834, 3.197, 4.36 ,\n",
        "     3.547, 3.956, 3.522, 4.26 , 3.443, 3.97 , 4.068, 4.186, 3.262,\n",
        "     3.452, 3.946, 3.875, 3.444, 3.501, 3.959, 3.843, 2.679, 3.266,\n",
        "     3.506, 2.916, 3.714, 4.007, 2.795, 3.329, 2.756, 3.72 , 2.381,\n",
        "     2.798, 3.035, 3.492, 3.22 , 3.073, 3.85 , 3.233, 3.396, 3.264,\n",
        "     2.986]\n",
        ")"
      ],
      "id": "cell-60"
    },
    {
      "cell_type": "code",
      "execution_count": 135,
      "metadata": {},
      "outputs": [],
      "source": [
        "LR = LinearRegression(x,y)"
      ],
      "id": "cell-61"
    },
    {
      "cell_type": "code",
      "execution_count": 136,
      "metadata": {},
      "outputs": [],
      "source": [
        "LR.fit()"
      ],
      "id": "cell-62"
    },
    {
      "cell_type": "code",
      "execution_count": 137,
      "metadata": {
        "outputId": "ea1106f0-253a-4ed7-8401-31adfcee3de9"
      },
      "outputs": [
        {
          "output_type": "display_data",
          "metadata": {},
          "data": {
            "image/png": "[encoded data removed]"
          }
        }
      ],
      "source": [
        "LR.plot()"
      ],
      "id": "cell-63"
    }
  ],
  "nbformat": 4,
  "nbformat_minor": 5,
  "metadata": {
    "colab": {
      "provenance": []
    },
    "kernelspec": {
      "name": "python3",
      "display_name": "Python 3 (ipykernel)",
      "language": "python"
    },
    "language_info": {
      "name": "python",
      "codemirror_mode": {
        "name": "ipython",
        "version": "3"
      },
      "file_extension": ".py",
      "mimetype": "text/x-python",
      "nbconvert_exporter": "python",
      "pygments_lexer": "ipython3",
      "version": "3.10.13"
    }
  }
}