{
 "cells": [
  {
   "cell_type": "raw",
   "id": "20e7bbe9-e616-4652-8b89-f5cc2e96b036",
   "metadata": {},
   "source": [
    "---\n",
    "title: \"클래스 공부 (2)\"\n",
    "author: \"이정민\"\n",
    "date: \"21/02/2024\"\n",
    "categories:\n",
    "  - class\n",
    "---"
   ]
  },
  {
   "cell_type": "code",
   "execution_count": 1,
   "id": "ef167cf1-942a-4e98-ab4b-cd1c40f2ceff",
   "metadata": {},
   "outputs": [],
   "source": [
    "# import\n",
    "from IPython.core.display import HTML"
   ]
  },
  {
   "cell_type": "markdown",
   "id": "844318f3-490f-4bd4-b218-ec14278867b9",
   "metadata": {},
   "source": [
    "# 클래스공부 1단계: 메소드 (복습)"
   ]
  },
  {
   "cell_type": "code",
   "execution_count": 9,
   "id": "ebf5f15f-ed95-4eae-bc96-116532a21179",
   "metadata": {},
   "outputs": [],
   "source": [
    "class JungKKuckMa:\n",
    "    def show(self):\n",
    "        _str = self.html_str.format(\n",
    "            ttl = self.title,\n",
    "            url = self.imgurl,\n",
    "            Q = self.ques,\n",
    "            A = self.ans,\n",
    "            hl = self.highlight\n",
    "        )\n",
    "        display(HTML(_str)) "
   ]
  },
  {
   "cell_type": "code",
   "execution_count": 10,
   "id": "424c0e19-78d0-4054-9a62-93ee3717fef8",
   "metadata": {},
   "outputs": [],
   "source": [
    "pp2023 = JungKKuckMa()"
   ]
  },
  {
   "cell_type": "code",
   "execution_count": 13,
   "id": "746f5bb3-bf0a-4bd7-813f-86c70ec7e682",
   "metadata": {},
   "outputs": [],
   "source": [
    "pp2023.title = '홍은채 이뻥.'\n",
    "pp2023.imgurl = 'https://i.ytimg.com/vi/R0fnLHXpInI/maxresdefault.jpg'\n",
    "pp2023.ques = \"Q: 르세라핌, 누가 제일 이쁠까\"\n",
    "pp2023.ans = \"A: 본체만체~\"\n",
    "pp2023.highlight = '은채 ㅎㅎ'\n",
    "pp2023.html_str =\\\n",
    "'''\n",
    "<style>\n",
    "    .title {{\n",
    "        font-family: \"Times New Roman\", serif;\n",
    "        font-size: 30px;\n",
    "        font-weight: 900;\n",
    "    }}\n",
    "    .text {{\n",
    "        font-family: \"Arial\", sans-serif;\n",
    "        font-size: 20px;\n",
    "        font-style: italic;\n",
    "    }}\n",
    "    .highlight {{\n",
    "        font-family: \"Montserrat\", monospace;\n",
    "        font-size: 35px;\n",
    "        font-weight: 900;\n",
    "        text-decoration: underline;\n",
    "        font-style: normal;\n",
    "        color: darkblue;\n",
    "        background-color: #FFFF00;\n",
    "    }}\n",
    "</style>\n",
    "<p class=\"title\">{ttl}</p>\n",
    "<img src={url} width=\"600\">\n",
    "<p> \\n </p>\n",
    "<p class=\"text\">{Q}</p>\n",
    "<p class=\"text\">{A}</p>\n",
    "<p class=\"title\">중요한 것은 꺾이지 않는 <span class=\"highlight\">{hl}</span></p>\n",
    "'''"
   ]
  },
  {
   "cell_type": "code",
   "execution_count": 14,
   "id": "dd7e093b-b037-4220-970f-0250664ca4ef",
   "metadata": {},
   "outputs": [
    {
     "data": {
      "text/html": [
       "\n",
       "<style>\n",
       "    .title {\n",
       "        font-family: \"Times New Roman\", serif;\n",
       "        font-size: 30px;\n",
       "        font-weight: 900;\n",
       "    }\n",
       "    .text {\n",
       "        font-family: \"Arial\", sans-serif;\n",
       "        font-size: 20px;\n",
       "        font-style: italic;\n",
       "    }\n",
       "    .highlight {\n",
       "        font-family: \"Montserrat\", monospace;\n",
       "        font-size: 35px;\n",
       "        font-weight: 900;\n",
       "        text-decoration: underline;\n",
       "        font-style: normal;\n",
       "        color: darkblue;\n",
       "        background-color: #FFFF00;\n",
       "    }\n",
       "</style>\n",
       "<p class=\"title\">홍은채 이뻥.</p>\n",
       "<img src=https://i.ytimg.com/vi/R0fnLHXpInI/maxresdefault.jpg width=\"600\">\n",
       "<p> \n",
       " </p>\n",
       "<p class=\"text\">Q: 르세라핌, 누가 제일 이쁠까</p>\n",
       "<p class=\"text\">A: 본체만체~</p>\n",
       "<p class=\"title\">중요한 것은 꺾이지 않는 <span class=\"highlight\">은채 ㅎㅎ</span></p>\n"
      ],
      "text/plain": [
       "<IPython.core.display.HTML object>"
      ]
     },
     "metadata": {},
     "output_type": "display_data"
    }
   ],
   "source": [
    "pp2023.show()"
   ]
  }
 ],
 "metadata": {
  "kernelspec": {
   "display_name": "Python 3 (ipykernel)",
   "language": "python",
   "name": "python3"
  },
  "language_info": {
   "codemirror_mode": {
    "name": "ipython",
    "version": 3
   },
   "file_extension": ".py",
   "mimetype": "text/x-python",
   "name": "python",
   "nbconvert_exporter": "python",
   "pygments_lexer": "ipython3",
   "version": "3.10.13"
  }
 },
 "nbformat": 4,
 "nbformat_minor": 5
}
