{
  "cells": [
    {
      "cell_type": "markdown",
      "metadata": {},
      "source": [
        "# 4주차~5주차\n",
        "\n",
        "이정민  \n",
        "2024-04-07"
      ],
      "id": "e7e18ac0-ec2a-4f82-8024-03a64e459869"
    },
    {
      "cell_type": "code",
      "execution_count": null,
      "metadata": {},
      "outputs": [],
      "source": [
        "import numpy as np"
      ],
      "id": "cell-1"
    },
    {
      "cell_type": "markdown",
      "metadata": {},
      "source": [
        "# 1. 형태변환\n",
        "\n",
        "## 사용자 형태변환"
      ],
      "id": "44dbed98-e638-4887-9ed3-d070ee7b5d55"
    },
    {
      "cell_type": "code",
      "execution_count": null,
      "metadata": {
        "outputId": "24c3eb22-572d-4bc2-ed63-80e139233aa2"
      },
      "outputs": [],
      "source": [
        "a=3.0\n",
        "type(a)"
      ],
      "id": "cell-4"
    },
    {
      "cell_type": "code",
      "execution_count": null,
      "metadata": {
        "outputId": "f10f9c64-5d2b-44ce-cf20-398f29f01e05"
      },
      "outputs": [],
      "source": [
        "int(a)"
      ],
      "id": "cell-5"
    },
    {
      "cell_type": "code",
      "execution_count": null,
      "metadata": {
        "outputId": "8fdf9c34-6e90-4d9b-91c1-3019d8e2db42"
      },
      "outputs": [],
      "source": [
        "bool(a)"
      ],
      "id": "cell-6"
    },
    {
      "cell_type": "code",
      "execution_count": null,
      "metadata": {},
      "outputs": [],
      "source": [
        "float(3+0j) # 사실상 3+0j=3 이므로 float으로 형변환하면 3.0이 되어야 할 것 같은데 변환불가능\n",
        "# complex(복소수형) 는 float으로 형태변환 불가능"
      ],
      "id": "cell-7"
    },
    {
      "cell_type": "markdown",
      "metadata": {},
      "source": [
        "## 암묵적 형태변환"
      ],
      "id": "e968b128-88bc-4d1a-84f1-6b0c51e60dbd"
    },
    {
      "cell_type": "code",
      "execution_count": null,
      "metadata": {
        "outputId": "cd816ab9-0060-441d-f16e-706845ab8d83"
      },
      "outputs": [],
      "source": [
        "True * 1"
      ],
      "id": "cell-9"
    },
    {
      "cell_type": "code",
      "execution_count": null,
      "metadata": {
        "outputId": "64855dbe-120a-4171-9cb0-557b171a4b42"
      },
      "outputs": [],
      "source": [
        "True+True #"
      ],
      "id": "cell-10"
    },
    {
      "cell_type": "code",
      "execution_count": null,
      "metadata": {
        "outputId": "8c07582f-0675-456a-ce42-c7a7a1a7b7c5"
      },
      "outputs": [],
      "source": [
        "1 * 1.0"
      ],
      "id": "cell-11"
    },
    {
      "cell_type": "markdown",
      "metadata": {},
      "source": [
        "# 2. **`string`**\n",
        "\n",
        "## A. 선언"
      ],
      "id": "c8f64406-a9a2-4a78-b686-6fcc7f94f9af"
    },
    {
      "cell_type": "code",
      "execution_count": null,
      "metadata": {
        "outputId": "72fa231c-3e30-428c-de40-9775c694ec68"
      },
      "outputs": [],
      "source": [
        "# 선언(작은 따옴표)\n",
        "a='guebin'\n",
        "a"
      ],
      "id": "cell-14"
    },
    {
      "cell_type": "code",
      "execution_count": null,
      "metadata": {
        "outputId": "a7326506-8ba4-4df5-d37d-4cf76c9ce47c"
      },
      "outputs": [],
      "source": [
        "# 선언(큰 따옴표) -> 작은따옴표를 안에 넣을 수 있음\n",
        "a=\"asdf'a'sdf\"\n",
        "a"
      ],
      "id": "cell-15"
    },
    {
      "cell_type": "markdown",
      "metadata": {},
      "source": [
        "## B. 연산\n",
        "\n",
        "`-` 더하기 연산 가능"
      ],
      "id": "29196e21-e18b-4a91-8e26-2e9e1ccda9f0"
    },
    {
      "cell_type": "code",
      "execution_count": null,
      "metadata": {},
      "outputs": [],
      "source": [
        "a='X'\n",
        "b='2'"
      ],
      "id": "cell-18"
    },
    {
      "cell_type": "markdown",
      "metadata": {},
      "source": [
        "`-` 뺄셈 연산 불가능"
      ],
      "id": "bb7501fc-e3f0-482e-8ad5-1a2efd3e8332"
    },
    {
      "cell_type": "code",
      "execution_count": null,
      "metadata": {
        "outputId": "cd475b10-0eb9-452c-b1e5-8989149d45d9"
      },
      "outputs": [],
      "source": [
        "a='X2'\n",
        "b='2'\n",
        "a-b"
      ],
      "id": "cell-20"
    },
    {
      "cell_type": "markdown",
      "metadata": {},
      "source": [
        "`-` 곱셈 -\\> `string`의 반복을 의미"
      ],
      "id": "87364abe-5716-429b-8577-5a89722d575d"
    },
    {
      "cell_type": "code",
      "execution_count": null,
      "metadata": {
        "outputId": "aa1906eb-9f13-497e-97b2-9b6d852f6e24"
      },
      "outputs": [],
      "source": [
        "a='X'\n",
        "b=3\n",
        "a*b"
      ],
      "id": "cell-22"
    },
    {
      "cell_type": "markdown",
      "metadata": {},
      "source": [
        "`-` 나눗셈 불가능"
      ],
      "id": "badb31be-0f1a-4e1f-b05a-cc778361268c"
    },
    {
      "cell_type": "code",
      "execution_count": null,
      "metadata": {
        "outputId": "2b54897b-01bb-40ca-dbf8-7a4c4cc4f028"
      },
      "outputs": [],
      "source": [
        "a='XX'\n",
        "a/2"
      ],
      "id": "cell-24"
    },
    {
      "cell_type": "markdown",
      "metadata": {},
      "source": [
        "## C. 인덱싱"
      ],
      "id": "9015935f-19ea-47d8-a0d1-d72269393b32"
    },
    {
      "cell_type": "code",
      "execution_count": null,
      "metadata": {
        "outputId": "e34d9ee1-5509-4553-f58f-ae84becd74bb"
      },
      "outputs": [],
      "source": [
        "a='amond'\n",
        "a[0]"
      ],
      "id": "cell-26"
    },
    {
      "cell_type": "code",
      "execution_count": null,
      "metadata": {
        "outputId": "fa1eb4cc-6f35-4347-ba5b-6383e71c75bb"
      },
      "outputs": [],
      "source": [
        "a[-1] # 마지막 원소 추출"
      ],
      "id": "cell-27"
    },
    {
      "cell_type": "code",
      "execution_count": null,
      "metadata": {
        "outputId": "edb44dcf-e3ff-4807-d4d7-bcf4709c7183"
      },
      "outputs": [],
      "source": [
        "a[0:3] # 첫번째부터 2번째 원소까지 추출"
      ],
      "id": "cell-28"
    },
    {
      "cell_type": "code",
      "execution_count": null,
      "metadata": {
        "outputId": "a9eb2f6b-1ab5-484e-c9a4-566664a096a4"
      },
      "outputs": [],
      "source": [
        "a[1:] # 두번째 원소부터 끝까지 슬라이싱"
      ],
      "id": "cell-29"
    },
    {
      "cell_type": "code",
      "execution_count": null,
      "metadata": {
        "outputId": "1111565d-158b-44a2-ca1c-fc02ab1568f9"
      },
      "outputs": [],
      "source": [
        "a[:2] # 처음 두개 뽑기"
      ],
      "id": "cell-30"
    },
    {
      "cell_type": "markdown",
      "metadata": {},
      "source": [
        "## D. str 특수기능"
      ],
      "id": "a15ca264-190e-4bee-98d7-0ebd2bcaa38b"
    },
    {
      "cell_type": "code",
      "execution_count": null,
      "metadata": {
        "outputId": "c36aa082-8855-4d70-f483-65fec793dc0e"
      },
      "outputs": [],
      "source": [
        "a='ABCD'\n",
        "a.lower() # 소문자로 형태변환"
      ],
      "id": "cell-32"
    },
    {
      "cell_type": "code",
      "execution_count": null,
      "metadata": {
        "outputId": "bbb6ac89-1f33-484a-8df3-5c108f94abb8"
      },
      "outputs": [],
      "source": [
        "a = 'abcd'\n",
        "a.upper()"
      ],
      "id": "cell-33"
    },
    {
      "cell_type": "code",
      "execution_count": null,
      "metadata": {
        "outputId": "1a92c18d-53b2-43f5-af71-a0360adcdb53"
      },
      "outputs": [],
      "source": [
        "a.capitalize()"
      ],
      "id": "cell-34"
    },
    {
      "cell_type": "markdown",
      "metadata": {},
      "source": [
        "`-` 특수한 기능 ( join / split / replace )"
      ],
      "id": "8416f0a4-8d04-4d14-a57f-810d03a4b561"
    },
    {
      "cell_type": "code",
      "execution_count": null,
      "metadata": {
        "outputId": "7e100299-52f7-4994-ec2b-0b60892c49c6"
      },
      "outputs": [],
      "source": [
        "'-'.join(['1','2','3'])"
      ],
      "id": "cell-36"
    },
    {
      "cell_type": "code",
      "execution_count": null,
      "metadata": {
        "outputId": "14ba5471-bc34-43e3-a08f-2b6e0e51ce42"
      },
      "outputs": [],
      "source": [
        "'1-2-3'.split('-')"
      ],
      "id": "cell-37"
    },
    {
      "cell_type": "code",
      "execution_count": null,
      "metadata": {
        "outputId": "80a57309-43e2-4c8c-c52e-a12f1b321e04"
      },
      "outputs": [],
      "source": [
        "'1-2-3'.replace('-','*')"
      ],
      "id": "cell-38"
    },
    {
      "cell_type": "markdown",
      "metadata": {},
      "source": [
        "## E. len"
      ],
      "id": "90b96961-6d2a-4ee6-86ff-d4edb18e31a8"
    },
    {
      "cell_type": "code",
      "execution_count": null,
      "metadata": {
        "outputId": "4e465bb9-b3a8-4a40-f88c-8b2e19e463ce"
      },
      "outputs": [],
      "source": [
        "a='ABCD'\n",
        "len(a)"
      ],
      "id": "cell-40"
    },
    {
      "cell_type": "markdown",
      "metadata": {},
      "source": [
        "`-` `len`은 0차원 변수형에서는 동작하지 않고 1차원 변수형에서만\n",
        "동작한다."
      ],
      "id": "e792a082-ac8a-469b-8071-54bf66e30a28"
    },
    {
      "cell_type": "code",
      "execution_count": null,
      "metadata": {
        "outputId": "3f31eed0-3e16-4f56-82b3-28925dad2a26"
      },
      "outputs": [],
      "source": [
        "b=True\n",
        "len(b)"
      ],
      "id": "cell-42"
    },
    {
      "cell_type": "markdown",
      "metadata": {},
      "source": [
        "## F. `fstring`"
      ],
      "id": "ef971b28-2c9c-4916-a911-aaf3eefe9603"
    },
    {
      "cell_type": "code",
      "execution_count": null,
      "metadata": {
        "outputId": "7da9bf32-f5e3-43f9-a8ad-269884016673"
      },
      "outputs": [
        {
          "output_type": "stream",
          "name": "stdout",
          "text": [
            "a+b=5"
          ]
        }
      ],
      "source": [
        "a,b = 1,4\n",
        "print(f'a+b={a+b}')"
      ],
      "id": "cell-44"
    },
    {
      "cell_type": "code",
      "execution_count": null,
      "metadata": {
        "outputId": "ac2c00f9-c58d-4c59-e2c0-eda6e836d4ce"
      },
      "outputs": [
        {
          "output_type": "stream",
          "name": "stdout",
          "text": [
            "a+b=5.14"
          ]
        }
      ],
      "source": [
        "a,b= 2,3.141592\n",
        "print(f'a+b={a+b:.2f}') #소수점 제어"
      ],
      "id": "cell-45"
    },
    {
      "cell_type": "code",
      "execution_count": null,
      "metadata": {
        "outputId": "2fb81038-efb7-492e-e779-627b8ec7f5b0"
      },
      "outputs": [
        {
          "output_type": "stream",
          "name": "stdout",
          "text": [
            "2a= 6.28, 3a=9.42"
          ]
        }
      ],
      "source": [
        "a=3.141592\n",
        "print(f'2a= {2*a:.2f}, 3a={3*a:.2f}')"
      ],
      "id": "cell-46"
    },
    {
      "cell_type": "code",
      "execution_count": null,
      "metadata": {
        "outputId": "f12b968a-33cd-452d-d1dd-0561ba9a9dfa"
      },
      "outputs": [],
      "source": [
        "lst = ['이상민','이정민','강정혁']\n",
        "[f'{l}입니다 반갑습니다' for l in lst]"
      ],
      "id": "cell-47"
    },
    {
      "cell_type": "markdown",
      "metadata": {},
      "source": [
        "## G. stirng과 for문"
      ],
      "id": "dada2680-b0e6-4787-997d-9bca9c82813d"
    },
    {
      "cell_type": "code",
      "execution_count": null,
      "metadata": {
        "outputId": "f4df6e61-8cae-4fb9-caf1-57b8a30ee67d"
      },
      "outputs": [
        {
          "output_type": "stream",
          "name": "stdout",
          "text": [
            "jj\n",
            "bb\n",
            "nn\n",
            "uu"
          ]
        }
      ],
      "source": [
        "for i in 'jbnu':\n",
        "  print(2*i)"
      ],
      "id": "cell-49"
    },
    {
      "cell_type": "code",
      "execution_count": null,
      "metadata": {
        "outputId": "54d63f30-2752-46cd-846e-16fa35ea85ff"
      },
      "outputs": [],
      "source": [
        "[s*4 for s in 'JAM']"
      ],
      "id": "cell-50"
    },
    {
      "cell_type": "markdown",
      "metadata": {},
      "source": [
        "## H. `in` 연산자"
      ],
      "id": "867b9491-508d-4797-b37f-7416bdee38b0"
    },
    {
      "cell_type": "code",
      "execution_count": null,
      "metadata": {
        "outputId": "b3a28f33-5749-430b-a269-b363eb209be1"
      },
      "outputs": [],
      "source": [
        "s = 'jbnu'\n",
        "'b' in s"
      ],
      "id": "cell-52"
    },
    {
      "cell_type": "markdown",
      "metadata": {},
      "source": [
        "## I. 연습문제\n",
        "\n",
        "### text"
      ],
      "id": "63cd9a02-2da0-474e-aa97-feaa4eba2a62"
    },
    {
      "cell_type": "code",
      "execution_count": null,
      "metadata": {},
      "outputs": [],
      "source": [
        "text = \"국내뿐 아니라 해외 인기도 심상치 않다. 2023년 1월 18일 'Ditto'가 빌보드 핫 100에 96위로 진입했다. 이는 K-pop 역사상 데뷔후 최단 빌보드 Hot 100 차트 입성 기록이다. 다른 뮤지션들이 보통 데뷔 후 수년간 쌓아온 팬덤을 기반으로 빌보드에 입성한데 비해, 뉴진스의 기록은 이례적인 것으로 평가받고 있다. 또한 'OMG'가 빌보드 핫 100에 91위로 진입한 동시에 'Ditto'는 85위로 순위가 상승, 핫 100 주간차트에 두 곡을 올려놓았다. K-Pop 역사상 이 차트에 두 곡 이상을 진입시킨 아티스트는 방탄소년단과 블랙핑크가 유일하다. 'Ditto'는 1월 셋째주 기준, 빌보드뿐만 아니라 영국 오피셜 싱글 차트 '톱 100'에 2주 연속 진입하기도 했다.\""
      ],
      "id": "cell-55"
    },
    {
      "cell_type": "code",
      "execution_count": null,
      "metadata": {
        "outputId": "71d53562-56dc-45df-ec36-7eaf2aa4be86"
      },
      "outputs": [],
      "source": [
        "# text 문장 갯수\n",
        "sum(['.' in i for i in text])"
      ],
      "id": "cell-56"
    },
    {
      "cell_type": "code",
      "execution_count": null,
      "metadata": {
        "outputId": "38eea212-b40f-45fb-f87b-8cabc7319171"
      },
      "outputs": [],
      "source": [
        "len(text.split('. '))"
      ],
      "id": "cell-57"
    },
    {
      "cell_type": "code",
      "execution_count": null,
      "metadata": {
        "outputId": "dca166d4-f58a-4728-b377-a7339ef7b464"
      },
      "outputs": [],
      "source": [
        "# text 단어 개수 (hint: 각 단어는 공백으로 구분된다.)\n",
        "[len(l.split(' ')) for l in text.split('. ')]"
      ],
      "id": "cell-58"
    },
    {
      "cell_type": "code",
      "execution_count": null,
      "metadata": {
        "outputId": "b65cd908-2b14-499f-8345-83f82afaf272"
      },
      "outputs": [],
      "source": [
        "# 포함된 단어 찾\n",
        "['100' in l.split(' ') for l in text.split('. ')]"
      ],
      "id": "cell-59"
    },
    {
      "cell_type": "markdown",
      "metadata": {},
      "source": [
        "# 3. `list`\n",
        "\n",
        "## A. 선언"
      ],
      "id": "3561c6f3-0f41-4ce3-867d-7912f29fe074"
    },
    {
      "cell_type": "code",
      "execution_count": null,
      "metadata": {},
      "outputs": [],
      "source": [
        "a = [1,2,3]\n",
        "b = [] # 비어있는 리스트\n",
        "c = list() # 비어있는 리스트"
      ],
      "id": "cell-62"
    },
    {
      "cell_type": "markdown",
      "metadata": {},
      "source": [
        "## B. 연산\n",
        "\n",
        "`-` 더하기 연산"
      ],
      "id": "4c032dd2-265f-40c4-ad22-8cbf749cb34b"
    },
    {
      "cell_type": "code",
      "execution_count": null,
      "metadata": {
        "outputId": "909c6ece-7bcc-4e98-e628-df4001a42459"
      },
      "outputs": [],
      "source": [
        "[1,2,3] + [-3,4,5] # 리스트 추가하는 느낌"
      ],
      "id": "cell-65"
    },
    {
      "cell_type": "markdown",
      "metadata": {},
      "source": [
        "`-` 뺄셈"
      ],
      "id": "f6fb5f04-0891-40ed-badc-47be6b057eda"
    },
    {
      "cell_type": "code",
      "execution_count": null,
      "metadata": {
        "outputId": "2880e84b-c35a-4d2a-a7c6-3573f37d2db4"
      },
      "outputs": [],
      "source": [
        "a= [1,2,1,2] # 뺄셈 정의 x\n",
        "a-[1,2]"
      ],
      "id": "cell-67"
    },
    {
      "cell_type": "markdown",
      "metadata": {},
      "source": [
        "`-` 곱셈"
      ],
      "id": "8857bf0d-b35c-4d43-b294-2490d1484de2"
    },
    {
      "cell_type": "code",
      "execution_count": null,
      "metadata": {
        "outputId": "cf437ffd-e880-4905-ce15-b765bbdc5a74"
      },
      "outputs": [],
      "source": [
        "[1,2]*3 # 리스트 반복"
      ],
      "id": "cell-69"
    },
    {
      "cell_type": "markdown",
      "metadata": {},
      "source": [
        "`-` 나눗셈"
      ],
      "id": "e72409d0-9914-4f60-8b6e-0077fc210497"
    },
    {
      "cell_type": "code",
      "execution_count": null,
      "metadata": {
        "outputId": "fd62690d-fff2-4a26-b0df-d6f387ab229f"
      },
      "outputs": [],
      "source": [
        "[1,2,1,2,1,2] /3 # 나눗셈 정의 x"
      ],
      "id": "cell-71"
    },
    {
      "cell_type": "code",
      "execution_count": null,
      "metadata": {
        "outputId": "1a2d7465-7384-4423-e250-eadc84f5fc07"
      },
      "outputs": [],
      "source": [
        "a=[1,2]\n",
        "b=[3,4]\n",
        "# a+b = 4,6 되게 하려면?\n",
        "[a[0]+b[0],a[1]+b[1]]"
      ],
      "id": "cell-72"
    },
    {
      "cell_type": "markdown",
      "metadata": {},
      "source": [
        "## C. 인덱싱\n",
        "\n",
        "`-` str형과 동일"
      ],
      "id": "5b507a84-b680-4610-9cb4-1ce47bb60470"
    },
    {
      "cell_type": "code",
      "execution_count": null,
      "metadata": {
        "outputId": "935e36d6-c8f8-43ac-a612-89fdd9d367ff"
      },
      "outputs": [],
      "source": [
        "a=[11,22,33,44,55]\n",
        "a[1:]"
      ],
      "id": "cell-75"
    },
    {
      "cell_type": "markdown",
      "metadata": {},
      "source": [
        "## D. 콘테이너형 객체\n",
        "\n",
        "`-` 리스트의 원소는 자료형 대부분 가능하다."
      ],
      "id": "36f92f2c-c5aa-459f-9394-7a7683293b30"
    },
    {
      "cell_type": "code",
      "execution_count": null,
      "metadata": {
        "outputId": "c7f783fc-6171-4577-865c-7bc83686b4f1"
      },
      "outputs": [],
      "source": [
        "lst = [1,3.14,True,'a',[1,2],\n",
        "       (1,2),{'name':'iu','age':27},{1,2,3}]\n",
        "lst"
      ],
      "id": "cell-78"
    },
    {
      "cell_type": "code",
      "execution_count": null,
      "metadata": {
        "outputId": "501c528b-1863-4b46-8ef3-ccd4db8495c8"
      },
      "outputs": [],
      "source": [
        "[type(l) for l in lst]"
      ],
      "id": "cell-79"
    },
    {
      "cell_type": "markdown",
      "metadata": {},
      "source": [
        "## E. 가변객체\n",
        "\n",
        "`-` 리스트는 원소 수정가능하다."
      ],
      "id": "14e9ddd3-9f12-4197-bbfb-888fdbd0db8a"
    },
    {
      "cell_type": "code",
      "execution_count": null,
      "metadata": {
        "outputId": "631bf608-0f73-4c7c-d714-60e61e2e53e5"
      },
      "outputs": [],
      "source": [
        "a=[11,22,33]\n",
        "a"
      ],
      "id": "cell-82"
    },
    {
      "cell_type": "code",
      "execution_count": null,
      "metadata": {
        "outputId": "20c8fb6d-687d-4a84-866f-2d0ca8e9959a"
      },
      "outputs": [],
      "source": [
        "a[0] = -77\n",
        "a"
      ],
      "id": "cell-83"
    },
    {
      "cell_type": "markdown",
      "metadata": {},
      "source": [
        "## F. 리스트의 원소 삭제"
      ],
      "id": "82654d60-9c9f-4dfd-85ad-504f8ce36fff"
    },
    {
      "cell_type": "code",
      "execution_count": null,
      "metadata": {
        "outputId": "536d1ecf-33ce-4a43-d6fe-d4a551f8ac31"
      },
      "outputs": [],
      "source": [
        "# del을 이용한 삭제\n",
        "a = list('amond')\n",
        "del a[0]\n",
        "a"
      ],
      "id": "cell-85"
    },
    {
      "cell_type": "code",
      "execution_count": null,
      "metadata": {
        "outputId": "ab0a4332-759f-49e7-f9d2-f08b313d7bf3"
      },
      "outputs": [],
      "source": [
        "# pop을 이용한 삭제\n",
        "a = list('amond')\n",
        "a.pop(0)\n",
        "a"
      ],
      "id": "cell-86"
    },
    {
      "cell_type": "code",
      "execution_count": null,
      "metadata": {},
      "outputs": [],
      "source": [
        "# remove를 이용한 삭제\n",
        "a=list('amond')\n",
        "a.remove('m')"
      ],
      "id": "cell-87"
    },
    {
      "cell_type": "markdown",
      "metadata": {},
      "source": [
        "## G. 리스트 원소 추가\n",
        "\n",
        "`-` + 연산 이용"
      ],
      "id": "a57a0a41-da34-4fe5-b8ae-c7f5040a87e0"
    },
    {
      "cell_type": "code",
      "execution_count": null,
      "metadata": {
        "outputId": "695750c8-9a3e-4cc0-c11b-7be0d5465c0b"
      },
      "outputs": [],
      "source": [
        "a=[]\n",
        "a+[0]"
      ],
      "id": "cell-90"
    },
    {
      "cell_type": "markdown",
      "metadata": {},
      "source": [
        "`-` += 연산 이용"
      ],
      "id": "e4b21b86-de18-452e-96c4-7deaeb83cf00"
    },
    {
      "cell_type": "code",
      "execution_count": null,
      "metadata": {
        "outputId": "79dac213-fa94-41e5-9072-2aa57ddeb7b9"
      },
      "outputs": [],
      "source": [
        "a=[]\n",
        "a+=[0]\n",
        "a+=[1]\n",
        "a+=[2]\n",
        "a"
      ],
      "id": "cell-92"
    },
    {
      "cell_type": "markdown",
      "metadata": {},
      "source": [
        "`-` `.append()` 연산 이용"
      ],
      "id": "530af31f-d7dd-41d0-8146-4a7607e00d42"
    },
    {
      "cell_type": "code",
      "execution_count": null,
      "metadata": {
        "outputId": "e9924a47-1aa7-4802-e78e-f7488608daff"
      },
      "outputs": [],
      "source": [
        "a = []\n",
        "a.append(0)\n",
        "a.append(1)\n",
        "a"
      ],
      "id": "cell-94"
    },
    {
      "cell_type": "markdown",
      "metadata": {},
      "source": [
        "`-` `a+[4]` 와 `a.append(4)`의 차이?\n",
        "\n",
        "-   덧셈은 얕은 복사 append는 깊은 복사\n",
        "\n",
        "## I. 리스트 특수기능\n",
        "\n",
        "`-` **clear**"
      ],
      "id": "259ed765-673f-4097-b579-513965532a69"
    },
    {
      "cell_type": "code",
      "execution_count": null,
      "metadata": {
        "outputId": "14486443-9a55-46d4-bb55-bf89a8739696"
      },
      "outputs": [],
      "source": [
        "a=[1,2,3,4]\n",
        "a.clear()\n",
        "a"
      ],
      "id": "cell-98"
    },
    {
      "cell_type": "markdown",
      "metadata": {},
      "source": [
        "`-` **copy**"
      ],
      "id": "14d13dbf-6b75-4bb8-8beb-9d044436787f"
    },
    {
      "cell_type": "code",
      "execution_count": null,
      "metadata": {
        "outputId": "c27c89fb-17f1-4a6a-ca93-87dfcdc78d35"
      },
      "outputs": [],
      "source": [
        "a=[1,2,3,4]\n",
        "b = a.copy()\n",
        "b[0] =4\n",
        "b,a"
      ],
      "id": "cell-100"
    },
    {
      "cell_type": "markdown",
      "metadata": {},
      "source": [
        "`-` **count**"
      ],
      "id": "86a0f04c-618d-4cc3-91f2-61460d2bc2c2"
    },
    {
      "cell_type": "code",
      "execution_count": null,
      "metadata": {
        "outputId": "80ca892b-68d3-49fc-9f48-f461e0ded343"
      },
      "outputs": [],
      "source": [
        "a=['a','a','b','b','b','c']\n",
        "a.count('a')"
      ],
      "id": "cell-102"
    },
    {
      "cell_type": "markdown",
      "metadata": {},
      "source": [
        "`-` **extend**"
      ],
      "id": "9cbaafc5-29fb-4df1-9a51-eb998e15bbbf"
    },
    {
      "cell_type": "code",
      "execution_count": null,
      "metadata": {
        "outputId": "87346f7b-ea00-482e-822d-1fee94ee89d7"
      },
      "outputs": [],
      "source": [
        "a=[1,2,3,4]\n",
        "b=[-1,-2,-3,-4]\n",
        "a.extend(b)\n",
        "a"
      ],
      "id": "cell-104"
    },
    {
      "cell_type": "markdown",
      "metadata": {},
      "source": [
        "`-` **index**"
      ],
      "id": "c11a04f4-c1c5-4cbb-a54b-92cc5d23b8fe"
    },
    {
      "cell_type": "code",
      "execution_count": null,
      "metadata": {
        "outputId": "44324567-894f-43a4-b841-13b7d9af967b"
      },
      "outputs": [],
      "source": [
        "a=[11,22,'a',True, 22,'a']\n",
        "a.index('a')"
      ],
      "id": "cell-106"
    },
    {
      "cell_type": "markdown",
      "metadata": {},
      "source": [
        "`-` **sort**"
      ],
      "id": "5cbf4c4b-38c8-463f-a303-f1cccae3efa2"
    },
    {
      "cell_type": "code",
      "execution_count": null,
      "metadata": {
        "outputId": "c5856e04-0dd0-4e11-c95f-fc0b29750313"
      },
      "outputs": [],
      "source": [
        "a=[4,3,2,1]\n",
        "a.sort()\n",
        "a"
      ],
      "id": "cell-108"
    },
    {
      "cell_type": "markdown",
      "metadata": {},
      "source": [
        "`-` **insert**"
      ],
      "id": "5d0115b5-b33d-4fcf-9470-1d987cea2b13"
    },
    {
      "cell_type": "code",
      "execution_count": null,
      "metadata": {
        "outputId": "b90a193c-0111-4e04-b7ea-3f40d2409506"
      },
      "outputs": [],
      "source": [
        "a=[1,2,3]\n",
        "a.insert(1,88)\n",
        "a"
      ],
      "id": "cell-110"
    },
    {
      "cell_type": "markdown",
      "metadata": {},
      "source": [
        "## J. 중첩리스트"
      ],
      "id": "4e572244-2c64-441c-b1ad-a62c4f3ee09e"
    },
    {
      "cell_type": "raw",
      "metadata": {
        "raw_mimetype": "tex"
      },
      "source": [
        "\\begin{bmatrix}\n",
        "1 & 2 & 3 \\\\\n",
        "4 & 5 & 6 \\\\\n",
        "7 & 8 & 9\n",
        "\\end{bmatrix}"
      ],
      "id": "fd2493f3-6f9a-493a-9618-0d292d263575"
    },
    {
      "cell_type": "code",
      "execution_count": null,
      "metadata": {
        "outputId": "4b7d11ae-3a17-4dbe-aa15-c73a1160656c"
      },
      "outputs": [],
      "source": [
        "A = [[1,2,3],\n",
        "     [4,5,6],\n",
        "     [7,8,9]]\n",
        "A"
      ],
      "id": "cell-113"
    },
    {
      "cell_type": "markdown",
      "metadata": {},
      "source": [
        "### 인덱싱"
      ],
      "id": "4476930f-88a5-4f98-90d9-2ab390138575"
    },
    {
      "cell_type": "code",
      "execution_count": null,
      "metadata": {
        "outputId": "9f5750f5-7d7c-49c2-c436-4aeedc981748"
      },
      "outputs": [],
      "source": [
        "# (1,1)의 원소 뽑기\n",
        "A[0][0]"
      ],
      "id": "cell-115"
    },
    {
      "cell_type": "markdown",
      "metadata": {},
      "source": [
        "## K. 리스트 컴프리헨션 연습"
      ],
      "id": "06cda723-f331-4d62-b2f1-48c39502cac0"
    },
    {
      "cell_type": "code",
      "execution_count": null,
      "metadata": {},
      "outputs": [],
      "source": [
        "import itertools"
      ],
      "id": "cell-117"
    },
    {
      "cell_type": "code",
      "execution_count": null,
      "metadata": {
        "outputId": "48885693-159e-4a93-9dd2-ac29c2234cea"
      },
      "outputs": [],
      "source": [
        "[i+j for i,j in itertools.product('XY','123')]"
      ],
      "id": "cell-118"
    },
    {
      "cell_type": "code",
      "execution_count": null,
      "metadata": {
        "outputId": "32c1ae75-a8d5-4b0e-e656-52aa6f1c8e1c"
      },
      "outputs": [],
      "source": [
        "[i+j for i,j in itertools.product(['stat','math'],'123')]"
      ],
      "id": "cell-119"
    },
    {
      "cell_type": "code",
      "execution_count": null,
      "metadata": {
        "outputId": "50728b32-5cd1-4550-eb9b-a747191cb4b2"
      },
      "outputs": [],
      "source": [
        "lst = []\n",
        "for x in ['stst','math']:\n",
        "  for y in '123':\n",
        "    lst.append(x+y)\n",
        "lst"
      ],
      "id": "cell-120"
    },
    {
      "cell_type": "code",
      "execution_count": null,
      "metadata": {
        "outputId": "99041e10-837f-4429-b7f8-81128f918457"
      },
      "outputs": [],
      "source": [
        "['X'+str(y) for y in range(1,13)]"
      ],
      "id": "cell-121"
    },
    {
      "cell_type": "markdown",
      "metadata": {},
      "source": [
        "## L. 리스트 컴프리헨션과 for문의 미묘한 차이"
      ],
      "id": "7cdd6c26-1cc3-4604-8801-b5de75bee10f"
    },
    {
      "cell_type": "code",
      "execution_count": null,
      "metadata": {
        "outputId": "973577d0-9aaa-4866-f361-e1fbfc2751b5"
      },
      "outputs": [],
      "source": [
        "x=777\n",
        "lst = []\n",
        "for x in 'jbnu':\n",
        "  lst.append(x)\n",
        "lst"
      ],
      "id": "cell-123"
    },
    {
      "cell_type": "code",
      "execution_count": null,
      "metadata": {
        "outputId": "829ca6c6-be2d-44d5-d087-bae218da77e8"
      },
      "outputs": [],
      "source": [
        "lst = [x for x in 'jbnu']\n",
        "lst"
      ],
      "id": "cell-124"
    },
    {
      "cell_type": "markdown",
      "metadata": {},
      "source": [
        "## 연습문제\n",
        "\n",
        "`-` x\\>80 만족시키는 원소의 개수는?? (리스트에서 조건문 개수 세기)"
      ],
      "id": "3b537ad5-c16c-4829-86ad-4fbb2beccc43"
    },
    {
      "cell_type": "code",
      "execution_count": null,
      "metadata": {
        "outputId": "470b9766-c619-4a01-9be6-4269ae8b9000"
      },
      "outputs": [],
      "source": [
        "x = [80,60,80,90,55,85,95,100,35,70,75,65,95]\n",
        "sum(np.array(x)>80)"
      ],
      "id": "cell-127"
    },
    {
      "cell_type": "markdown",
      "metadata": {},
      "source": [
        "`-` 이 문자열에서 대문자의 수를 count하라."
      ],
      "id": "08cf8b89-ce5c-4bd3-ac16-ebfb42cfca6c"
    },
    {
      "cell_type": "code",
      "execution_count": null,
      "metadata": {},
      "outputs": [],
      "source": [
        "test_arr = 'ssh-rsa AAAAB3NzaC1yc2EAAAABIwAAAQEAklOUpkDHrfHY17SbrmTIpNLTGK9Tjom/BWDSUGPl+nafzlHDTYW7hdI4yZ5ew18JH4JW9jbhUFrviQzM7xlELEVf4h9lFX5QVkbPppSwg0cda3Pbv7kOdJ/MTyBlWXFCR+HAo3FXRitBqxiX1nKhXpHAZsMciLq8V6RjsNAQwdsdMFvSlVK/7XAt3FaoJoAsncM1Q9x5+3V0Ww68/eIFmb1zuUFljQJKprrX88XypNDvjYNby6vw/Pb0rwert/EnmZ+AW4OZPnTPI89ZPmVMLuayrD2cE86Z/il8b+gw3r3+1nKatmIkjn2so1d01QraTlMqVSsbxNrRFi9wrf+M7Q== schacon@mylaptop.local'"
      ],
      "id": "cell-129"
    },
    {
      "cell_type": "code",
      "execution_count": null,
      "metadata": {
        "outputId": "d1b4d001-fd18-4e2d-e416-16c078c89e46"
      },
      "outputs": [],
      "source": [
        "sum([l.isupper() for l in test_arr])"
      ],
      "id": "cell-130"
    },
    {
      "cell_type": "markdown",
      "metadata": {},
      "source": [
        "`-` 리스트 생성"
      ],
      "id": "38a42174-9418-460e-bd10-dc68ab405073"
    },
    {
      "cell_type": "code",
      "execution_count": null,
      "metadata": {
        "outputId": "abcb1e90-87dc-4d3b-c882-37d703eea606"
      },
      "outputs": [],
      "source": [
        "lst = []\n",
        "['a'*i for i in range(1,11)]"
      ],
      "id": "cell-132"
    },
    {
      "cell_type": "markdown",
      "metadata": {},
      "source": [
        "`-` 날짜 리스트 수정"
      ],
      "id": "5b13df51-8f9c-4379-947a-7171676b856a"
    },
    {
      "cell_type": "code",
      "execution_count": null,
      "metadata": {},
      "outputs": [],
      "source": [
        "lst = ['2022/09/21','2022/10/30','2022/12/25','2023/01/01','2023/01/31','2023/03/20']"
      ],
      "id": "cell-134"
    },
    {
      "cell_type": "code",
      "execution_count": null,
      "metadata": {
        "outputId": "614694fa-2ef4-45ad-e606-827899475b81"
      },
      "outputs": [],
      "source": [
        "[lst.replace('/','-') for lst in lst]"
      ],
      "id": "cell-135"
    },
    {
      "cell_type": "markdown",
      "metadata": {},
      "source": [
        "`-` 띄어쓰기 제거"
      ],
      "id": "95af8b34-5abe-4d41-9466-beda3e94bc04"
    },
    {
      "cell_type": "code",
      "execution_count": null,
      "metadata": {
        "outputId": "34d37e3d-2234-4261-9f57-3727b7650cc6"
      },
      "outputs": [],
      "source": [
        "'2021.01.05'"
      ],
      "id": "cell-137"
    },
    {
      "cell_type": "code",
      "execution_count": null,
      "metadata": {
        "outputId": "b8de29b0-4f3c-475f-afb6-d882931cb968"
      },
      "outputs": [],
      "source": [
        "'2021.01.05'.replace(' ','')"
      ],
      "id": "cell-138"
    },
    {
      "cell_type": "code",
      "execution_count": null,
      "metadata": {
        "outputId": "cb5c68d5-e21e-4f8f-dbf9-036fe3ca7d00"
      },
      "outputs": [],
      "source": [
        "block = ['■']\n",
        "'-'.join(block*10)"
      ],
      "id": "cell-139"
    },
    {
      "cell_type": "markdown",
      "metadata": {},
      "source": [
        "# 4. tuple\n",
        "\n",
        "## A. 리스트 vs 튜플\n",
        "\n",
        "`-` 공통점 \\* 컨테이너형 타입 \\* 연산 및 인덱싱하는 방법\n",
        "\n",
        "`-` 차이점 \\* 리스트 : `[]` 사용 / 튜플 : `()` 사용 \\* 튜플은 불변형 -\\>\n",
        "원소 바꿀 수 없음 \\* 튜플은 하나의 원소 선언할 때 `(1.)`과 같이 해야함\n",
        "\\* 의미가 명확할 때는 튜플의 `()` 생략 가능\n",
        "\n",
        "## B. 선언"
      ],
      "id": "6af6c8fc-29ef-4fff-8cf7-3890bd79d5b1"
    },
    {
      "cell_type": "code",
      "execution_count": null,
      "metadata": {},
      "outputs": [],
      "source": [
        "a = (1,2,3)\n",
        "b = (4,) # 원소 하나는 ',' 찍어줘야함.\n",
        "c = 5 # 괄호 생략 가능(의미 명확)"
      ],
      "id": "cell-144"
    },
    {
      "cell_type": "markdown",
      "metadata": {},
      "source": [
        "## C. 연산\n",
        "\n",
        "`-` 리스트와 동일"
      ],
      "id": "6e56374c-c6d2-4a1a-ad10-bd78f556c704"
    },
    {
      "cell_type": "code",
      "execution_count": null,
      "metadata": {
        "outputId": "b3a64191-a4e9-409d-e0a7-bd598706b310"
      },
      "outputs": [],
      "source": [
        "(1,2)+(3,4,5)"
      ],
      "id": "cell-147"
    },
    {
      "cell_type": "code",
      "execution_count": null,
      "metadata": {
        "outputId": "e469bffa-1a12-4d41-97a6-b8b1fcc82726"
      },
      "outputs": [],
      "source": [
        "(1,2)*2"
      ],
      "id": "cell-148"
    },
    {
      "cell_type": "markdown",
      "metadata": {},
      "source": [
        "## D. 인덱싱\n",
        "\n",
        "`-` 리스트와 동일"
      ],
      "id": "eb89dd77-6516-4c16-aca3-25f2b1ebcb47"
    },
    {
      "cell_type": "code",
      "execution_count": null,
      "metadata": {
        "outputId": "358e0806-3873-4018-a520-41c9e8f62450"
      },
      "outputs": [],
      "source": [
        "a=(1,2,3,-4,-5)\n",
        "a"
      ],
      "id": "cell-151"
    },
    {
      "cell_type": "code",
      "execution_count": null,
      "metadata": {
        "outputId": "de354f8c-35e9-461f-8443-871ef9a00716"
      },
      "outputs": [],
      "source": [
        "a[-1]"
      ],
      "id": "cell-152"
    },
    {
      "cell_type": "markdown",
      "metadata": {},
      "source": [
        "## E. 튜플 활용"
      ],
      "id": "4fd1836d-ba89-4255-816a-1662374383f1"
    },
    {
      "cell_type": "code",
      "execution_count": null,
      "metadata": {},
      "outputs": [],
      "source": [
        "# 다중출력\n",
        "a=1\n",
        "b=2\n",
        "c=3"
      ],
      "id": "cell-154"
    },
    {
      "cell_type": "code",
      "execution_count": null,
      "metadata": {
        "outputId": "1f0cf3e9-18ae-4f3d-d628-62df7b9530f6"
      },
      "outputs": [],
      "source": [
        "a,b,c # 괄호 생략"
      ],
      "id": "cell-155"
    },
    {
      "cell_type": "code",
      "execution_count": null,
      "metadata": {},
      "outputs": [],
      "source": [
        "# 다중할당\n",
        "name, age, sex, height, weight = 'Tom', 20, 'M', 180, 70  # 다중할당"
      ],
      "id": "cell-156"
    },
    {
      "cell_type": "code",
      "execution_count": null,
      "metadata": {
        "outputId": "f92bdc7c-79a2-46da-aaa7-c938c09257f1"
      },
      "outputs": [],
      "source": [
        "# 리스트에서도 다중할당 및 출력이 가능함\n",
        "[x,y,z] = [1,2,3]\n",
        "x,y,z # 다중출력 -> 튜플로 출력됨"
      ],
      "id": "cell-157"
    },
    {
      "cell_type": "markdown",
      "metadata": {},
      "source": [
        "## F. for문과 튜플 사용"
      ],
      "id": "a20c56a2-efcd-45b1-8745-c8dcf6ca1978"
    },
    {
      "cell_type": "code",
      "execution_count": null,
      "metadata": {
        "outputId": "1ff1d76b-05dc-49ec-8105-bfd5708f24f6"
      },
      "outputs": [],
      "source": [
        "lst = [['Amond', 202112345, 'M'],\n",
        "       ['Dodo',202455431, 'M'],\n",
        "       ['Jong', 202301123, 'F']]\n",
        "lst"
      ],
      "id": "cell-159"
    },
    {
      "cell_type": "code",
      "execution_count": null,
      "metadata": {
        "outputId": "45d73770-cfb1-434b-c24b-547d4c0a3e8d"
      },
      "outputs": [
        {
          "output_type": "stream",
          "name": "stdout",
          "text": [
            "Amond M\n",
            "Dodo M\n",
            "Jong F"
          ]
        }
      ],
      "source": [
        "for name,id,sex in lst:\n",
        "  print(name,sex)"
      ],
      "id": "cell-160"
    },
    {
      "cell_type": "code",
      "execution_count": null,
      "metadata": {
        "outputId": "71a94375-b5cf-4b02-c594-e634fda61a0a"
      },
      "outputs": [
        {
          "output_type": "stream",
          "name": "stdout",
          "text": [
            "202112345\n",
            "202455431\n",
            "202301123"
          ]
        }
      ],
      "source": [
        "for name,id,sex in lst:\n",
        "    print(id)"
      ],
      "id": "cell-161"
    },
    {
      "cell_type": "markdown",
      "metadata": {},
      "source": [
        "`-` 튜플과 언패킹연산자 `*`"
      ],
      "id": "764c99a6-894b-42ef-996b-b132b994c330"
    },
    {
      "cell_type": "code",
      "execution_count": null,
      "metadata": {
        "outputId": "8b33b2dc-17ee-4d2e-f761-34dabc6dca11"
      },
      "outputs": [
        {
          "output_type": "stream",
          "name": "stdout",
          "text": [
            "Amond [202112345, 'M']\n",
            "Dodo [202455431, 'M']\n",
            "Jong [202301123, 'F']"
          ]
        }
      ],
      "source": [
        "for name,*other  in lst:\n",
        "    print(name,other) # '*' 아래로는 다 리스트로 묶여짐"
      ],
      "id": "cell-163"
    },
    {
      "cell_type": "markdown",
      "metadata": {},
      "source": [
        "`-` `*`의 동작 자세히.."
      ],
      "id": "f1213956-2664-4e51-863a-3188d2f272e7"
    },
    {
      "cell_type": "code",
      "execution_count": null,
      "metadata": {
        "outputId": "58746638-f1ef-4199-c3b2-5bc292a7fa2e"
      },
      "outputs": [],
      "source": [
        "head, body, *tail = range(1,11)\n",
        "head, body, tail # 리스트로 묶임"
      ],
      "id": "cell-165"
    },
    {
      "cell_type": "code",
      "execution_count": null,
      "metadata": {
        "outputId": "1aebc9db-9563-4c26-a4a9-ef1714c54f96"
      },
      "outputs": [],
      "source": [
        "head, body, *tail #출력 할 때 `*` 붙이면 리스트가 풀림(포인터 같은 느낌??)"
      ],
      "id": "cell-166"
    },
    {
      "cell_type": "markdown",
      "metadata": {},
      "source": [
        "# 5. 잡기술\n",
        "\n",
        "## A. 인덱싱 고급(스트라이딩)"
      ],
      "id": "1a3b57b3-f00c-4329-85a4-355d7f574df5"
    },
    {
      "cell_type": "code",
      "execution_count": null,
      "metadata": {
        "outputId": "7cf5c2d0-e216-494d-87e2-dbcdde956e0e"
      },
      "outputs": [],
      "source": [
        "lst = list('abcdefghijk')\n",
        "lst"
      ],
      "id": "cell-169"
    },
    {
      "cell_type": "code",
      "execution_count": null,
      "metadata": {
        "outputId": "afbe5bcb-0331-4952-ee33-960aca54329c"
      },
      "outputs": [],
      "source": [
        "len(lst)"
      ],
      "id": "cell-170"
    },
    {
      "cell_type": "code",
      "execution_count": null,
      "metadata": {
        "outputId": "779e9008-16d7-4dce-ba4b-3baa7a3854ea"
      },
      "outputs": [],
      "source": [
        "lst[0:9:2] # 첫번째부터 9개 원소 추출 후 2개 단위로 추출"
      ],
      "id": "cell-171"
    },
    {
      "cell_type": "code",
      "execution_count": null,
      "metadata": {
        "outputId": "e18b6196-2b4d-4d58-adb8-da6b3edea61d"
      },
      "outputs": [],
      "source": [
        "lst[1::3] # 두번째부터 다추출(생략)후 3개 단위로 추출"
      ],
      "id": "cell-172"
    },
    {
      "cell_type": "code",
      "execution_count": null,
      "metadata": {
        "outputId": "e4dad106-2d6e-401b-9ce0-2bd0b3c1851b"
      },
      "outputs": [],
      "source": [
        "lst = list('abcdefghijk')\n",
        "lst[::2] # 첫번째부터 짝수에 단위로 추출"
      ],
      "id": "cell-173"
    },
    {
      "cell_type": "code",
      "execution_count": null,
      "metadata": {
        "outputId": "d87b69a6-fc9b-441d-8493-5f6381b7e0ab"
      },
      "outputs": [],
      "source": [
        "txt = '너같이사랑스럽고\\n또예쁘고도멋지고\\n속훤히보이는너알\\n았어그동안고마웠\\n지정말정말사랑해'\n",
        "txt[::9]"
      ],
      "id": "cell-174"
    },
    {
      "cell_type": "markdown",
      "metadata": {},
      "source": [
        "`-` 스트라이딩으로 `step = -1` 옵션 주기 vs 리스트의 .`reverse()` 메소드\n",
        "이용하기"
      ],
      "id": "2c4dade0-1a2f-482e-8432-9334f53ccffd"
    },
    {
      "cell_type": "code",
      "execution_count": null,
      "metadata": {
        "outputId": "1ddfb220-1c2b-4b25-fe79-314c64ae3cb9"
      },
      "outputs": [],
      "source": [
        "lst = list('abcdefgh')\n",
        "lst[::-1]"
      ],
      "id": "cell-176"
    },
    {
      "cell_type": "code",
      "execution_count": null,
      "metadata": {
        "outputId": "d7556d5a-e194-47a5-aaa9-13304a31f19c"
      },
      "outputs": [],
      "source": [
        "lst.reverse()\n",
        "lst #reverse는 lst자체를 변화시킴"
      ],
      "id": "cell-177"
    },
    {
      "cell_type": "markdown",
      "metadata": {},
      "source": [
        "## B. len함수"
      ],
      "id": "e0d6c734-ce55-4c29-bd15-b718ccb1c895"
    },
    {
      "cell_type": "code",
      "execution_count": null,
      "metadata": {
        "outputId": "639cb0f4-ed92-4226-9cb4-2257167eb110"
      },
      "outputs": [],
      "source": [
        "# 0차원 자료형 동작 X\n",
        "a=1\n",
        "len(a)"
      ],
      "id": "cell-179"
    },
    {
      "cell_type": "code",
      "execution_count": null,
      "metadata": {
        "outputId": "ea50b1fb-52dc-41c3-a8bd-d6b0078b5270"
      },
      "outputs": [],
      "source": [
        "a=[1,2,3,4,5,6]\n",
        "len(a)"
      ],
      "id": "cell-180"
    },
    {
      "cell_type": "code",
      "execution_count": null,
      "metadata": {
        "outputId": "8ebd4416-5f1f-4627-8815-2f363695c08b"
      },
      "outputs": [],
      "source": [
        "a=1,2,3,4,5,6\n",
        "len(a)"
      ],
      "id": "cell-181"
    },
    {
      "cell_type": "markdown",
      "metadata": {},
      "source": [
        "`-` 길이가 1인 1차원 자료형과 0차원 자료형은 다른것임"
      ],
      "id": "426d8f2c-2a8c-4d72-a161-06009987c972"
    },
    {
      "cell_type": "code",
      "execution_count": null,
      "metadata": {
        "outputId": "15bbe701-f3a0-483d-e208-35af8bd733be"
      },
      "outputs": [],
      "source": [
        "a='g'\n",
        "len(a)"
      ],
      "id": "cell-183"
    },
    {
      "cell_type": "markdown",
      "metadata": {},
      "source": [
        "`-` 길이가 0인 1차원 자료형도 존재함"
      ],
      "id": "33fe0974-ea5c-4651-a2b5-c35ab9a72c4d"
    },
    {
      "cell_type": "code",
      "execution_count": null,
      "metadata": {
        "outputId": "894a74e9-3077-4c20-97f2-5e5ec516d2c4"
      },
      "outputs": [],
      "source": [
        "a=''\n",
        "len(a)"
      ],
      "id": "cell-185"
    },
    {
      "cell_type": "code",
      "execution_count": null,
      "metadata": {
        "outputId": "1bbbd55f-3977-44d6-d5f9-e97fad2e4ecf"
      },
      "outputs": [],
      "source": [
        "a=[]\n",
        "len(a)"
      ],
      "id": "cell-186"
    },
    {
      "cell_type": "code",
      "execution_count": null,
      "metadata": {
        "outputId": "69ffb236-00b0-485e-f2b2-2331eeae187c"
      },
      "outputs": [],
      "source": [
        "a=()\n",
        "len(a)"
      ],
      "id": "cell-187"
    },
    {
      "cell_type": "code",
      "execution_count": null,
      "metadata": {
        "outputId": "92b9761c-51d7-4035-8a55-074b88edf00e"
      },
      "outputs": [],
      "source": [
        "a=range(0)\n",
        "len(a)"
      ],
      "id": "cell-188"
    },
    {
      "cell_type": "markdown",
      "metadata": {},
      "source": [
        "# 6. `dict`\n",
        "\n",
        "## A. 시퀀스형과 `dict`\n",
        "\n",
        "`-` str, list, tuple은 모두 시퀀스형이라는 공통점이 있다.\n",
        "\n",
        "`->` 원소의 위치번호로 인덱싱이 가능\n",
        "\n",
        "**시퀀스형의 카테고리** \\* 컨테니어형: list, tuple\n",
        "\n",
        "-   균일형: str\n",
        "\n",
        "-   가변형: list\n",
        "\n",
        "-   불변형: tuple, str\n",
        "\n",
        "## B. 선언"
      ],
      "id": "10115384-410c-4317-a69b-f1250d03d985"
    },
    {
      "cell_type": "code",
      "execution_count": null,
      "metadata": {
        "outputId": "69d0779d-407d-4365-b4d8-150f9ad43c4f"
      },
      "outputs": [],
      "source": [
        "# 일반적\n",
        "dct = {'amond':49, 'MIN':80}\n",
        "dct"
      ],
      "id": "cell-194"
    },
    {
      "cell_type": "code",
      "execution_count": null,
      "metadata": {
        "outputId": "6fbeece5-905a-4e61-c8a6-33d91874e3e3"
      },
      "outputs": [],
      "source": [
        "# dict() 이용\n",
        "dct = dict(amond=49, MIN=80)\n",
        "dct"
      ],
      "id": "cell-195"
    },
    {
      "cell_type": "code",
      "execution_count": null,
      "metadata": {
        "outputId": "09d7d2ec-6d31-4c3c-fbe3-7267fe4ba41c"
      },
      "outputs": [],
      "source": [
        "# 중첩된 리스트를 만든 뒤에 형태변환\n",
        "_lst = [['amond',12],['Lee',23]]\n",
        "dict(_lst)"
      ],
      "id": "cell-196"
    },
    {
      "cell_type": "markdown",
      "metadata": {},
      "source": [
        "## C. 원소추출\n",
        "\n",
        "`-` 원소의 위치로 추출할 수 없고, key로 추출해야 한다."
      ],
      "id": "7aed7edb-27e8-4295-890e-963ba3167474"
    },
    {
      "cell_type": "code",
      "execution_count": null,
      "metadata": {
        "outputId": "a3547e68-ca7c-44c4-8183-a4ae3f2af51b"
      },
      "outputs": [],
      "source": [
        "dct = {'amond':49, 'momo':80}\n",
        "dct"
      ],
      "id": "cell-199"
    },
    {
      "cell_type": "code",
      "execution_count": null,
      "metadata": {
        "outputId": "268d7553-32bc-434e-87f4-458c1cf7f6d9"
      },
      "outputs": [],
      "source": [
        "dct['amond']"
      ],
      "id": "cell-200"
    },
    {
      "cell_type": "markdown",
      "metadata": {},
      "source": [
        "## D. 원소추가, 변경, 삭제"
      ],
      "id": "ede23d5c-a386-404b-b986-28909eacc016"
    },
    {
      "cell_type": "code",
      "execution_count": null,
      "metadata": {
        "outputId": "5aa15e35-01af-4dc5-c6e3-0bac930de8d0"
      },
      "outputs": [],
      "source": [
        "# 변경\n",
        "dct = {'amond':49, 'momo':80}\n",
        "dct['amond'] = 50\n",
        "dct"
      ],
      "id": "cell-202"
    },
    {
      "cell_type": "code",
      "execution_count": null,
      "metadata": {
        "outputId": "713585f8-87e6-435b-cf05-7f90bb4129f9"
      },
      "outputs": [],
      "source": [
        "# 추가\n",
        "dct = {'amond':49, 'momo':80}\n",
        "dct['dodo'] = 99\n",
        "dct"
      ],
      "id": "cell-203"
    },
    {
      "cell_type": "code",
      "execution_count": null,
      "metadata": {
        "outputId": "a48cc004-3ea0-4204-97d2-e41465e13f8c"
      },
      "outputs": [],
      "source": [
        "# 삭제\n",
        "dct= {'amond':49, 'momo':80}\n",
        "del dct['amond']\n",
        "dct #pop도 가능"
      ],
      "id": "cell-204"
    },
    {
      "cell_type": "markdown",
      "metadata": {},
      "source": [
        "## F. 딕셔너리 특수기능(★)\n",
        "\n",
        "`-` `get()` 함수"
      ],
      "id": "56b21e29-7b15-47ed-a61d-6426e84cb607"
    },
    {
      "cell_type": "code",
      "execution_count": null,
      "metadata": {
        "outputId": "a73014f8-bf65-4b78-e4c2-2282a9bd8d66"
      },
      "outputs": [],
      "source": [
        "dct = {'amond':49, 'momo':80}\n",
        "dct.get('amond')\n",
        "# dct['amond'] 와 동일한 기능이지만 차이가 있음"
      ],
      "id": "cell-207"
    },
    {
      "cell_type": "code",
      "execution_count": null,
      "metadata": {},
      "outputs": [],
      "source": [
        "dct.get('lee') # 원소가 없으면 출력안함"
      ],
      "id": "cell-208"
    },
    {
      "cell_type": "markdown",
      "metadata": {},
      "source": [
        "`-` `dict.keys()` 는 딕셔너리의 키를 리턴"
      ],
      "id": "075dbf6d-f479-4a53-8a9f-49a1d26b53b6"
    },
    {
      "cell_type": "code",
      "execution_count": null,
      "metadata": {
        "outputId": "470fba38-e885-4586-d390-47f4f5c93dd9"
      },
      "outputs": [],
      "source": [
        "dct = {'amond':49, 'momo':80}\n",
        "dct.keys()"
      ],
      "id": "cell-210"
    },
    {
      "cell_type": "markdown",
      "metadata": {},
      "source": [
        "`-` `dict.values()` 는 딕셔너리의 값을 리턴"
      ],
      "id": "32062db6-4bec-4c6a-bf42-def68eb6d87a"
    },
    {
      "cell_type": "code",
      "execution_count": null,
      "metadata": {
        "outputId": "8cdb42a7-d1b9-4dbb-d811-11c36d3d56eb"
      },
      "outputs": [],
      "source": [
        "dct = {'amond':49, 'momo':80}\n",
        "dct.values()"
      ],
      "id": "cell-212"
    },
    {
      "cell_type": "markdown",
      "metadata": {},
      "source": [
        "`-` `dict.items()` 는 딕셔너리의 (키,값)을 리턴"
      ],
      "id": "f2996d9d-5247-47f6-b9ce-2e9850ac4901"
    },
    {
      "cell_type": "code",
      "execution_count": null,
      "metadata": {
        "outputId": "cfb6ae00-6047-4d1c-9d16-6edd96a63f70"
      },
      "outputs": [],
      "source": [
        "dct = {'amond':49, 'momo':80}\n",
        "dct.items()"
      ],
      "id": "cell-214"
    },
    {
      "cell_type": "markdown",
      "metadata": {},
      "source": [
        "## F. for문과 dict (★★)"
      ],
      "id": "f4340b1d-398a-4ba7-beda-987100771287"
    },
    {
      "cell_type": "code",
      "execution_count": null,
      "metadata": {
        "outputId": "1ddab108-6d1b-45b4-e0d7-1be32601a840"
      },
      "outputs": [
        {
          "output_type": "stream",
          "name": "stdout",
          "text": [
            "amond\n",
            "momo"
          ]
        }
      ],
      "source": [
        "dct = {'amond':49, 'momo':80}\n",
        "for k in dct.keys():\n",
        "  print(k)"
      ],
      "id": "cell-216"
    },
    {
      "cell_type": "code",
      "execution_count": null,
      "metadata": {
        "outputId": "d66c340c-c81a-4362-e0df-514770225741"
      },
      "outputs": [
        {
          "output_type": "stream",
          "name": "stdout",
          "text": [
            "amond\n",
            "momo"
          ]
        }
      ],
      "source": [
        "for k in dct:\n",
        "    print(k)"
      ],
      "id": "cell-217"
    },
    {
      "cell_type": "code",
      "execution_count": null,
      "metadata": {
        "outputId": "42010565-ffc0-446a-d3fd-0c7c5c05a874"
      },
      "outputs": [],
      "source": [
        "list(dct)"
      ],
      "id": "cell-218"
    },
    {
      "cell_type": "markdown",
      "metadata": {},
      "source": [
        "`-` 딕셔너리 그자체도 for문에 넣을 수 있다. 그때는 딕셔너리의 key가\n",
        "반복된다.\n",
        "\n",
        "`-` 결과를 보면 dct 대신에 dct.keys()와 list(dct)를 넣었을때와 결과가\n",
        "같다. \\> Note: list(dct) 하면 key만 리턴된다."
      ],
      "id": "ba35e186-e219-4364-9995-34701b75788f"
    },
    {
      "cell_type": "code",
      "execution_count": null,
      "metadata": {
        "outputId": "1cf12e1a-1f7f-4181-9b93-d3f96601248c"
      },
      "outputs": [
        {
          "output_type": "stream",
          "name": "stdout",
          "text": [
            "amond의 점수는 49점입니다.\n",
            "momo의 점수는 80점입니다."
          ]
        }
      ],
      "source": [
        "for name,score in dct.items():\n",
        "  print(f'{name}의 점수는 {score}점입니다.')"
      ],
      "id": "cell-220"
    },
    {
      "cell_type": "code",
      "execution_count": null,
      "metadata": {
        "outputId": "49240465-fa83-472d-e682-4d5d0dc1d7d6"
      },
      "outputs": [],
      "source": [
        "# 컴프리헨션 이용한 값 뽑기\n",
        "[k for k,v in dct.items()]"
      ],
      "id": "cell-221"
    },
    {
      "cell_type": "markdown",
      "metadata": {},
      "source": [
        "# 7. 딕셔너리를 이용한 치환(★★★)\n",
        "\n",
        "> 예제 1"
      ],
      "id": "8c621d1d-8492-4849-b334-f9ea5182b506"
    },
    {
      "cell_type": "code",
      "execution_count": null,
      "metadata": {},
      "outputs": [],
      "source": [
        "lst = ['딸기','사과','바나나','딸기','사과','오토바이','자동차','버스','기차','오토바이','자동차']"
      ],
      "id": "cell-224"
    },
    {
      "cell_type": "code",
      "execution_count": null,
      "metadata": {},
      "outputs": [],
      "source": [
        "dct = {'과일':['딸기','사과','바나나'],'탈것':['오토바이','자동차','버스','기차']}"
      ],
      "id": "cell-225"
    },
    {
      "cell_type": "code",
      "execution_count": null,
      "metadata": {
        "outputId": "faa33d13-4ffe-4b30-9677-fefe38a32f6c"
      },
      "outputs": [],
      "source": [
        "dct['과일']"
      ],
      "id": "cell-226"
    },
    {
      "cell_type": "code",
      "execution_count": null,
      "metadata": {
        "outputId": "d94d287f-fdc1-463d-8c4b-89dd479c67db"
      },
      "outputs": [],
      "source": [
        "[{l:k} for l in lst for k in dct]"
      ],
      "id": "cell-227"
    },
    {
      "cell_type": "code",
      "execution_count": null,
      "metadata": {
        "outputId": "8cab5de8-08e0-4fd2-f6ce-ea7d2d593cb1"
      },
      "outputs": [],
      "source": [
        "[{l:k} for l in lst for k in dct if l in dct[k]]"
      ],
      "id": "cell-228"
    },
    {
      "cell_type": "code",
      "execution_count": null,
      "metadata": {
        "outputId": "ba2bd368-5d74-4985-8613-04eb88024650"
      },
      "outputs": [],
      "source": [
        "# 치환\n",
        "[k for l in lst for k in dct if l in dct[k]]"
      ],
      "id": "cell-229"
    },
    {
      "cell_type": "markdown",
      "metadata": {},
      "source": [
        "> 예제 2"
      ],
      "id": "b6cf8902-76d2-4dec-9959-7afbfb125796"
    },
    {
      "cell_type": "code",
      "execution_count": null,
      "metadata": {
        "outputId": "2add7978-acfd-4b30-a5a5-56a04c4975ae"
      },
      "outputs": [],
      "source": [
        "lst = list('abcd'*2+'bbb')\n",
        "lst"
      ],
      "id": "cell-231"
    },
    {
      "cell_type": "code",
      "execution_count": null,
      "metadata": {},
      "outputs": [],
      "source": [
        "dct={'a':[1,0,0,0],'b':[0,1,0,0],'c':[0,0,1,0],'d':[0,0,0,1]}"
      ],
      "id": "cell-232"
    },
    {
      "cell_type": "code",
      "execution_count": null,
      "metadata": {
        "outputId": "1f3e61f7-66ae-4f8d-91ad-f3dce5da1280"
      },
      "outputs": [],
      "source": [
        "[dct[l] for l in lst]"
      ],
      "id": "cell-233"
    },
    {
      "cell_type": "code",
      "execution_count": null,
      "metadata": {
        "outputId": "a317a08b-eb5c-44f1-943e-230d504e84fc"
      },
      "outputs": [],
      "source": [
        "lst[0] ==  dct"
      ],
      "id": "cell-234"
    },
    {
      "cell_type": "code",
      "execution_count": null,
      "metadata": {
        "outputId": "220db23d-f04d-403e-f407-25a03a35ad2e"
      },
      "outputs": [],
      "source": [
        "dct['a']"
      ],
      "id": "cell-235"
    },
    {
      "cell_type": "code",
      "execution_count": null,
      "metadata": {
        "outputId": "aca9f85b-4220-48c8-b921-7277899319a8"
      },
      "outputs": [],
      "source": [
        "[{l:dct[l]} for l in lst]"
      ],
      "id": "cell-236"
    },
    {
      "cell_type": "markdown",
      "metadata": {},
      "source": [
        "> 예제3\n",
        "\n",
        "-   억지로 만들기… 튜플 활용해서"
      ],
      "id": "86143199-96b1-47b1-9878-c7e232f57323"
    },
    {
      "cell_type": "code",
      "execution_count": null,
      "metadata": {},
      "outputs": [],
      "source": [
        "lst2= [[1, 0, 0, 0],\n",
        "       [0, 1, 0, 0],\n",
        "       [0, 0, 1, 0],\n",
        "       [0, 0, 0, 1],\n",
        "       [1, 0, 0, 0],\n",
        "       [0, 1, 0, 0],\n",
        "       [0, 0, 1, 0],\n",
        "       [0, 0, 0, 1],\n",
        "       [0, 1, 0, 0],\n",
        "       [0, 1, 0, 0],\n",
        "       [0, 1, 0, 0]]"
      ],
      "id": "cell-239"
    },
    {
      "cell_type": "code",
      "execution_count": null,
      "metadata": {},
      "outputs": [],
      "source": [
        "dct={(1,0,0,0):'a',(0,1,0,0):'b',(0,0,1,0):'c',(0,0,0,1):'d'}"
      ],
      "id": "cell-240"
    },
    {
      "cell_type": "code",
      "execution_count": null,
      "metadata": {
        "outputId": "e967745b-6123-4ff5-da7a-52ba3e920e4b"
      },
      "outputs": [],
      "source": [
        "[dct[tuple(l)] for l in lst2]"
      ],
      "id": "cell-241"
    },
    {
      "cell_type": "markdown",
      "metadata": {},
      "source": [
        "-   기존 dct 이용(난이도:☆☆☆☆)"
      ],
      "id": "b9498df5-5e41-4200-89e2-20a85ff4b4e5"
    },
    {
      "cell_type": "code",
      "execution_count": null,
      "metadata": {},
      "outputs": [],
      "source": [
        "dct={'a':[1,0,0,0],'b':[0,1,0,0],'c':[0,0,1,0],'d':[0,0,0,1]}"
      ],
      "id": "cell-243"
    },
    {
      "cell_type": "code",
      "execution_count": null,
      "metadata": {
        "outputId": "55eebd7f-c99a-4310-8a90-31eec9bc14a9"
      },
      "outputs": [],
      "source": [
        "dct['a']"
      ],
      "id": "cell-244"
    },
    {
      "cell_type": "code",
      "execution_count": null,
      "metadata": {
        "outputId": "00792858-08fe-44a1-dbba-7c406cdf4de1"
      },
      "outputs": [],
      "source": [
        "# 1\n",
        "[l for l in lst2]"
      ],
      "id": "cell-245"
    },
    {
      "cell_type": "code",
      "execution_count": null,
      "metadata": {
        "outputId": "1e3ba2e6-df26-49e3-e445-e66c494cc3ac"
      },
      "outputs": [],
      "source": [
        "# 2\n",
        "[l for l in lst2 for k in dct if dct[k]==l]"
      ],
      "id": "cell-246"
    },
    {
      "cell_type": "code",
      "execution_count": null,
      "metadata": {
        "outputId": "11983dd0-c082-481f-a430-82591cf85f7c"
      },
      "outputs": [],
      "source": [
        "# 3\n",
        "[k for l in lst2 for k in dct if dct[k]==l]"
      ],
      "id": "cell-247"
    },
    {
      "cell_type": "markdown",
      "metadata": {},
      "source": [
        "> 예제 4"
      ],
      "id": "11b63992-d56e-4fe5-ba88-115003c722ce"
    },
    {
      "cell_type": "code",
      "execution_count": null,
      "metadata": {},
      "outputs": [],
      "source": [
        "month = [1,2,2,3,4,5,6,7,8,9,9,10,11,12]"
      ],
      "id": "cell-249"
    },
    {
      "cell_type": "code",
      "execution_count": null,
      "metadata": {},
      "outputs": [],
      "source": [
        "dct = {'겨울방학':[1,2],'1학기':[3,4,5,6],'여름방학':[7,8],'2학기':[9,10,11,12]}"
      ],
      "id": "cell-250"
    },
    {
      "cell_type": "code",
      "execution_count": null,
      "metadata": {
        "outputId": "560a2f3f-5474-481e-e8d3-fabee7bed3ea"
      },
      "outputs": [],
      "source": [
        "dct['겨울방학']"
      ],
      "id": "cell-251"
    },
    {
      "cell_type": "code",
      "execution_count": null,
      "metadata": {
        "outputId": "6af00a7a-e736-4304-d327-014c6f41ea45"
      },
      "outputs": [],
      "source": [
        "[m for m in month for k in dct if m in dct[k]]"
      ],
      "id": "cell-252"
    },
    {
      "cell_type": "markdown",
      "metadata": {},
      "source": [
        "> 예제 5"
      ],
      "id": "e32d96d8-9231-4064-a383-0b29e22dabb8"
    },
    {
      "cell_type": "code",
      "execution_count": null,
      "metadata": {},
      "outputs": [],
      "source": [
        "# 입력\n",
        "[0,1,0,1,4]\n",
        "\n",
        "# 출력\n",
        "['바나나', '사과', '바나나', '사과', '자전거']"
      ],
      "id": "cell-254"
    },
    {
      "cell_type": "code",
      "execution_count": null,
      "metadata": {},
      "outputs": [],
      "source": [
        "lst = [0,1,0,1,4]\n",
        "dct1 = {'바나나':0, '사과':1, '오토바이':2, '자동차':3, '자전거':4}"
      ],
      "id": "cell-255"
    },
    {
      "cell_type": "code",
      "execution_count": null,
      "metadata": {},
      "outputs": [],
      "source": [
        "f = lambda lst : [k for l in lst for k in dct1 if dct1[k]==l]"
      ],
      "id": "cell-256"
    },
    {
      "cell_type": "code",
      "execution_count": null,
      "metadata": {
        "outputId": "7fe3c770-990f-45a3-d325-5e66265fa5af"
      },
      "outputs": [],
      "source": [
        "f([0,0,1,2,3])"
      ],
      "id": "cell-257"
    },
    {
      "cell_type": "markdown",
      "metadata": {},
      "source": [
        "> 예제 6"
      ],
      "id": "d05a9c7a-7ce8-4f22-97fb-dc4e7246231a"
    },
    {
      "cell_type": "code",
      "execution_count": null,
      "metadata": {},
      "outputs": [],
      "source": [
        "# 입력\n",
        "['바나나','바나나','바나나','자동차']\n",
        "\n",
        "# 출력\n",
        "['과일','과일','과일','탈것']"
      ],
      "id": "cell-259"
    },
    {
      "cell_type": "code",
      "execution_count": null,
      "metadata": {},
      "outputs": [],
      "source": [
        "lst = ['바나나','바나나','바나나','자동차']\n",
        "dct2 = {'과일':['바나나','사과'], '탈것':['오토바이','자동차','자전거']}"
      ],
      "id": "cell-260"
    },
    {
      "cell_type": "code",
      "execution_count": null,
      "metadata": {},
      "outputs": [],
      "source": [
        "g =lambda lst: [k for l in lst for k in dct2 if l in dct2[k]]"
      ],
      "id": "cell-261"
    },
    {
      "cell_type": "code",
      "execution_count": null,
      "metadata": {
        "outputId": "1a4592b5-8adf-4f33-85ef-503ad8448cd7"
      },
      "outputs": [],
      "source": [
        "g(['바나나','바나나','바나나','자동차'])"
      ],
      "id": "cell-262"
    },
    {
      "cell_type": "code",
      "execution_count": null,
      "metadata": {
        "outputId": "806c71a7-3538-40ec-8b84-261d64a31a62"
      },
      "outputs": [],
      "source": [
        "g(f([0,1,2,3]))"
      ],
      "id": "cell-263"
    },
    {
      "cell_type": "markdown",
      "metadata": {},
      "source": [
        "# 8. 파이썬 자료형 연습문제"
      ],
      "id": "f3b6d247-d989-4d3b-b407-80559ef49af2"
    },
    {
      "cell_type": "code",
      "execution_count": 7,
      "metadata": {
        "tags": []
      },
      "outputs": [],
      "source": [
        "import requests\n",
        "url = 'https://raw.githubusercontent.com/guebin/PP2023/main/posts/01_PythonBasic/Oxford-IIIT.txt'\n",
        "txt = requests.get(url).content.decode()"
      ],
      "id": "cell-265"
    },
    {
      "cell_type": "code",
      "execution_count": 8,
      "metadata": {
        "outputId": "613b45e0-4aaa-4aba-9f9d-cd5a2da465e4",
        "tags": []
      },
      "outputs": [],
      "source": [
        "txt[:150]"
      ],
      "id": "cell-266"
    },
    {
      "cell_type": "markdown",
      "metadata": {},
      "source": [
        "`#` `문제`. 각 파일명은 `\\n`으로 구분되어있다. 위의 스트링을 분해하여\n",
        "아래와 같은 리스트를 생성하고 fname_list에 저장하라."
      ],
      "id": "e5d21ce1-fba6-4839-9f53-e60377899f82"
    },
    {
      "cell_type": "code",
      "execution_count": 9,
      "metadata": {
        "tags": []
      },
      "outputs": [],
      "source": [
        "fname_list = txt.split('\\n')"
      ],
      "id": "cell-268"
    },
    {
      "cell_type": "markdown",
      "metadata": {},
      "source": [
        "`-` 각 이미지파일명은 아래와 같은 규칙으로 저장되어 있다.\n",
        "\n",
        "-   파일명의 첫글자가 대문자이면 고양이를 의미하고 첫글자가 소문자이면\n",
        "    강아지를 의미한다.\n",
        "\n",
        "`# 문제.` 이미지 파일명이 입력으로 오면 강아지인지 고양이인지 판단하여\n",
        "‘cat’ or ’dog’를 리턴하는 함수 f를 구현하라."
      ],
      "id": "70653b46-f849-4b7e-ab0f-73071fd5fd81"
    },
    {
      "cell_type": "code",
      "execution_count": 10,
      "metadata": {
        "tags": []
      },
      "outputs": [],
      "source": [
        "f = lambda str : 'cat' if str[0].isupper() else 'dog'"
      ],
      "id": "cell-270"
    },
    {
      "cell_type": "code",
      "execution_count": 11,
      "metadata": {
        "outputId": "79886987-60fa-483c-fa4f-9f8effd31d61",
        "tags": []
      },
      "outputs": [],
      "source": [
        "f('Abyssinian_1.jpg')"
      ],
      "id": "cell-271"
    },
    {
      "cell_type": "markdown",
      "metadata": {},
      "source": [
        "`# 문제.` 위의 결과로 나온 fname_list를 입력으로 하고,\n",
        "\n",
        "리스트의 각 원소가 고양이를 의미하는 그림인지 강아지를 의미하는 그림인지\n",
        "나타내는 리스트를 만들어라."
      ],
      "id": "0b6d63eb-35b9-4108-a552-71a8e06e4788"
    },
    {
      "cell_type": "code",
      "execution_count": 12,
      "metadata": {
        "outputId": "1d60a1dc-ffb7-4814-fde9-625e754d74c4",
        "tags": []
      },
      "outputs": [],
      "source": [
        "## 입력예시\n",
        "['Abyssinian_1.jpg','Abyssinian_10.jpg',...,'yorkshire_terrier_98.jpg', 'yorkshire_terrier_99.jpg']\n",
        "\n",
        "## 출력예시\n",
        "['cat', 'cat', ... , 'dog', 'dog']"
      ],
      "id": "cell-273"
    },
    {
      "cell_type": "code",
      "execution_count": 13,
      "metadata": {
        "outputId": "711cc255-3fa9-4682-8204-e93bf93852ae",
        "tags": []
      },
      "outputs": [],
      "source": [
        "list(map(f,fname_list))[:15]"
      ],
      "id": "cell-274"
    },
    {
      "cell_type": "markdown",
      "metadata": {},
      "source": [
        "`# 문제.` 강아지 그림과 고양이 그림이 각각 몇 장씩 포함되어 있는지\n",
        "파악하는 코드를 구현하라."
      ],
      "id": "b9c38f41-df9e-4474-aa08-04c958439a13"
    },
    {
      "cell_type": "code",
      "execution_count": null,
      "metadata": {
        "outputId": "30e71b60-5267-4192-ab9c-2a3fa0ae5815"
      },
      "outputs": [],
      "source": [
        "list(map(f,fname_list)).count('cat')"
      ],
      "id": "cell-276"
    },
    {
      "cell_type": "code",
      "execution_count": null,
      "metadata": {
        "outputId": "723c8c53-6099-4dc7-b347-61cf8daba3c8"
      },
      "outputs": [],
      "source": [
        "list(map(f,fname_list)).count('dog')"
      ],
      "id": "cell-277"
    },
    {
      "cell_type": "code",
      "execution_count": null,
      "metadata": {
        "outputId": "c5f4650b-545d-4c88-aa27-25735697f711"
      },
      "outputs": [],
      "source": [
        "lst = list(map(f,fname_list))\n",
        "{s:lst.count(s) for s in set(lst)}"
      ],
      "id": "cell-278"
    },
    {
      "cell_type": "code",
      "execution_count": 15,
      "metadata": {
        "outputId": "a18ffeb7-b9c7-45ff-a971-5caf25c20a30",
        "tags": []
      },
      "outputs": [],
      "source": [
        "fname_list[:30]"
      ],
      "id": "cell-279"
    },
    {
      "cell_type": "markdown",
      "metadata": {},
      "source": [
        "`# 문제.` 고양이 혹은 강아지의 각 종이 몇 장씩 포함되어있는지 구하여\n",
        "딕셔너리로 정리하라."
      ],
      "id": "bed48d0f-e71a-44c5-8680-3204f405aa58"
    },
    {
      "cell_type": "code",
      "execution_count": 16,
      "metadata": {
        "outputId": "f64b08e6-5fef-4af1-c781-ea0847a078ad",
        "tags": []
      },
      "outputs": [],
      "source": [
        "ani_lst = ['_'.join(l.split('_')[:-1]) for l in fname_list]\n",
        "ani_lst[:20]"
      ],
      "id": "cell-281"
    },
    {
      "cell_type": "markdown",
      "metadata": {},
      "source": [
        "## `text` 포함된 글자수 세기"
      ],
      "id": "aafaa968-9bbc-462f-b4ba-34e6771cf4de"
    },
    {
      "cell_type": "code",
      "execution_count": null,
      "metadata": {
        "outputId": "d0aecd25-3d9e-4fa1-fdca-e5ca883fc9ce"
      },
      "outputs": [],
      "source": [
        "[{s:ani_lst.count(s)} for s in set(ani_lst)]"
      ],
      "id": "cell-283"
    }
  ],
  "nbformat": 4,
  "nbformat_minor": 5,
  "metadata": {
    "colab": {
      "provenance": []
    },
    "kernelspec": {
      "name": "python3",
      "display_name": "Python 3 (ipykernel)",
      "language": "python"
    },
    "language_info": {
      "name": "python",
      "codemirror_mode": {
        "name": "ipython",
        "version": "3"
      },
      "file_extension": ".py",
      "mimetype": "text/x-python",
      "nbconvert_exporter": "python",
      "pygments_lexer": "ipython3",
      "version": "3.11.5"
    }
  }
}