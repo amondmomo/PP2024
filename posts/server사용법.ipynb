{
 "cells": [
  {
   "cell_type": "markdown",
   "id": "7c2d14f1-892f-47a5-b6b5-2ca3553d1b15",
   "metadata": {},
   "source": [
    "---\n",
    "title: \"차\"\n",
    "author: \"이정민\"\n",
    "date: \"2024/04/07\"\n",
    "categories:\n",
    "  - server\n",
    "---"
   ]
  },
  {
   "cell_type": "markdown",
   "id": "943bd657-45e7-4a0d-838e-7ab2d0a5dbe4",
   "metadata": {},
   "source": [
    "# 서버접속"
   ]
  },
  {
   "cell_type": "markdown",
   "id": "fe7e1906-4255-4835-9347-8cbafb21304f",
   "metadata": {},
   "source": [
    "`ssh root@210.117.173.186 -p <port번호;학번뒷자리>` 서버 접속"
   ]
  },
  {
   "cell_type": "markdown",
   "id": "98e87260-2638-4579-927a-35cb7a8c4228",
   "metadata": {},
   "source": [
    "# 디렉토리 관리 리눅스 명령어"
   ]
  },
  {
   "cell_type": "markdown",
   "id": "037d3eb3-e03d-41f1-85d9-59dbec89805d",
   "metadata": {},
   "source": [
    "` dir ` -> 디렉토리 확인\n",
    "\n",
    "` mkdir ` -> 디렉토리 만들기\n",
    "\n",
    "` cd <dir> `  change dir 디렉토리(폴더) 안으로 들어가기\n",
    "\n",
    "`!<명령어>` 주피터 내에서 터미널 명령어 치는 방법\n",
    "\n",
    "`cd ..` 상위 디렉토리로 이동\n",
    "\n",
    "`rm -rf <dir>` 디렉토리 강제삭제\n",
    "\n",
    "`du -sh` 용량 확인"
   ]
  },
  {
   "cell_type": "markdown",
   "id": "1a64b9a9-856f-401d-892f-824717032c96",
   "metadata": {},
   "source": [
    "# tmux (터미널 관리 프로그램)\n"
   ]
  },
  {
   "cell_type": "markdown",
   "id": "902d2a4b-87ac-41fa-9cb2-70ed857d6b88",
   "metadata": {
    "tags": []
   },
   "source": [
    "\n",
    "`apt-get install tmux` tmux 다운로드\n",
    "\n",
    "`tmux ls` 터미널 리스트 확인\n",
    "\n",
    "`tmux kill-session -t <session>` 터미널 session 삭제\n",
    "\n",
    "`tmux new -s <session_name>` session 만들기\n",
    "\n",
    "`tmux attach -t <session_name>` session에 접속\n",
    "\n",
    "`ctrl+b` + `손떼고` + `d` base에 접속"
   ]
  },
  {
   "cell_type": "markdown",
   "id": "bed492d7-0b71-4807-b8cb-3b860d8367a8",
   "metadata": {},
   "source": [
    "# 아나콘다를 이용 한 실습환경 만들기"
   ]
  },
  {
   "cell_type": "markdown",
   "id": "b333feb5-236d-4673-a4e1-fb3773231f05",
   "metadata": {},
   "source": [
    "`conda create <env>` conda 환경 생성\n",
    "\n",
    "`conda activate <env>` conda 환경 실행\n",
    "\n",
    "`conda env remove -n <env>` conda 환경 제거\n",
    "\n",
    "`conda install -c conda-forge r-essentials` r 다운로드\n",
    "\n",
    "`conda install -c conda-forge notebook` 주피터노트북 다운로드"
   ]
  },
  {
   "cell_type": "markdown",
   "id": "74204c6e-8703-44bb-9fe4-58c530a4bd9d",
   "metadata": {},
   "source": [
    "# 패키지(어플리케이션) 관리"
   ]
  },
  {
   "cell_type": "markdown",
   "id": "8dba6b82-b3ad-418c-aa2e-d026cc3657d0",
   "metadata": {},
   "source": [
    "\n",
    "`pip install <module>=<version>` 모듈 다운로드하기\n",
    "\n",
    "`pip list` 패키지 리스트와 버전 확인\n",
    "\n",
    "`!<module> --version` 모듈 버전 확인\n"
   ]
  },
  {
   "cell_type": "markdown",
   "id": "ada2efe2-3dc1-4e8f-9f40-2b6aa76efc71",
   "metadata": {},
   "source": [
    "# 기타 "
   ]
  },
  {
   "cell_type": "markdown",
   "id": "36893694-d691-43fa-ac64-aa09d6ec0407",
   "metadata": {},
   "source": [
    "\n",
    "`ctr shift p`  >create\n",
    "### 코드스페이스에서 새로운 환경 노트북 생성\n",
    "\n",
    "\n",
    "`./code tunnel` base에서 code 스페이스 실행 -> `https://vscode.dev/tunnel/<name>/`\n",
    "\n",
    "\n",
    "`> installspec()` 주피터 노트북에서 R사용하도록 함\n",
    "\n",
    "`torch.cuda.is_available` gpu 연결 확인 \n",
    "\n",
    "\n",
    "\n"
   ]
  },
  {
   "cell_type": "code",
   "execution_count": null,
   "id": "3007ab9c-fe40-423d-943d-4ba28f39df28",
   "metadata": {},
   "outputs": [],
   "source": []
  },
  {
   "cell_type": "code",
   "execution_count": null,
   "id": "4cd18f53-3fa5-4117-b76b-249979fa462d",
   "metadata": {},
   "outputs": [],
   "source": []
  }
 ],
 "metadata": {
  "kernelspec": {
   "display_name": "Python 3 (ipykernel)",
   "language": "python",
   "name": "python3"
  },
  "language_info": {
   "codemirror_mode": {
    "name": "ipython",
    "version": 3
   },
   "file_extension": ".py",
   "mimetype": "text/x-python",
   "name": "python",
   "nbconvert_exporter": "python",
   "pygments_lexer": "ipython3",
   "version": "3.11.5"
  }
 },
 "nbformat": 4,
 "nbformat_minor": 5
}
