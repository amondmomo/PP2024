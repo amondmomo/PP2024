{
 "cells": [
  {
   "cell_type": "raw",
   "metadata": {},
   "source": [
    "---\n",
    "title: \"클래스 공부 (4) / 메소드 __init__ \"\n",
    "author: \"이정민\"\n",
    "date: \"24/02/2024\"\n",
    "categories:\n",
    "  - class\n",
    "  - crawling\n",
    "  - linear Regression  \n",
    "---"
   ]
  },
  {
   "cell_type": "markdown",
   "metadata": {
    "id": "8EV2b84P2ChC"
   },
   "source": [
    "### Import"
   ]
  },
  {
   "cell_type": "code",
   "execution_count": 25,
   "metadata": {
    "id": "DqeRmWff19Uw"
   },
   "outputs": [],
   "source": [
    "import matplotlib.pyplot as plt\n",
    "from IPython.core.display import HTML"
   ]
  },
  {
   "cell_type": "markdown",
   "metadata": {
    "id": "JCs3OEqZ3Svc"
   },
   "source": [
    "## self는 항상 써야함"
   ]
  },
  {
   "cell_type": "code",
   "execution_count": null,
   "metadata": {
    "id": "N1TNnN2s2BXk"
   },
   "outputs": [],
   "source": [
    "class Klass:\n",
    "  def hello(self): # hello 메소드 안에 self를 꼭 입력\n",
    "    print(\"hello\")"
   ]
  },
  {
   "cell_type": "code",
   "execution_count": null,
   "metadata": {
    "id": "agsHL-oE22Vu"
   },
   "outputs": [],
   "source": [
    "ins = Klass()"
   ]
  },
  {
   "cell_type": "code",
   "execution_count": null,
   "metadata": {
    "colab": {
     "base_uri": "https://localhost:8080/"
    },
    "id": "yUxWSXx926H1",
    "outputId": "715b8278-e81e-4164-a059-cec897ec8fde"
   },
   "outputs": [
    {
     "name": "stdout",
     "output_type": "stream",
     "text": [
      "hello\n"
     ]
    }
   ],
   "source": [
    "ins.hello()"
   ]
  },
  {
   "cell_type": "markdown",
   "metadata": {
    "id": "s55tc_jR3lZV"
   },
   "source": [
    "## __init__ 사용"
   ]
  },
  {
   "cell_type": "code",
   "execution_count": null,
   "metadata": {
    "id": "WvaTJBB96V_t"
   },
   "outputs": [],
   "source": [
    "# class 예제 1"
   ]
  },
  {
   "cell_type": "code",
   "execution_count": null,
   "metadata": {
    "id": "DAZ8sI383pA_"
   },
   "outputs": [],
   "source": [
    "class Klass():\n",
    "  def __init__(self):\n",
    "    self.a = True\n",
    "  def show(self):\n",
    "    print(self.a)"
   ]
  },
  {
   "cell_type": "code",
   "execution_count": null,
   "metadata": {
    "id": "fV_aD2wD36QF"
   },
   "outputs": [],
   "source": [
    "ins = Klass()"
   ]
  },
  {
   "cell_type": "code",
   "execution_count": null,
   "metadata": {
    "colab": {
     "base_uri": "https://localhost:8080/"
    },
    "id": "3BznbPrz38W9",
    "outputId": "a3da8abf-6a58-4f95-c37b-6a54775f8a71"
   },
   "outputs": [
    {
     "name": "stdout",
     "output_type": "stream",
     "text": [
      "True\n"
     ]
    }
   ],
   "source": [
    "ins.show()"
   ]
  },
  {
   "cell_type": "code",
   "execution_count": null,
   "metadata": {
    "id": "P1tBTNgl6YbC"
   },
   "outputs": [],
   "source": [
    "# class 예제 2-1"
   ]
  },
  {
   "cell_type": "code",
   "execution_count": null,
   "metadata": {
    "id": "h8KV1IjC6aBN"
   },
   "outputs": [],
   "source": [
    "class Klass():\n",
    "  def __init__(self):\n",
    "    self.a = True\n",
    "  def toggle(self):\n",
    "    if self.a == True:\n",
    "      self.a = False\n",
    "    elif self.a == False:\n",
    "      self.a = True\n",
    "  def show(self):\n",
    "    print(self.a)"
   ]
  },
  {
   "cell_type": "code",
   "execution_count": null,
   "metadata": {
    "id": "yv4B1yAD4gMp"
   },
   "outputs": [],
   "source": [
    "ins = Klass()"
   ]
  },
  {
   "cell_type": "code",
   "execution_count": null,
   "metadata": {
    "colab": {
     "base_uri": "https://localhost:8080/"
    },
    "id": "uVrALRAo7fDj",
    "outputId": "307e09fd-e70d-4b96-da42-ab589be99dc1"
   },
   "outputs": [
    {
     "name": "stdout",
     "output_type": "stream",
     "text": [
      "False\n"
     ]
    }
   ],
   "source": [
    "ins.toggle()\n",
    "ins.show()"
   ]
  },
  {
   "cell_type": "code",
   "execution_count": null,
   "metadata": {
    "id": "HxeRBibK2zRt"
   },
   "outputs": [],
   "source": [
    "# class 예제 2-2"
   ]
  },
  {
   "cell_type": "code",
   "execution_count": null,
   "metadata": {
    "id": "EXNJi1nM7r7_"
   },
   "outputs": [],
   "source": [
    "class Klass():\n",
    "  def __init__(self):\n",
    "    self.a = True\n",
    "  def toggle(self):\n",
    "    self.a = not self.a\n",
    "  def show(self):\n",
    "    print(self.a)"
   ]
  },
  {
   "cell_type": "code",
   "execution_count": null,
   "metadata": {
    "id": "RvyjJi9G7wb6"
   },
   "outputs": [],
   "source": [
    "ins = Klass()"
   ]
  },
  {
   "cell_type": "code",
   "execution_count": null,
   "metadata": {
    "colab": {
     "base_uri": "https://localhost:8080/"
    },
    "id": "cK_KGANY7xbY",
    "outputId": "09044624-3f1c-4210-9cb3-3db50f280ce3"
   },
   "outputs": [
    {
     "name": "stdout",
     "output_type": "stream",
     "text": [
      "True\n"
     ]
    }
   ],
   "source": [
    "ins.toggle()\n",
    "ins.show()"
   ]
  },
  {
   "cell_type": "code",
   "execution_count": null,
   "metadata": {
    "id": "zrr7dNZ_-0Kz"
   },
   "outputs": [],
   "source": [
    "# class 예제 3"
   ]
  },
  {
   "cell_type": "code",
   "execution_count": null,
   "metadata": {
    "id": "YPMkrR7_-1mW"
   },
   "outputs": [],
   "source": [
    "class Klass():\n",
    "  def __init__(self):\n",
    "    self.a = 0\n",
    "  def up(self):\n",
    "    self.a = self.a +1\n",
    "  def show(self):\n",
    "    print(self.a)"
   ]
  },
  {
   "cell_type": "code",
   "execution_count": null,
   "metadata": {
    "id": "vmjdkiGh_FFo"
   },
   "outputs": [],
   "source": [
    "ins = Klass()"
   ]
  },
  {
   "cell_type": "code",
   "execution_count": null,
   "metadata": {
    "colab": {
     "base_uri": "https://localhost:8080/"
    },
    "id": "wK3n5o8-_HkL",
    "outputId": "ef101615-2c4f-4a8e-a32b-bbe6c89f6ec0"
   },
   "outputs": [
    {
     "data": {
      "text/plain": [
       "0"
      ]
     },
     "execution_count": 54,
     "metadata": {},
     "output_type": "execute_result"
    }
   ],
   "source": [
    "ins.a"
   ]
  },
  {
   "cell_type": "code",
   "execution_count": null,
   "metadata": {
    "id": "nrBBjXDy_In6"
   },
   "outputs": [],
   "source": [
    "ins.up()"
   ]
  },
  {
   "cell_type": "code",
   "execution_count": null,
   "metadata": {
    "colab": {
     "base_uri": "https://localhost:8080/"
    },
    "id": "Z_FcqdBU_J-H",
    "outputId": "b641de1e-9d53-4c76-e78c-8f15a6758e4d"
   },
   "outputs": [
    {
     "data": {
      "text/plain": [
       "1"
      ]
     },
     "execution_count": 56,
     "metadata": {},
     "output_type": "execute_result"
    }
   ],
   "source": [
    "ins.a"
   ]
  },
  {
   "cell_type": "code",
   "execution_count": null,
   "metadata": {
    "id": "XeBro-Rt_Lph"
   },
   "outputs": [],
   "source": [
    "## 예제4"
   ]
  },
  {
   "cell_type": "code",
   "execution_count": null,
   "metadata": {
    "id": "lgXW-WRH_LtS"
   },
   "outputs": [],
   "source": [
    "class Klass:\n",
    "  def __init__(self,value):\n",
    "    self.a = value\n",
    "  def show(self):\n",
    "    print(self.a)"
   ]
  },
  {
   "cell_type": "code",
   "execution_count": null,
   "metadata": {
    "id": "UiLyVlxtdhjn"
   },
   "outputs": [],
   "source": [
    "ins = Klass(24)"
   ]
  },
  {
   "cell_type": "code",
   "execution_count": null,
   "metadata": {
    "colab": {
     "base_uri": "https://localhost:8080/"
    },
    "id": "oQ2bTQZU_DTn",
    "outputId": "80411478-8ab2-4c78-e03e-c7987f7786ff"
   },
   "outputs": [
    {
     "name": "stdout",
     "output_type": "stream",
     "text": [
      "24\n"
     ]
    }
   ],
   "source": [
    "ins.show()"
   ]
  },
  {
   "cell_type": "code",
   "execution_count": null,
   "metadata": {
    "id": "NJxYdU8-d05Y"
   },
   "outputs": [],
   "source": [
    "#예제5"
   ]
  },
  {
   "cell_type": "code",
   "execution_count": null,
   "metadata": {
    "id": "Om6M7nxcd2DY"
   },
   "outputs": [],
   "source": [
    "class Klass:\n",
    "  def __init__(self):\n",
    "    self.a = 0\n",
    "  def up(self):\n",
    "    self.a = self.a +1\n",
    "  def jump(self,jump_size):\n",
    "    self.a = self.a + jump_size\n",
    "  def show(self):\n",
    "    print('a의 값은 {}입니다.'.format(self.a))"
   ]
  },
  {
   "cell_type": "code",
   "execution_count": null,
   "metadata": {
    "id": "Gk3RIZ4-fF9D"
   },
   "outputs": [],
   "source": [
    "ins = Klass()"
   ]
  },
  {
   "cell_type": "code",
   "execution_count": null,
   "metadata": {
    "colab": {
     "base_uri": "https://localhost:8080/"
    },
    "id": "XzEzlPeKfHcB",
    "outputId": "6abd1da7-cf00-4fd9-8b16-12d222f756a2"
   },
   "outputs": [
    {
     "data": {
      "text/plain": [
       "0"
      ]
     },
     "execution_count": 23,
     "metadata": {},
     "output_type": "execute_result"
    }
   ],
   "source": [
    "ins.a"
   ]
  },
  {
   "cell_type": "code",
   "execution_count": null,
   "metadata": {
    "colab": {
     "base_uri": "https://localhost:8080/"
    },
    "id": "b6k-9dPHfOd4",
    "outputId": "4477d786-909f-4b4c-986f-15d47a7af2d3"
   },
   "outputs": [
    {
     "name": "stdout",
     "output_type": "stream",
     "text": [
      "a의 값은 234입니다.\n"
     ]
    }
   ],
   "source": [
    "ins.jump(234)\n",
    "ins.show()"
   ]
  },
  {
   "cell_type": "code",
   "execution_count": null,
   "metadata": {
    "id": "-BEfUlXbfSIC"
   },
   "outputs": [],
   "source": [
    "# 예제6"
   ]
  },
  {
   "cell_type": "code",
   "execution_count": 26,
   "metadata": {
    "id": "l3VmEW0cfSUV"
   },
   "outputs": [],
   "source": [
    "class Klass:\n",
    "  def __init__(self):\n",
    "    self.a = 0\n",
    "  def up(self):\n",
    "    self.a = self.a +1\n",
    "  def jump(self,jump_size):\n",
    "    self.a = self.a + jump_size\n",
    "  def reset(self):\n",
    "    self.a = 0 ### self.__init__() 코드와 동일\n",
    "  def show(self):\n",
    "    print('a의 값은 {}입니다.'.format(self.a))"
   ]
  },
  {
   "cell_type": "code",
   "execution_count": 27,
   "metadata": {
    "id": "36QejB_Rf0B9"
   },
   "outputs": [],
   "source": [
    "ins = Klass()"
   ]
  },
  {
   "cell_type": "code",
   "execution_count": 28,
   "metadata": {
    "colab": {
     "base_uri": "https://localhost:8080/"
    },
    "id": "H6ySKDuaf1_U",
    "outputId": "0d5aeebc-19ed-46fd-eaf0-43541b67d774"
   },
   "outputs": [
    {
     "name": "stdout",
     "output_type": "stream",
     "text": [
      "a의 값은 234입니다.\n"
     ]
    }
   ],
   "source": [
    "ins.jump(234)\n",
    "ins.show()"
   ]
  },
  {
   "cell_type": "code",
   "execution_count": 29,
   "metadata": {
    "colab": {
     "base_uri": "https://localhost:8080/"
    },
    "id": "RqWhJsCOgB6m",
    "outputId": "fef5c643-428a-4b33-85e2-948d4082836e"
   },
   "outputs": [
    {
     "name": "stdout",
     "output_type": "stream",
     "text": [
      "a의 값은 0입니다.\n"
     ]
    }
   ],
   "source": [
    "ins.reset()\n",
    "ins.show()"
   ]
  },
  {
   "cell_type": "code",
   "execution_count": null,
   "metadata": {
    "id": "jFJsWvMvhere"
   },
   "outputs": [],
   "source": [
    "# 예제7 / 이미지 삽입"
   ]
  },
  {
   "cell_type": "code",
   "execution_count": 138,
   "metadata": {
    "id": "j14YfFXWh4-1"
   },
   "outputs": [],
   "source": [
    "class Klass:\n",
    "  def __init__(self):\n",
    "    self.url = 'https://talkimg.imbc.com/TVianUpload/tvian/TViews/image/2023/07/21/4a6e5d86-eafd-4c4c-a252-faf00c45cfcc.jpg'\n",
    "  def show(self):\n",
    "    html_str = '<img src={url} width=250>'.format(url=self.url)\n",
    "    display(HTML(html_str))"
   ]
  },
  {
   "cell_type": "code",
   "execution_count": 139,
   "metadata": {
    "id": "sP4w3rd0iajP"
   },
   "outputs": [],
   "source": [
    "ins = Klass()"
   ]
  },
  {
   "cell_type": "code",
   "execution_count": 38,
   "metadata": {
    "colab": {
     "base_uri": "https://localhost:8080/",
     "height": 395
    },
    "id": "7N66nU4iicuo",
    "outputId": "f63a50c5-e396-47f0-d4b3-a7bb747bbafe"
   },
   "outputs": [
    {
     "data": {
      "text/html": [
       "<img src=https://talkimg.imbc.com/TVianUpload/tvian/TViews/image/2023/07/21/4a6e5d86-eafd-4c4c-a252-faf00c45cfcc.jpg width=250>"
      ],
      "text/plain": [
       "<IPython.core.display.HTML object>"
      ]
     },
     "metadata": {},
     "output_type": "display_data"
    }
   ],
   "source": [
    "ins.show()"
   ]
  },
  {
   "cell_type": "code",
   "execution_count": null,
   "metadata": {
    "id": "GqdSdmoxiw0l"
   },
   "outputs": [],
   "source": [
    "# 예제8"
   ]
  },
  {
   "cell_type": "code",
   "execution_count": 140,
   "metadata": {
    "id": "qu_TCJCkfSX1"
   },
   "outputs": [],
   "source": [
    "class Klass:\n",
    "  def __init__(self):\n",
    "    self.n = 0\n",
    "    self.url = 'https://talkimg.imbc.com/TVianUpload/tvian/TViews/image/2023/07/21/4a6e5d86-eafd-4c4c-a252-faf00c45cfcc.jpg'\n",
    "  def show(self):\n",
    "    self.n = self.n + 1\n",
    "    html_str = '<img src={url} width=250>'.format(url=self.url)\n",
    "    print('당신은 뉴진스를 {}번 봤습니다.'.format(self.n))\n",
    "    display(HTML(html_str))"
   ]
  },
  {
   "cell_type": "code",
   "execution_count": 141,
   "metadata": {
    "id": "6r3lhoiBjGfI"
   },
   "outputs": [],
   "source": [
    "ins = Klass()"
   ]
  },
  {
   "cell_type": "code",
   "execution_count": 143,
   "metadata": {
    "colab": {
     "base_uri": "https://localhost:8080/",
     "height": 413
    },
    "id": "6dsY515NjHoY",
    "outputId": "633367e6-f03e-4fc3-baa9-5988b21d8ee8"
   },
   "outputs": [
    {
     "name": "stdout",
     "output_type": "stream",
     "text": [
      "당신은 뉴진스를 2번 봤습니다.\n"
     ]
    },
    {
     "data": {
      "text/html": [
       "<img src=https://talkimg.imbc.com/TVianUpload/tvian/TViews/image/2023/07/21/4a6e5d86-eafd-4c4c-a252-faf00c45cfcc.jpg width=250>"
      ],
      "text/plain": [
       "<IPython.core.display.HTML object>"
      ]
     },
     "metadata": {},
     "output_type": "display_data"
    }
   ],
   "source": [
    "ins.show()"
   ]
  },
  {
   "cell_type": "markdown",
   "metadata": {
    "id": "vSKJyZ2gjVKk"
   },
   "source": [
    "## **12wk-2 과제**"
   ]
  },
  {
   "cell_type": "markdown",
   "metadata": {
    "id": "tsNCc1Mhjcb7"
   },
   "source": [
    "### import"
   ]
  },
  {
   "cell_type": "code",
   "execution_count": 44,
   "metadata": {
    "colab": {
     "base_uri": "https://localhost:8080/"
    },
    "id": "ZLVSntHYjeoT",
    "outputId": "63224684-2a7e-492a-941f-8ffc44651a50"
   },
   "outputs": [
    {
     "name": "stderr",
     "output_type": "stream",
     "text": [
      "/usr/local/lib/python3.10/dist-packages/yfinance/base.py:48: FutureWarning: The default dtype for empty Series will be 'object' instead of 'float64' in a future version. Specify a dtype explicitly to silence this warning.\n",
      "  _empty_series = pd.Series()\n"
     ]
    }
   ],
   "source": [
    "import numpy as np\n",
    "import matplotlib.pyplot as plt\n",
    "import yfinance as yf"
   ]
  },
  {
   "cell_type": "markdown",
   "metadata": {
    "id": "smFpdIk0tIzK"
   },
   "source": [
    "> 과제1"
   ]
  },
  {
   "cell_type": "code",
   "execution_count": 108,
   "metadata": {
    "id": "w1nq5bZMjfN5"
   },
   "outputs": [],
   "source": [
    "class Stock:\n",
    "  def __init__(self):\n",
    "    self.y = None\n",
    "    self.sy = None\n",
    "  def crawling(self,start_date,end_date,code):\n",
    "    self.y = yf.download(code, start=start_date, end=end_date)['Adj Close'].to_numpy()\n",
    "  def smoothing(self,n):\n",
    "    T = len(self.y)\n",
    "    self.n = n\n",
    "    M = (np.eye(T) + np.array([abs(i-j)<2 for i in range(T) for j in range(T)]).reshape(T,T))/4\n",
    "    M[0,0] = 3/4\n",
    "    M[-1,-1] = 3/4\n",
    "    self.sy = np.linalg.matrix_power(M,self.n)@self.y\n",
    "  def plot(self):\n",
    "    plt.plot(y,label='y')\n",
    "    plt.plot(self.sy,label='y_hat')\n",
    "    plt.legend()"
   ]
  },
  {
   "cell_type": "code",
   "execution_count": 109,
   "metadata": {
    "id": "be5MS6WhqEdL"
   },
   "outputs": [],
   "source": [
    "ins = Stock()"
   ]
  },
  {
   "cell_type": "code",
   "execution_count": 110,
   "metadata": {
    "id": "C4J32IzRqQBH"
   },
   "outputs": [],
   "source": [
    "# kakao 인스턴스\n",
    "code = '035720.KS'\n",
    "start_date = '2023-01-01'\n",
    "end_date = '2023-05-26'"
   ]
  },
  {
   "cell_type": "code",
   "execution_count": 111,
   "metadata": {
    "colab": {
     "base_uri": "https://localhost:8080/"
    },
    "id": "rzJqjwU9qIip",
    "outputId": "c3c7448b-7458-4708-b315-606206d26dfd"
   },
   "outputs": [
    {
     "name": "stderr",
     "output_type": "stream",
     "text": [
      "\r",
      "[*********************100%%**********************]  1 of 1 completed\n"
     ]
    }
   ],
   "source": [
    "ins.crawling(start_date,end_date,code)"
   ]
  },
  {
   "cell_type": "code",
   "execution_count": 116,
   "metadata": {
    "id": "1OCSN0xFqk9F"
   },
   "outputs": [],
   "source": [
    "ins.smoothing(100)"
   ]
  },
  {
   "cell_type": "code",
   "execution_count": 117,
   "metadata": {
    "colab": {
     "base_uri": "https://localhost:8080/",
     "height": 430
    },
    "id": "oL0qX7NCo4BQ",
    "outputId": "e4eb8cbf-95aa-497f-a40e-b85985947442"
   },
   "outputs": [
    {
     "data": {
      "image/png": "[encoded data removed]",
      "text/plain": [
       "<Figure size 640x480 with 1 Axes>"
      ]
     },
     "metadata": {},
     "output_type": "display_data"
    }
   ],
   "source": [
    "ins.plot()"
   ]
  },
  {
   "cell_type": "markdown",
   "metadata": {
    "id": "6E_mDHH4tPXm"
   },
   "source": [
    "> 과제2"
   ]
  },
  {
   "cell_type": "code",
   "execution_count": 132,
   "metadata": {
    "id": "Q0Qy5j4wtQLd"
   },
   "outputs": [],
   "source": [
    "class LinearRegression:\n",
    "  def __init__(self,x,y):\n",
    "    self.x = x\n",
    "    self.y = y\n",
    "  def fit(self):\n",
    "    self.X = np.stack([np.ones(len(self.x)),x],axis=1)\n",
    "    self.y_hat = self.X@(np.linalg.inv((self.X).T@self.X))@((self.X).T@self.y)\n",
    "  def plot(self):\n",
    "    plt.plot(self.x,self.y,'o',label='(x,y)')\n",
    "    plt.plot(self.x,self.y_hat,'--r',label='(x,y_hat)')\n",
    "    plt.legend()"
   ]
  },
  {
   "cell_type": "code",
   "execution_count": 134,
   "metadata": {
    "id": "Wg6fcFx6DRZs"
   },
   "outputs": [],
   "source": [
    "x = np.array(\n",
    "    [0.007, 0.008, 0.008, 0.011, 0.037, 0.047, 0.059, 0.07 , 0.072,\n",
    "     0.075, 0.078, 0.08 , 0.082, 0.11 , 0.114, 0.117, 0.133, 0.15 ,\n",
    "     0.161, 0.163, 0.172, 0.208, 0.209, 0.221, 0.229, 0.231, 0.234,\n",
    "     0.235, 0.249, 0.251, 0.256, 0.269, 0.269, 0.273, 0.275, 0.298,\n",
    "     0.305, 0.309, 0.34 , 0.362, 0.371, 0.374, 0.382, 0.387, 0.388,\n",
    "     0.394, 0.395, 0.397, 0.401, 0.404, 0.419, 0.433, 0.436, 0.466,\n",
    "     0.481, 0.492, 0.495, 0.508, 0.511, 0.512, 0.554, 0.57 , 0.574,\n",
    "     0.575, 0.584, 0.6  , 0.601, 0.615, 0.618, 0.623, 0.629, 0.633,\n",
    "     0.646, 0.65 , 0.654, 0.662, 0.673, 0.686, 0.702, 0.744, 0.754,\n",
    "     0.766, 0.772, 0.781, 0.798, 0.8  , 0.807, 0.836, 0.837, 0.871,\n",
    "     0.873, 0.877, 0.879, 0.889, 0.891, 0.902, 0.904, 0.923, 0.952,\n",
    "     0.981]\n",
    ")\n",
    "y = np.array(\n",
    "    [4.004, 4.189, 5.483, 4.902, 5.174, 4.468, 4.95 , 4.463, 5.476,\n",
    "     4.446, 4.764, 5.244, 4.357, 4.796, 5.464, 4.196, 5.244, 4.868,\n",
    "     5.358, 4.493, 4.831, 4.716, 4.929, 4.588, 4.718, 4.389, 4.985,\n",
    "     4.266, 4.291, 3.697, 4.248, 4.88 , 5.126, 4.563, 4.131, 4.728,\n",
    "     4.168, 4.584, 3.953, 4.747, 3.592, 5.023, 4.601, 3.904, 4.092,\n",
    "     4.37 , 3.922, 4.145, 4.576, 4.25 , 4.051, 3.616, 4.634, 3.496,\n",
    "     4.631, 4.025, 4.197, 4.226, 4.808, 3.676, 3.834, 3.197, 4.36 ,\n",
    "     3.547, 3.956, 3.522, 4.26 , 3.443, 3.97 , 4.068, 4.186, 3.262,\n",
    "     3.452, 3.946, 3.875, 3.444, 3.501, 3.959, 3.843, 2.679, 3.266,\n",
    "     3.506, 2.916, 3.714, 4.007, 2.795, 3.329, 2.756, 3.72 , 2.381,\n",
    "     2.798, 3.035, 3.492, 3.22 , 3.073, 3.85 , 3.233, 3.396, 3.264,\n",
    "     2.986]\n",
    ")"
   ]
  },
  {
   "cell_type": "code",
   "execution_count": 135,
   "metadata": {
    "id": "jlugrMNmtNYU"
   },
   "outputs": [],
   "source": [
    "LR = LinearRegression(x,y)"
   ]
  },
  {
   "cell_type": "code",
   "execution_count": 136,
   "metadata": {
    "id": "AKuAyVeqC3zI"
   },
   "outputs": [],
   "source": [
    "LR.fit()"
   ]
  },
  {
   "cell_type": "code",
   "execution_count": 137,
   "metadata": {
    "colab": {
     "base_uri": "https://localhost:8080/",
     "height": 430
    },
    "id": "YMbHxAZRC5OL",
    "outputId": "ea1106f0-253a-4ed7-8401-31adfcee3de9"
   },
   "outputs": [
    {
     "data": {
      "image/png": "[encoded data removed]",
      "text/plain": [
       "<Figure size 640x480 with 1 Axes>"
      ]
     },
     "metadata": {},
     "output_type": "display_data"
    }
   ],
   "source": [
    "LR.plot()"
   ]
  }
 ],
 "metadata": {
  "colab": {
   "provenance": []
  },
  "kernelspec": {
   "display_name": "Python 3 (ipykernel)",
   "language": "python",
   "name": "python3"
  },
  "language_info": {
   "codemirror_mode": {
    "name": "ipython",
    "version": 3
   },
   "file_extension": ".py",
   "mimetype": "text/x-python",
   "name": "python",
   "nbconvert_exporter": "python",
   "pygments_lexer": "ipython3",
   "version": "3.10.13"
  }
 },
 "nbformat": 4,
 "nbformat_minor": 4
}
