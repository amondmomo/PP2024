{
  "cells": [
    {
      "cell_type": "markdown",
      "metadata": {},
      "source": [
        "# 클래스_Student/RPS_설계\n",
        "\n",
        "이정민  \n",
        "2026-01-02"
      ],
      "id": "bd5299f0-b66d-40a8-ae96-4dafcd631628"
    },
    {
      "cell_type": "code",
      "execution_count": 1,
      "metadata": {},
      "outputs": [],
      "source": [
        "from IPython.core.display import HTML\n",
        "import numpy as np\n",
        "import pandas as pd"
      ],
      "id": "cell-1"
    },
    {
      "cell_type": "markdown",
      "metadata": {},
      "source": [
        "`*` **중요** `*`\n",
        "\n",
        "사실 파이썬의 list도 클래스 종류임\n",
        "\n",
        "리스트 입력 값은 `__init__` 메소드의 입력값"
      ],
      "id": "bb05694c-9c9b-49ec-9102-48ccd9f46ed8"
    },
    {
      "cell_type": "code",
      "execution_count": 33,
      "metadata": {
        "outputId": "37b5ca20-1b4a-432f-cd7f-41c0c1e2d6af"
      },
      "outputs": [],
      "source": [
        "a = '123'\n",
        "list(a)"
      ],
      "id": "cell-3"
    },
    {
      "cell_type": "code",
      "execution_count": 39,
      "metadata": {
        "outputId": "18418627-f9df-4f59-8383-3e4b3c207540"
      },
      "outputs": [],
      "source": [
        "a = list()\n",
        "a.__init__('123')\n",
        "a"
      ],
      "id": "cell-4"
    },
    {
      "cell_type": "code",
      "execution_count": null,
      "metadata": {},
      "outputs": [],
      "source": [
        "a = list()\n",
        "a"
      ],
      "id": "cell-5"
    },
    {
      "cell_type": "code",
      "execution_count": 55,
      "metadata": {
        "outputId": "c73fd795-eefb-4ccf-ca98-7467a32d5f37"
      },
      "outputs": [],
      "source": [
        "a= np.arange(4).reshape(2,2)\n",
        "a"
      ],
      "id": "cell-6"
    },
    {
      "cell_type": "code",
      "execution_count": 42,
      "metadata": {
        "outputId": "289319de-a19b-4e1b-c325-b318a4698e88"
      },
      "outputs": [],
      "source": [
        "a.__str__()"
      ],
      "id": "cell-7"
    },
    {
      "cell_type": "code",
      "execution_count": 43,
      "metadata": {
        "outputId": "4ae7a1a7-b24c-4948-da69-4c42972449b2"
      },
      "outputs": [],
      "source": [
        "a.__repr__()"
      ],
      "id": "cell-8"
    },
    {
      "cell_type": "code",
      "execution_count": 59,
      "metadata": {
        "outputId": "c2446dbc-ad0b-494b-88ce-e78f4eca2ebb"
      },
      "outputs": [
        {
          "output_type": "stream",
          "name": "stdout",
          "text": [
            "[[0 1]\n",
            " [2 3]]"
          ]
        }
      ],
      "source": [
        "print(a.__str__())"
      ],
      "id": "cell-9"
    },
    {
      "cell_type": "markdown",
      "metadata": {},
      "source": [
        "## `__str__` 과 `__repr__`의 차이\n",
        "\n",
        "print(ins) == print(ins.`__str__`)"
      ],
      "id": "29798a5c-247e-4a59-9087-cf77c2939d2d"
    },
    {
      "cell_type": "code",
      "execution_count": 63,
      "metadata": {
        "outputId": "a9698e7f-c2e1-4c77-8266-3e2a3713e2d2"
      },
      "outputs": [
        {
          "output_type": "stream",
          "name": "stdout",
          "text": [
            "[[0 1]\n",
            " [2 3]]\n",
            "[[0 1]\n",
            " [2 3]]"
          ]
        }
      ],
      "source": [
        "a= np.arange(4).reshape(2,2)\n",
        "(print(a),print(a.__str__()))"
      ],
      "id": "cell-12"
    },
    {
      "cell_type": "markdown",
      "metadata": {},
      "source": [
        "ins = print(ins.`__repr__`)"
      ],
      "id": "02cfcf83-9a08-4c5c-9d06-1a81d79cfa3f"
    },
    {
      "cell_type": "code",
      "execution_count": 70,
      "metadata": {
        "outputId": "aa0a3fd9-39fd-4c6f-b3fd-684957c5c897"
      },
      "outputs": [
        {
          "output_type": "stream",
          "name": "stdout",
          "text": [
            "array([[0, 1],\n",
            "       [2, 3]])"
          ]
        }
      ],
      "source": [
        "a= np.arange(4).reshape(2,2)\n",
        "a,print(a.__repr__())"
      ],
      "id": "cell-14"
    },
    {
      "cell_type": "markdown",
      "metadata": {},
      "source": [
        "## 13wk-2 과제\n",
        "\n",
        "`1.` Student 클래스 설계"
      ],
      "id": "03caa79a-edc2-43cb-80da-60877dc2d3fc"
    },
    {
      "cell_type": "code",
      "execution_count": 92,
      "metadata": {},
      "outputs": [],
      "source": [
        "class Student:\n",
        "  def __init__(self,name,age,semester):\n",
        "    self.name = name\n",
        "    self.age = age\n",
        "    self.semester = semester\n",
        "  def __str__(self):\n",
        "    print_str = '''이름: {}\\n나이: {}\\n학기: {}'''.format(self.name,self.age,self.semester)\n",
        "    return print_str"
      ],
      "id": "cell-17"
    },
    {
      "cell_type": "code",
      "execution_count": 93,
      "metadata": {
        "outputId": "836f8333-0d82-4113-909d-6fc41e9784bb"
      },
      "outputs": [
        {
          "output_type": "stream",
          "name": "stdout",
          "text": [
            "이름: 김보람\n",
            "나이: 20\n",
            "학기: 1"
          ]
        }
      ],
      "source": [
        "# 사용 예시\n",
        "boram = Student(name='김보람', age=20, semester=1)\n",
        "print(boram)"
      ],
      "id": "cell-18"
    },
    {
      "cell_type": "code",
      "execution_count": 95,
      "metadata": {
        "outputId": "48b3ca1e-bc0d-4a4a-ccab-1eaef966b1ca"
      },
      "outputs": [
        {
          "output_type": "stream",
          "name": "stdout",
          "text": [
            "이름: 김 폴\n",
            "나이: 22\n",
            "학기: 2"
          ]
        }
      ],
      "source": [
        "# 사용 예시\n",
        "Paul = Student(name='김 폴', age=22, semester=2)\n",
        "print(Paul)"
      ],
      "id": "cell-19"
    },
    {
      "cell_type": "markdown",
      "metadata": {},
      "source": [
        "`2.` RPS 클래스 설계 (1)"
      ],
      "id": "82dff776-7cc8-44c9-a6d6-1c9b512d6a92"
    },
    {
      "cell_type": "code",
      "execution_count": 132,
      "metadata": {},
      "outputs": [],
      "source": [
        "class RPS:\n",
        "  def __init__(self,candidate):\n",
        "    self.candidate = candidate\n",
        "    self.actions = []\n",
        "  def pick(self):\n",
        "    self.actions.append(np.random.choice(self.candidate))\n",
        "  def _repr_html_(self):\n",
        "    html_str = '''\n",
        "      낼 수 있는 패: {}<br>\n",
        "      기록: {}\n",
        "      '''\n",
        "    return html_str.format(self.candidate,self.actions)"
      ],
      "id": "cell-21"
    },
    {
      "cell_type": "code",
      "execution_count": 134,
      "metadata": {
        "outputId": "ad5679f4-6aeb-46ad-965d-6feb4e719fa7"
      },
      "outputs": [],
      "source": [
        "a = RPS(['가위','바위','보'])\n",
        "a.pick()\n",
        "a"
      ],
      "id": "cell-22"
    },
    {
      "cell_type": "code",
      "execution_count": 128,
      "metadata": {},
      "outputs": [],
      "source": [
        "a = RPS(['가위','바위','보'])"
      ],
      "id": "cell-23"
    },
    {
      "cell_type": "code",
      "execution_count": 129,
      "metadata": {
        "outputId": "764440c4-5931-42cf-a526-02d679e91071"
      },
      "outputs": [],
      "source": [
        "a.candidate, a.actions"
      ],
      "id": "cell-24"
    },
    {
      "cell_type": "code",
      "execution_count": 130,
      "metadata": {
        "outputId": "f4159af3-c5c6-4f21-d67b-9c0e9c85987e"
      },
      "outputs": [],
      "source": [
        "a"
      ],
      "id": "cell-25"
    },
    {
      "cell_type": "code",
      "execution_count": 137,
      "metadata": {
        "outputId": "6db26be0-b93a-42cf-b363-5117b5c56c8d"
      },
      "outputs": [],
      "source": [
        "for i in range(5):\n",
        "    a.pick()"
      ],
      "id": "cell-26"
    },
    {
      "cell_type": "markdown",
      "metadata": {},
      "source": [
        "`3.` RPS 설계 (2)"
      ],
      "id": "8db1d001-5231-498e-a625-dfee566d8665"
    },
    {
      "cell_type": "code",
      "execution_count": 202,
      "metadata": {},
      "outputs": [],
      "source": [
        "a = RPS(['가위','보'])\n",
        "b = RPS(['가위'])\n",
        "rslt = []\n",
        "for i in range(100):\n",
        "  a.pick()\n",
        "  b.pick()\n",
        "  if a.actions[-1] =='가위' and b.actions[-1] =='가위':\n",
        "    rslt.append('-')\n",
        "  elif a.actions[-1] =='보' and b.actions[-1] =='가위':\n",
        "    rslt.append('b')\n",
        "  else:\n",
        "    rslt.append('a')"
      ],
      "id": "cell-28"
    },
    {
      "cell_type": "code",
      "execution_count": 203,
      "metadata": {
        "outputId": "e5c28d67-89df-4711-b212-65fb403bafc9"
      },
      "outputs": [],
      "source": [
        "{'a의승리':rslt.count('a'),'무승부':rslt.count('-'),'b의승리':rslt.count('b')}"
      ],
      "id": "cell-29"
    },
    {
      "cell_type": "markdown",
      "metadata": {},
      "source": [
        "`4.`RPS설계 (3)"
      ],
      "id": "d6b36d73-4d5b-4ce4-8ca6-7e21eca26e5d"
    },
    {
      "cell_type": "code",
      "execution_count": 222,
      "metadata": {},
      "outputs": [],
      "source": [
        "a = RPS(['가위','보'])\n",
        "b = RPS(['가위','바위'])\n",
        "rslt = []\n",
        "for i in range(100):\n",
        "  a.pick()\n",
        "  b.pick()\n",
        "  if a.actions[-1] =='가위' and b.actions[-1] =='가위':\n",
        "    rslt.append('-')\n",
        "  elif a.actions[-1] =='보' and b.actions[-1] =='가위':\n",
        "    rslt.append('b')\n",
        "  elif a.actions[-1] =='가위' and b.actions[-1] =='바위':\n",
        "    rslt.append('b')\n",
        "  else:\n",
        "    rslt.append('a')"
      ],
      "id": "cell-31"
    },
    {
      "cell_type": "code",
      "execution_count": 223,
      "metadata": {
        "outputId": "7b3f74f0-7074-48b4-dcbf-c6d5f7abbfcc"
      },
      "outputs": [],
      "source": [
        "{'a의승리':rslt.count('a'),'무승부':rslt.count('-'),'b의승리':rslt.count('b')}"
      ],
      "id": "cell-32"
    }
  ],
  "nbformat": 4,
  "nbformat_minor": 5,
  "metadata": {
    "colab": {
      "provenance": []
    },
    "kernelspec": {
      "name": "python3",
      "display_name": "Python 3 (ipykernel)",
      "language": "python"
    },
    "language_info": {
      "name": "python",
      "codemirror_mode": {
        "name": "ipython",
        "version": "3"
      },
      "file_extension": ".py",
      "mimetype": "text/x-python",
      "nbconvert_exporter": "python",
      "pygments_lexer": "ipython3",
      "version": "3.10.13"
    }
  }
}