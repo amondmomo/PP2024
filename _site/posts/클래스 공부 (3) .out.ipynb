{
  "cells": [
    {
      "cell_type": "markdown",
      "metadata": {},
      "source": [
        "# 클래스 공부 (3)\n",
        "\n",
        "이정민  \n",
        "2024-02-21\n",
        "\n",
        "<a href=\"https://colab.research.google.com/github/amondmomo/PP2024/blob/main/%ED%81%B4%EB%9E%98%EC%8A%A4_%EB%8F%99%EC%A0%84.ipynb\" target=\"_parent\"><img src=\"https://colab.research.google.com/assets/colab-badge.svg\" alt=\"Open In Colab\"/></a>"
      ],
      "id": "4a8c26d1-7bfc-45eb-8245-e8a54b17c2c2"
    },
    {
      "cell_type": "code",
      "execution_count": 3,
      "metadata": {},
      "outputs": [],
      "source": [
        "import numpy as np\n",
        "import matplotlib.pyplot as plt"
      ],
      "id": "cell-2"
    },
    {
      "cell_type": "markdown",
      "metadata": {},
      "source": [
        "## 클래스 생성"
      ],
      "id": "3140aa9c-fdd3-4dbe-9a69-ddd216255150"
    },
    {
      "cell_type": "code",
      "execution_count": 32,
      "metadata": {},
      "outputs": [],
      "source": [
        "class CoinFlipper:\n",
        "    def __init__(self):\n",
        "        self.coins = list()\n",
        "        self.win_cond = {'우유':[],'동민':[]}\n",
        "        self.winner = str()\n",
        "    def __iter__(self):\n",
        "        return self\n",
        "    def __next__(self):\n",
        "        self.coins.append(np.random.choice(['앞면','뒷면']))\n",
        "        if self.coins[-2:] == self.win_cond['우유']:\n",
        "            self.winner = '우유'\n",
        "            raise StopIteration\n",
        "        elif self.coins[-2:] == self.win_cond['동민']:\n",
        "            self.winner = '동민'\n",
        "            raise StopIteration\n",
        "        else:\n",
        "            pass\n",
        "    def __call__(self,win_cond):\n",
        "        self.win_cond = win_cond\n",
        "        for _ in self:\n",
        "            pass\n",
        "    def __repr__(self):\n",
        "        repr_str = '우유의 승리조건: {}\\n동민의 승리조건: {}\\n동전을 던진결과들: {}\\n최종승리자: {}'.format(\n",
        "            self.win_cond['우유'],\n",
        "            self.win_cond['동민'],\n",
        "            self.coins,\n",
        "            self.winner\n",
        "        )\n",
        "        return repr_str"
      ],
      "id": "cell-4"
    },
    {
      "cell_type": "code",
      "execution_count": 33,
      "metadata": {},
      "outputs": [],
      "source": [
        "coin_fliper = CoinFlipper()"
      ],
      "id": "cell-5"
    },
    {
      "cell_type": "code",
      "execution_count": 34,
      "metadata": {
        "outputId": "b359f21a-956c-493d-8c80-4bf91af15ca2"
      },
      "outputs": [],
      "source": [
        "coin_fliper"
      ],
      "id": "cell-6"
    },
    {
      "cell_type": "code",
      "execution_count": 35,
      "metadata": {},
      "outputs": [],
      "source": [
        "win_cond = {\n",
        "    '우유':['앞면','뒷면'],\n",
        "    '동민':['뒷면','앞면']\n",
        "}"
      ],
      "id": "cell-7"
    },
    {
      "cell_type": "code",
      "execution_count": 36,
      "metadata": {},
      "outputs": [],
      "source": [
        "coin_fliper(win_cond)"
      ],
      "id": "cell-8"
    },
    {
      "cell_type": "code",
      "execution_count": 37,
      "metadata": {
        "outputId": "e6221cc6-76b6-4e29-f525-8a95fc724698"
      },
      "outputs": [],
      "source": [
        "coin_fliper"
      ],
      "id": "cell-9"
    },
    {
      "cell_type": "code",
      "execution_count": 38,
      "metadata": {},
      "outputs": [],
      "source": [
        "coinfliper_lst = [CoinFlipper() for _ in range(10000)]\n",
        "winners = []\n",
        "for coinfliper in coinfliper_lst:\n",
        "    coinfliper(win_cond)\n",
        "    winners.append(coinfliper.winner)"
      ],
      "id": "cell-10"
    },
    {
      "cell_type": "code",
      "execution_count": 40,
      "metadata": {
        "outputId": "bc9fe049-4d56-457d-b32a-cb8dba2c76bf"
      },
      "outputs": [],
      "source": [
        "{'우유':winners.count('우유'), '동민':winners.count('동민')}"
      ],
      "id": "cell-11"
    },
    {
      "cell_type": "code",
      "execution_count": 41,
      "metadata": {
        "outputId": "2c9c8f10-8c4c-4591-88c7-8025f1ecf178"
      },
      "outputs": [],
      "source": [
        "coinfliper_lst[5000]"
      ],
      "id": "cell-12"
    },
    {
      "cell_type": "code",
      "execution_count": 42,
      "metadata": {},
      "outputs": [],
      "source": [
        "# (3)"
      ],
      "id": "cell-13"
    },
    {
      "cell_type": "code",
      "execution_count": 44,
      "metadata": {},
      "outputs": [],
      "source": [
        "win_cond = {\n",
        "    '우유':['앞면','뒷면'],\n",
        "    '동민':['뒷면','뒷면']\n",
        "}"
      ],
      "id": "cell-14"
    },
    {
      "cell_type": "code",
      "execution_count": 45,
      "metadata": {},
      "outputs": [],
      "source": [
        "coinfliper_lst = [CoinFlipper() for _ in range(100)]\n",
        "winners = []\n",
        "for coinfliper in coinfliper_lst:\n",
        "    coinfliper(win_cond)\n",
        "    winners.append(coinfliper.winner)"
      ],
      "id": "cell-15"
    },
    {
      "cell_type": "code",
      "execution_count": 47,
      "metadata": {
        "outputId": "953485ae-cd04-4b34-c7d6-f85c5f15a9b2"
      },
      "outputs": [],
      "source": [
        "{'우유':winners.count('우유'), '동민':winners.count('동민')}"
      ],
      "id": "cell-16"
    },
    {
      "cell_type": "code",
      "execution_count": 48,
      "metadata": {},
      "outputs": [],
      "source": [
        "#---------"
      ],
      "id": "cell-17"
    },
    {
      "cell_type": "code",
      "execution_count": 49,
      "metadata": {},
      "outputs": [],
      "source": [
        "import datetime"
      ],
      "id": "cell-18"
    },
    {
      "cell_type": "code",
      "execution_count": 50,
      "metadata": {},
      "outputs": [],
      "source": [
        "class Time:\n",
        "    def time(self):\n",
        "        return datetime.datetime.now().strftime('%y-%m-%d %X')"
      ],
      "id": "cell-19"
    },
    {
      "cell_type": "code",
      "execution_count": 51,
      "metadata": {},
      "outputs": [],
      "source": [
        "class Init(Time):\n",
        "    def __init__(self):\n",
        "        self.init_time = self.time()\n",
        "    def __repr__(self):\n",
        "        return '인스턴스생성시점: {}'.format(self.init_time)"
      ],
      "id": "cell-20"
    },
    {
      "cell_type": "code",
      "execution_count": 52,
      "metadata": {},
      "outputs": [],
      "source": [
        "a = Init()\n",
        "b = Init()"
      ],
      "id": "cell-21"
    },
    {
      "cell_type": "code",
      "execution_count": 53,
      "metadata": {
        "outputId": "d9726992-5cf5-4d60-c2b9-d92b4c8c7f27"
      },
      "outputs": [],
      "source": [
        "a,b"
      ],
      "id": "cell-22"
    },
    {
      "cell_type": "code",
      "execution_count": 54,
      "metadata": {},
      "outputs": [],
      "source": [
        "class Check:\n",
        "  def check(self):\n",
        "    return [l for l in dir(self) if l[0]!='_']"
      ],
      "id": "cell-23"
    },
    {
      "cell_type": "code",
      "execution_count": 55,
      "metadata": {},
      "outputs": [],
      "source": [
        "class Tuple(Check,tuple):\n",
        "  def freq(self):\n",
        "    return {s:self.count(s) for s in sef(self)}\n",
        "  def __repr__(self):\n",
        "    return super().__repr__() + '\\n' +'methods={}'.format(self.check())"
      ],
      "id": "cell-24"
    },
    {
      "cell_type": "code",
      "execution_count": 56,
      "metadata": {
        "outputId": "463ffab0-d5aa-4c1f-905e-9cf496b80dae"
      },
      "outputs": [],
      "source": [
        "tpl = Tuple('asdfassdfsasdf')\n",
        "tpl"
      ],
      "id": "cell-25"
    },
    {
      "cell_type": "code",
      "execution_count": 57,
      "metadata": {},
      "outputs": [],
      "source": [
        "class Init(object):\n",
        "  def __init__(self,value):\n",
        "    self.value = value\n",
        "\n",
        "class Times2(Init):\n",
        "  def __init__(self,value):\n",
        "    super().__init__(value)\n",
        "    self.value = self.value * 2\n",
        "\n",
        "class Plus5(Init):\n",
        "  def __init__(self,value):\n",
        "    super().__init__(value)\n",
        "    self.value = self.value + 5"
      ],
      "id": "cell-26"
    },
    {
      "cell_type": "code",
      "execution_count": 58,
      "metadata": {},
      "outputs": [],
      "source": [
        "class Times2Plus5(Plus5,Times2):\n",
        "  def __init__(self,value):\n",
        "    super().__init__(value)"
      ],
      "id": "cell-27"
    },
    {
      "cell_type": "code",
      "execution_count": 59,
      "metadata": {},
      "outputs": [],
      "source": [
        "def f(x):\n",
        "    return np.sin(x)"
      ],
      "id": "cell-28"
    },
    {
      "cell_type": "code",
      "execution_count": 60,
      "metadata": {
        "outputId": "9dde71a7-c724-406e-aa4d-ec2bead00d9c"
      },
      "outputs": [
        {
          "output_type": "display_data",
          "metadata": {},
          "data": {
            "image/png": "[encoded data removed]"
          }
        }
      ],
      "source": [
        "def f(x):\n",
        "    return np.sin(x)\n",
        "def derivate(f):\n",
        "    # step1: 함수오브젝트 f는 입력으로 받은상태\n",
        "    # step2: 함수오브젝트 f를 이용하여 df라는 함수를 정의\n",
        "    def df(x):\n",
        "        h=0.000000000001\n",
        "        return (f(x+h)-f(x))/h\n",
        "    # step3: 정의된 df를 리턴\n",
        "    return df\n",
        "\n",
        "x = np.linspace(-6,6,100)\n",
        "plt.plot(x,f(x),label=r'$f(x)=\\sin(x)$')\n",
        "plt.plot(x,(derivate(f))(x),label=r'$f\\'(x)=\\cos(x)$')\n",
        "plt.legend()"
      ],
      "id": "cell-29"
    },
    {
      "cell_type": "code",
      "execution_count": 61,
      "metadata": {},
      "outputs": [],
      "source": [
        "class Student:\n",
        "  def __init__(self,name='',age=20,semester=0):\n",
        "    self.name = name\n",
        "    self.age = age\n",
        "    self.semester = semester\n",
        "  def __str__(self):\n",
        "    print_str = '''이름: {}\\n나이: {}\\n학기: {}'''.format(self.name,self.age,self.semester)\n",
        "    return print_str"
      ],
      "id": "cell-30"
    },
    {
      "cell_type": "code",
      "execution_count": 62,
      "metadata": {
        "outputId": "41e518a2-7029-4f39-be2f-88e3836ddad2"
      },
      "outputs": [
        {
          "output_type": "stream",
          "name": "stdout",
          "text": [
            "이름: 김덕배\n",
            "나이: 12\n",
            "학기: 1"
          ]
        }
      ],
      "source": [
        "boram = Student(name='김덕배',age=12,semester=1)\n",
        "print(boram)"
      ],
      "id": "cell-31"
    }
  ],
  "nbformat": 4,
  "nbformat_minor": 5,
  "metadata": {
    "colab": {
      "authorship_tag": "ABX9TyOuNtmRUh/5iB9/Bb+qJRTx",
      "include_colab_link": true,
      "provenance": []
    },
    "kernelspec": {
      "name": "python3",
      "display_name": "Python 3 (ipykernel)",
      "language": "python"
    },
    "language_info": {
      "name": "python",
      "codemirror_mode": {
        "name": "ipython",
        "version": "3"
      },
      "file_extension": ".py",
      "mimetype": "text/x-python",
      "nbconvert_exporter": "python",
      "pygments_lexer": "ipython3",
      "version": "3.11.5"
    }
  }
}