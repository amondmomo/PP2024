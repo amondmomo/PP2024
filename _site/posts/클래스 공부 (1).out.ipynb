{
  "cells": [
    {
      "cell_type": "markdown",
      "metadata": {},
      "source": [
        "# 클래스 공부 (1)\n",
        "\n",
        "이정민  \n",
        "2024-02-21\n",
        "\n",
        "## 클래스 공부 (1)\n",
        "\n",
        "`#1` 클래스 선언\n",
        "\n",
        "-   클래스의 이름은 대문자로 설정"
      ],
      "id": "4436f328-49ad-4c55-a652-4f45c761cd64"
    },
    {
      "cell_type": "code",
      "execution_count": 2,
      "metadata": {},
      "outputs": [],
      "source": [
        "# 예시\n",
        "class Klass:\n",
        "    pass"
      ],
      "id": "79f63fb0-6bcd-4810-a05b-3e402e996414"
    }
  ],
  "nbformat": 4,
  "nbformat_minor": 5,
  "metadata": {
    "kernelspec": {
      "name": "python3",
      "display_name": "Python 3 (ipykernel)",
      "language": "python"
    },
    "language_info": {
      "name": "python",
      "codemirror_mode": {
        "name": "ipython",
        "version": "3"
      },
      "file_extension": ".py",
      "mimetype": "text/x-python",
      "nbconvert_exporter": "python",
      "pygments_lexer": "ipython3",
      "version": "3.11.5"
    }
  }
}