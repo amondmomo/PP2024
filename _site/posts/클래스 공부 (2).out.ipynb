{
  "cells": [
    {
      "cell_type": "markdown",
      "metadata": {},
      "source": [
        "# 클래스 공부 (2)\n",
        "\n",
        "이정민  \n",
        "2025-09-02"
      ],
      "id": "cf8c27fc-da92-46d4-ba54-18d3d03317e1"
    },
    {
      "cell_type": "code",
      "execution_count": 6,
      "metadata": {},
      "outputs": [],
      "source": [
        "# import\n",
        "from IPython.core.display import HTML"
      ],
      "id": "ef167cf1-942a-4e98-ab4b-cd1c40f2ceff"
    },
    {
      "cell_type": "markdown",
      "metadata": {},
      "source": [
        "# 클래스공부 1단계: 메소드 (복습)"
      ],
      "id": "ccabb020-f067-4967-9986-cffec9a3b545"
    },
    {
      "cell_type": "code",
      "execution_count": 10,
      "metadata": {},
      "outputs": [],
      "source": [
        "class JungKKuckMa:\n",
        "    def show(self):\n",
        "        _str = self.html_str.format(\n",
        "            ttl = self.title,\n",
        "            url = self.imgurl,\n",
        "            Q = self.ques,\n",
        "            A = self.ans,\n",
        "            hl = self.highlight\n",
        "        )\n",
        "        display(HTML(_str)) "
      ],
      "id": "ebf5f15f-ed95-4eae-bc96-116532a21179"
    },
    {
      "cell_type": "code",
      "execution_count": 11,
      "metadata": {},
      "outputs": [],
      "source": [
        "pp2023 = JungKKuckMa()"
      ],
      "id": "424c0e19-78d0-4054-9a62-93ee3717fef8"
    },
    {
      "cell_type": "code",
      "execution_count": 3,
      "metadata": {},
      "outputs": [],
      "source": [
        "class JungKKuckMa:\n",
        "    def __init__(self):\n",
        "        self.title = '버거킹 신메뉴 등장'\n",
        "        self.imgurl = 'https://image-cdn.hypb.st/https%3A%2F%2Fkr.hypebeast.com%2Ffiles%2F2023%2F10%2Fhamburgerking-2023.jpg?cbr=1&q=90'\n",
        "        self.ques = \"Q: 햄버거 남겨도 괜찮을까??\"\n",
        "        self.ans = \"A: 너는 다 먹을수 있어\"\n",
        "        self.highlight = '마음'\n",
        "        self.html_str =\\\n",
        "        '''\n",
        "        <style>\n",
        "            .title {{\n",
        "                font-family: \"Times New Roman\", serif;\n",
        "                font-size: 30px;\n",
        "                font-weight: 900;\n",
        "            }}\n",
        "            .text {{\n",
        "                font-family: \"Arial\", sans-serif;\n",
        "                font-size: 20px;\n",
        "                font-style: italic;\n",
        "            }}\n",
        "            .highlight {{\n",
        "                font-family: \"Montserrat\", monospace;\n",
        "                font-size: 35px;\n",
        "                font-weight: 900;\n",
        "                text-decoration: underline;\n",
        "                font-style: normal;\n",
        "                color: darkblue;\n",
        "                background-color: #FFFF00;\n",
        "            }}\n",
        "        </style>\n",
        "        <p class=\"title\">{ttl}</p>\n",
        "        <img src={url} width=\"600\">\n",
        "        <p> \\n </p>\n",
        "        <p class=\"text\">{Q}</p>\n",
        "        <p class=\"text\">{A}</p>\n",
        "        <p class=\"title\">중요한 것은 꺾이지 않는 <span class=\"highlight\">{hl}</span></p>\n",
        "        '''\n",
        "    def show(self):\n",
        "        _str = self.html_str.format(\n",
        "            ttl = self.title,\n",
        "            url = self.imgurl,\n",
        "            Q = self.ques,\n",
        "            A = self.ans,\n",
        "            hl = self.highlight\n",
        "        )\n",
        "        display(HTML(_str))"
      ],
      "id": "746f5bb3-bf0a-4bd7-813f-86c70ec7e682"
    },
    {
      "cell_type": "code",
      "execution_count": 4,
      "metadata": {},
      "outputs": [],
      "source": [
        "pp2023 = JungKKuckMa()"
      ],
      "id": "dd7e093b-b037-4220-970f-0250664ca4ef"
    },
    {
      "cell_type": "code",
      "execution_count": 7,
      "metadata": {},
      "outputs": [],
      "source": [
        "pp2023.show()"
      ],
      "id": "4c2471ed-d4b2-4f7e-a67f-84bbc19f6b2d"
    }
  ],
  "nbformat": 4,
  "nbformat_minor": 5,
  "metadata": {
    "kernelspec": {
      "name": "python3",
      "display_name": "Python 3 (ipykernel)",
      "language": "python"
    },
    "language_info": {
      "name": "python",
      "codemirror_mode": {
        "name": "ipython",
        "version": "3"
      },
      "file_extension": ".py",
      "mimetype": "text/x-python",
      "nbconvert_exporter": "python",
      "pygments_lexer": "ipython3",
      "version": "3.10.13"
    }
  }
}