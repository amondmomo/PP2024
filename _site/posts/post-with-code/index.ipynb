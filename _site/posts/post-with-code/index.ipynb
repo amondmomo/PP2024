{
  "cells": [
    {
      "cell_type": "markdown",
      "metadata": {},
      "source": [
        "# Post With Code\n",
        "\n",
        "Harlow Malloc  \n",
        "2024-02-21\n",
        "\n",
        "This is a post with executable code."
      ],
      "id": "5d94c83e-4ee2-40a3-ba28-5cdb6210f0bb"
    }
  ],
  "nbformat": 4,
  "nbformat_minor": 5,
  "metadata": {
    "kernelspec": {
      "display_name": "Python 3",
      "language": "python",
      "name": "python3"
    }
  }
}